{
  "nbformat": 4,
  "nbformat_minor": 0,
  "metadata": {
    "colab": {
      "name": "Copia di plexagonchallenge.ipynb",
      "provenance": [],
      "collapsed_sections": []
    },
    "kernelspec": {
      "name": "python3",
      "display_name": "Python 3"
    },
    "language_info": {
      "name": "python"
    },
    "accelerator": "GPU"
  },
  "cells": [
    {
      "cell_type": "markdown",
      "metadata": {
        "id": "hmg6CbLINQQ4"
      },
      "source": [
        "**CHALLENGE OVERVIEW**\n",
        "\n",
        "I try different techniques as suggested in the provided links:\n",
        "\n",
        "1.   REDUCE MODEL SIZE\n",
        "2.   PRUNING\n",
        "3.   QUANTIZATION\n",
        "4.   CLUSTERING\n",
        "5.   DISTILLATION\n",
        "\n",
        "**PHASE 1 - BASELINE** <br>\n",
        "I run the baseline training (the model as it is delivered), to be able to optimize and compare it.\n",
        "\n",
        "**PHASE 2 - REDUCE MODEL** <br>\n",
        "I decrease the size of every layer in the model to reduce the number of parameters and make the model faster (most naive approach). <br>\n",
        "n.b. I also try distillation to train a lighter model, but as I notice a better performance with the simple reduction I choose not to use Distillation.\n",
        "\n",
        "**PHASE 3 - OPTIMIZATION** <br>\n",
        "I experiment mentioned optimizations on given model by using them singularly or combining them. I then plot the results to find the best tradeoff among 3 criteria:\n",
        "\n",
        "\n",
        "*   Accuracy\n",
        "*   Time (Lower is better)\n",
        "*   Model weight (Lower is better)\n",
        "\n",
        "The reason is that I want to keep accuracy high while decreasing Time and Weight as much as possible as requested by the challange.\n",
        "\n",
        "Using the Reduced model and applying Quantization and then Pruning seems the best solution.\n",
        "This is because Redux operation hugely decreases model dimension. Also doing pruning as the last operations seems more beneficial, rather than using it before quantization.\n",
        "\n",
        "I choose the rqp model and save it as .h5 file.\n",
        "\n",
        "**PHASE 4 - COREML** <br>\n",
        "The third request is to convert the model to a supported format, preferably CoreML.\n",
        "I use the appropriate library to convert the model to a CoreML format to be easily used in an IOS environment.\n",
        "\n",
        "**EXTRA** <br>\n",
        "The \"run_model.py\" program is provided to classify a single image using the CoreML model in a MacOS environment. <br>\n",
        "Command: <br>\n",
        "python run_model.py --image *image_name* <br>\n",
        "--image default option is 'fashion1.png'\n"
      ]
    },
    {
      "cell_type": "code",
      "metadata": {
        "id": "x3XiYFRNk5Vh"
      },
      "source": [
        "import tensorflow as tf\n",
        "import numpy as np\n",
        "import os\n",
        "import time"
      ],
      "execution_count": null,
      "outputs": []
    },
    {
      "cell_type": "code",
      "metadata": {
        "id": "pIfh8hd5ljrF",
        "colab": {
          "base_uri": "https://localhost:8080/"
        },
        "outputId": "558e5879-5c06-4322-d083-a5854305e873"
      },
      "source": [
        "#Load the dataset.\n",
        "(x_train, y_train), (x_test, y_test) = tf.keras.datasets.fashion_mnist.load_data()"
      ],
      "execution_count": null,
      "outputs": [
        {
          "output_type": "stream",
          "text": [
            "Downloading data from https://storage.googleapis.com/tensorflow/tf-keras-datasets/train-labels-idx1-ubyte.gz\n",
            "32768/29515 [=================================] - 0s 0us/step\n",
            "Downloading data from https://storage.googleapis.com/tensorflow/tf-keras-datasets/train-images-idx3-ubyte.gz\n",
            "26427392/26421880 [==============================] - 0s 0us/step\n",
            "Downloading data from https://storage.googleapis.com/tensorflow/tf-keras-datasets/t10k-labels-idx1-ubyte.gz\n",
            "8192/5148 [===============================================] - 0s 0us/step\n",
            "Downloading data from https://storage.googleapis.com/tensorflow/tf-keras-datasets/t10k-images-idx3-ubyte.gz\n",
            "4423680/4422102 [==============================] - 0s 0us/step\n"
          ],
          "name": "stdout"
        }
      ]
    },
    {
      "cell_type": "code",
      "metadata": {
        "id": "ZbmJQ_EulozQ"
      },
      "source": [
        "#Add a trailing unitary dimension to make a 3D multidimensional array (tensor).\n",
        "# N x 28 x 28 --> N x 28 x 28 x 1\n",
        "x_train = np.expand_dims(x_train, -1)\n",
        "x_test = np.expand_dims(x_test, -1)"
      ],
      "execution_count": null,
      "outputs": []
    },
    {
      "cell_type": "code",
      "metadata": {
        "colab": {
          "base_uri": "https://localhost:8080/"
        },
        "id": "WRMMx-SNlr1t",
        "outputId": "8023e1eb-7d29-4ef1-ea97-0b0fd5173e56"
      },
      "source": [
        "#Convert the labels from integers to one-hot encoding.\n",
        "y_train = tf.keras.utils.to_categorical(y_train, 10)\n",
        "y_test = tf.keras.utils.to_categorical(y_test, 10)\n",
        "print(x_train.shape)\n",
        "print(y_train.shape)"
      ],
      "execution_count": null,
      "outputs": [
        {
          "output_type": "stream",
          "text": [
            "(60000, 28, 28, 1)\n",
            "(60000, 10)\n"
          ],
          "name": "stdout"
        }
      ]
    },
    {
      "cell_type": "code",
      "metadata": {
        "id": "uTGqkXWjlu71"
      },
      "source": [
        "LR = 1E-3 \n",
        "EPOCHS = 10\n",
        "BATCH_SIZE = 64"
      ],
      "execution_count": null,
      "outputs": []
    },
    {
      "cell_type": "code",
      "metadata": {
        "id": "kQQFM1KClxjy"
      },
      "source": [
        "# Define baseline (and redux) models and train/test functions\n",
        "def build_model(input_shape):\n",
        "    model = tf.keras.models.Sequential()\n",
        "\n",
        "    model.add(tf.keras.layers.BatchNormalization(input_shape=input_shape))\n",
        "    model.add(tf.keras.layers.Conv2D(64, (5, 5), padding='same', activation='elu'))\n",
        "    model.add(tf.keras.layers.MaxPooling2D(pool_size=(2, 2), strides=(2,2)))\n",
        "    model.add(tf.keras.layers.Dropout(0.25))\n",
        "\n",
        "    model.add(tf.keras.layers.BatchNormalization(input_shape=input_shape))\n",
        "    model.add(tf.keras.layers.Conv2D(128, (5, 5), padding='same', activation='elu'))\n",
        "    model.add(tf.keras.layers.MaxPooling2D(pool_size=(2, 2)))\n",
        "    model.add(tf.keras.layers.Dropout(0.25))\n",
        "\n",
        "    model.add(tf.keras.layers.BatchNormalization(input_shape=input_shape))\n",
        "    model.add(tf.keras.layers.Conv2D(256, (5, 5), padding='same', activation='elu'))\n",
        "    model.add(tf.keras.layers.MaxPooling2D(pool_size=(2, 2), strides=(2,2)))\n",
        "    model.add(tf.keras.layers.Dropout(0.25))\n",
        "\n",
        "    model.add(tf.keras.layers.Flatten())\n",
        "    model.add(tf.keras.layers.Dense(256))\n",
        "    model.add(tf.keras.layers.Activation('elu'))\n",
        "    model.add(tf.keras.layers.Dropout(0.5))\n",
        "    model.add(tf.keras.layers.Dense(10))\n",
        "    model.add(tf.keras.layers.Activation('softmax'))\n",
        "\n",
        "    return model\n",
        "\n",
        "# Reduced model using halved dimensions\n",
        "def build_model_reduced(input_shape):\n",
        "    model = tf.keras.models.Sequential()\n",
        "\n",
        "    model.add(tf.keras.layers.BatchNormalization(input_shape=input_shape))\n",
        "    model.add(tf.keras.layers.Conv2D(32, (5, 5), padding='same', activation='elu'))\n",
        "    model.add(tf.keras.layers.MaxPooling2D(pool_size=(2, 2), strides=(2,2)))\n",
        "    model.add(tf.keras.layers.Dropout(0.25))\n",
        "\n",
        "    model.add(tf.keras.layers.BatchNormalization(input_shape=input_shape))\n",
        "    model.add(tf.keras.layers.Conv2D(64, (5, 5), padding='same', activation='elu'))\n",
        "    model.add(tf.keras.layers.MaxPooling2D(pool_size=(2, 2)))\n",
        "    model.add(tf.keras.layers.Dropout(0.25))\n",
        "\n",
        "    model.add(tf.keras.layers.BatchNormalization(input_shape=input_shape))\n",
        "    model.add(tf.keras.layers.Conv2D(128, (5, 5), padding='same', activation='elu'))\n",
        "    model.add(tf.keras.layers.MaxPooling2D(pool_size=(2, 2), strides=(2,2)))\n",
        "    model.add(tf.keras.layers.Dropout(0.25))\n",
        "\n",
        "    model.add(tf.keras.layers.Flatten())\n",
        "    model.add(tf.keras.layers.Dense(128))\n",
        "    model.add(tf.keras.layers.Activation('elu'))\n",
        "    model.add(tf.keras.layers.Dropout(0.5))\n",
        "    model.add(tf.keras.layers.Dense(10))\n",
        "    model.add(tf.keras.layers.Activation('softmax'))\n",
        "\n",
        "    return model\n",
        "\n",
        "def train(x_train, y_train, x_test, y_test, redux = False):\n",
        "    \"\"\"\n",
        "    Train the model given the dataset and the global parameters (LR, EPOCHS and BATCH_SIZE).\n",
        "\n",
        "    The model is automalically saved after the training.\n",
        "\n",
        "    \"\"\"\n",
        "    if redux:\n",
        "      model = build_model_reduced(x_train.shape[1:])\n",
        "    else:\n",
        "      model = build_model(x_train.shape[1:])\n",
        "\n",
        "    model.compile(\n",
        "        optimizer=tf.keras.optimizers.Adam(learning_rate=LR),\n",
        "        loss='categorical_crossentropy',\n",
        "        metrics=['categorical_accuracy'],\n",
        "    )\n",
        "    print(model.summary())\n",
        "\n",
        "    start_time = time.time()\n",
        "\n",
        "    model.fit(\n",
        "        x=x_train.astype(np.float32),\n",
        "        y=y_train.astype(np.float32),\n",
        "        epochs=EPOCHS,\n",
        "        validation_data=(x_test.astype(np.float32), y_test.astype(np.float32)),\n",
        "        batch_size=BATCH_SIZE,\n",
        "    )\n",
        "\n",
        "    end_time = time.time()\n",
        "    print(\"Train elapsed time: {} seconds\".format(end_time - start_time))\n",
        "\n",
        "    if redux:\n",
        "      model.save(\"fashion_mnist_model_redux.tf\", overwrite=True)\n",
        "    else:\n",
        "      model.save(\"fashion_mnist_model.tf\", overwrite=True)\n",
        "    \n",
        "\n",
        "\n",
        "def test(x_test, y_test, redux = False):\n",
        "    \"\"\"\n",
        "    Load the saved model and evaluate it against the test set.\n",
        "    \"\"\"\n",
        "    if redux:\n",
        "      model = tf.keras.models.load_model(\"./fashion_mnist_model_redux.tf\")\n",
        "    else:\n",
        "      model = tf.keras.models.load_model(\"./fashion_mnist_model.tf\")\n",
        "\n",
        "    print(model.summary())\n",
        "\n",
        "    start_time = time.time()\n",
        "\n",
        "    model.evaluate(x_test, y_test)\n",
        "\n",
        "    end_time = time.time()\n",
        "    print(\"Test elapsed time: {} seconds\".format(end_time - start_time))\n"
      ],
      "execution_count": null,
      "outputs": []
    },
    {
      "cell_type": "code",
      "metadata": {
        "colab": {
          "base_uri": "https://localhost:8080/"
        },
        "id": "IjJHdck_l2CR",
        "outputId": "18e6e689-39b5-42df-f5d5-af5036576a04"
      },
      "source": [
        "# BASELINE\n",
        "train(x_train, y_train, x_test, y_test)\n",
        "test(x_test, y_test)"
      ],
      "execution_count": null,
      "outputs": [
        {
          "output_type": "stream",
          "text": [
            "Model: \"sequential\"\n",
            "_________________________________________________________________\n",
            "Layer (type)                 Output Shape              Param #   \n",
            "=================================================================\n",
            "batch_normalization (BatchNo (None, 28, 28, 1)         4         \n",
            "_________________________________________________________________\n",
            "conv2d (Conv2D)              (None, 28, 28, 64)        1664      \n",
            "_________________________________________________________________\n",
            "max_pooling2d (MaxPooling2D) (None, 14, 14, 64)        0         \n",
            "_________________________________________________________________\n",
            "dropout (Dropout)            (None, 14, 14, 64)        0         \n",
            "_________________________________________________________________\n",
            "batch_normalization_1 (Batch (None, 14, 14, 64)        256       \n",
            "_________________________________________________________________\n",
            "conv2d_1 (Conv2D)            (None, 14, 14, 128)       204928    \n",
            "_________________________________________________________________\n",
            "max_pooling2d_1 (MaxPooling2 (None, 7, 7, 128)         0         \n",
            "_________________________________________________________________\n",
            "dropout_1 (Dropout)          (None, 7, 7, 128)         0         \n",
            "_________________________________________________________________\n",
            "batch_normalization_2 (Batch (None, 7, 7, 128)         512       \n",
            "_________________________________________________________________\n",
            "conv2d_2 (Conv2D)            (None, 7, 7, 256)         819456    \n",
            "_________________________________________________________________\n",
            "max_pooling2d_2 (MaxPooling2 (None, 3, 3, 256)         0         \n",
            "_________________________________________________________________\n",
            "dropout_2 (Dropout)          (None, 3, 3, 256)         0         \n",
            "_________________________________________________________________\n",
            "flatten (Flatten)            (None, 2304)              0         \n",
            "_________________________________________________________________\n",
            "dense (Dense)                (None, 256)               590080    \n",
            "_________________________________________________________________\n",
            "activation (Activation)      (None, 256)               0         \n",
            "_________________________________________________________________\n",
            "dropout_3 (Dropout)          (None, 256)               0         \n",
            "_________________________________________________________________\n",
            "dense_1 (Dense)              (None, 10)                2570      \n",
            "_________________________________________________________________\n",
            "activation_1 (Activation)    (None, 10)                0         \n",
            "=================================================================\n",
            "Total params: 1,619,470\n",
            "Trainable params: 1,619,084\n",
            "Non-trainable params: 386\n",
            "_________________________________________________________________\n",
            "None\n",
            "Epoch 1/10\n",
            "938/938 [==============================] - 43s 12ms/step - loss: 0.6561 - categorical_accuracy: 0.7861 - val_loss: 0.3555 - val_categorical_accuracy: 0.8688\n",
            "Epoch 2/10\n",
            "938/938 [==============================] - 10s 11ms/step - loss: 0.3831 - categorical_accuracy: 0.8616 - val_loss: 0.3251 - val_categorical_accuracy: 0.8835\n",
            "Epoch 3/10\n",
            "938/938 [==============================] - 10s 10ms/step - loss: 0.3297 - categorical_accuracy: 0.8806 - val_loss: 0.3095 - val_categorical_accuracy: 0.8922\n",
            "Epoch 4/10\n",
            "938/938 [==============================] - 10s 10ms/step - loss: 0.2997 - categorical_accuracy: 0.8924 - val_loss: 0.2891 - val_categorical_accuracy: 0.8984\n",
            "Epoch 5/10\n",
            "938/938 [==============================] - 10s 11ms/step - loss: 0.2840 - categorical_accuracy: 0.8975 - val_loss: 0.2765 - val_categorical_accuracy: 0.9023\n",
            "Epoch 6/10\n",
            "938/938 [==============================] - 10s 10ms/step - loss: 0.2665 - categorical_accuracy: 0.9025 - val_loss: 0.2628 - val_categorical_accuracy: 0.9104\n",
            "Epoch 7/10\n",
            "938/938 [==============================] - 10s 11ms/step - loss: 0.2573 - categorical_accuracy: 0.9069 - val_loss: 0.2664 - val_categorical_accuracy: 0.9018\n",
            "Epoch 8/10\n",
            "938/938 [==============================] - 10s 11ms/step - loss: 0.2414 - categorical_accuracy: 0.9113 - val_loss: 0.2605 - val_categorical_accuracy: 0.9106\n",
            "Epoch 9/10\n",
            "938/938 [==============================] - 10s 11ms/step - loss: 0.2313 - categorical_accuracy: 0.9156 - val_loss: 0.2808 - val_categorical_accuracy: 0.9102\n",
            "Epoch 10/10\n",
            "938/938 [==============================] - 10s 11ms/step - loss: 0.2231 - categorical_accuracy: 0.9186 - val_loss: 0.2585 - val_categorical_accuracy: 0.9108\n",
            "Train elapsed time: 131.75728249549866 seconds\n",
            "INFO:tensorflow:Assets written to: fashion_mnist_model.tf/assets\n",
            "Model: \"sequential\"\n",
            "_________________________________________________________________\n",
            "Layer (type)                 Output Shape              Param #   \n",
            "=================================================================\n",
            "batch_normalization (BatchNo (None, 28, 28, 1)         4         \n",
            "_________________________________________________________________\n",
            "conv2d (Conv2D)              (None, 28, 28, 64)        1664      \n",
            "_________________________________________________________________\n",
            "max_pooling2d (MaxPooling2D) (None, 14, 14, 64)        0         \n",
            "_________________________________________________________________\n",
            "dropout (Dropout)            (None, 14, 14, 64)        0         \n",
            "_________________________________________________________________\n",
            "batch_normalization_1 (Batch (None, 14, 14, 64)        256       \n",
            "_________________________________________________________________\n",
            "conv2d_1 (Conv2D)            (None, 14, 14, 128)       204928    \n",
            "_________________________________________________________________\n",
            "max_pooling2d_1 (MaxPooling2 (None, 7, 7, 128)         0         \n",
            "_________________________________________________________________\n",
            "dropout_1 (Dropout)          (None, 7, 7, 128)         0         \n",
            "_________________________________________________________________\n",
            "batch_normalization_2 (Batch (None, 7, 7, 128)         512       \n",
            "_________________________________________________________________\n",
            "conv2d_2 (Conv2D)            (None, 7, 7, 256)         819456    \n",
            "_________________________________________________________________\n",
            "max_pooling2d_2 (MaxPooling2 (None, 3, 3, 256)         0         \n",
            "_________________________________________________________________\n",
            "dropout_2 (Dropout)          (None, 3, 3, 256)         0         \n",
            "_________________________________________________________________\n",
            "flatten (Flatten)            (None, 2304)              0         \n",
            "_________________________________________________________________\n",
            "dense (Dense)                (None, 256)               590080    \n",
            "_________________________________________________________________\n",
            "activation (Activation)      (None, 256)               0         \n",
            "_________________________________________________________________\n",
            "dropout_3 (Dropout)          (None, 256)               0         \n",
            "_________________________________________________________________\n",
            "dense_1 (Dense)              (None, 10)                2570      \n",
            "_________________________________________________________________\n",
            "activation_1 (Activation)    (None, 10)                0         \n",
            "=================================================================\n",
            "Total params: 1,619,470\n",
            "Trainable params: 1,619,084\n",
            "Non-trainable params: 386\n",
            "_________________________________________________________________\n",
            "None\n",
            "313/313 [==============================] - 1s 4ms/step - loss: 0.2585 - categorical_accuracy: 0.9108\n",
            "Test elapsed time: 1.4244866371154785 seconds\n"
          ],
          "name": "stdout"
        }
      ]
    },
    {
      "cell_type": "code",
      "metadata": {
        "colab": {
          "base_uri": "https://localhost:8080/"
        },
        "id": "sDdCz-Ir_AdR",
        "outputId": "ec7f1387-abbd-4d6b-be84-37ddf0c98cf8"
      },
      "source": [
        "#model dimension\n",
        "!du -h fashion_mnist_model.tf"
      ],
      "execution_count": null,
      "outputs": [
        {
          "output_type": "stream",
          "text": [
            "4.0K\tfashion_mnist_model.tf/assets\n",
            "19M\tfashion_mnist_model.tf/variables\n",
            "19M\tfashion_mnist_model.tf\n"
          ],
          "name": "stdout"
        }
      ]
    },
    {
      "cell_type": "code",
      "metadata": {
        "id": "UctEE8m-siux",
        "colab": {
          "base_uri": "https://localhost:8080/"
        },
        "outputId": "2dea8751-4baf-45b7-b714-ffc1863c3079"
      },
      "source": [
        "!pip install -q tensorflow-model-optimization"
      ],
      "execution_count": null,
      "outputs": [
        {
          "output_type": "stream",
          "text": [
            "\u001b[?25l\r\u001b[K     |██                              | 10kB 27.5MB/s eta 0:00:01\r\u001b[K     |███▉                            | 20kB 16.5MB/s eta 0:00:01\r\u001b[K     |█████▊                          | 30kB 14.7MB/s eta 0:00:01\r\u001b[K     |███████▋                        | 40kB 13.6MB/s eta 0:00:01\r\u001b[K     |█████████▌                      | 51kB 7.6MB/s eta 0:00:01\r\u001b[K     |███████████▍                    | 61kB 8.9MB/s eta 0:00:01\r\u001b[K     |█████████████▎                  | 71kB 8.6MB/s eta 0:00:01\r\u001b[K     |███████████████▏                | 81kB 9.3MB/s eta 0:00:01\r\u001b[K     |█████████████████               | 92kB 8.8MB/s eta 0:00:01\r\u001b[K     |███████████████████             | 102kB 7.4MB/s eta 0:00:01\r\u001b[K     |████████████████████▉           | 112kB 7.4MB/s eta 0:00:01\r\u001b[K     |██████████████████████▊         | 122kB 7.4MB/s eta 0:00:01\r\u001b[K     |████████████████████████▊       | 133kB 7.4MB/s eta 0:00:01\r\u001b[K     |██████████████████████████▋     | 143kB 7.4MB/s eta 0:00:01\r\u001b[K     |████████████████████████████▌   | 153kB 7.4MB/s eta 0:00:01\r\u001b[K     |██████████████████████████████▍ | 163kB 7.4MB/s eta 0:00:01\r\u001b[K     |████████████████████████████████| 174kB 7.4MB/s \n",
            "\u001b[?25h"
          ],
          "name": "stdout"
        }
      ]
    },
    {
      "cell_type": "markdown",
      "metadata": {
        "id": "qz0Y7gqpOqzD"
      },
      "source": [
        "**OPTIMIZATION FUNCTIONS DEFINITION**\n",
        "\n",
        "\n"
      ]
    },
    {
      "cell_type": "code",
      "metadata": {
        "id": "Dzp-KMDfonA2"
      },
      "source": [
        "#1 PRUNING\n",
        "import tensorflow_model_optimization as tfmot\n",
        "\n",
        "def prune_model(model):\n",
        "  prune_low_magnitude = tfmot.sparsity.keras.prune_low_magnitude\n",
        "\n",
        "  # Compute end step to finish pruning after 2 epochs.\n",
        "  batch_size = 128\n",
        "  epochs = 2\n",
        "  validation_split = 0.1 # 10% of training set will be used for validation set. \n",
        "\n",
        "  num_images = x_train.shape[0] * (1 - validation_split)\n",
        "  end_step = np.ceil(num_images / batch_size).astype(np.int32) * epochs\n",
        "\n",
        "  # Define model for pruning.\n",
        "  pruning_params = {\n",
        "        'pruning_schedule': tfmot.sparsity.keras.PolynomialDecay(initial_sparsity=0.50,\n",
        "                                                                final_sparsity=0.80,\n",
        "                                                                begin_step=0,\n",
        "                                                                end_step=end_step)\n",
        "  }\n",
        "\n",
        "  model_for_pruning = prune_low_magnitude(model, **pruning_params)\n",
        "\n",
        "  # `prune_low_magnitude` requires a recompile.\n",
        "  model_for_pruning.compile(optimizer='adam',\n",
        "                loss=tf.keras.losses.CategoricalCrossentropy(from_logits=True),\n",
        "                metrics=['accuracy'])\n",
        "\n",
        "  print(model_for_pruning.summary())\n",
        "\n",
        "  model_for_pruning.save(\"pruned_model.tf\", overwrite=True)\n",
        "  dimension = !du -h pruned_model.tf\n",
        "\n",
        "  print(dimension)\n",
        "\n",
        "  logdir = './'\n",
        "\n",
        "  callbacks = [\n",
        "    tfmot.sparsity.keras.UpdatePruningStep(),\n",
        "    tfmot.sparsity.keras.PruningSummaries(log_dir=logdir),\n",
        "  ]\n",
        "\n",
        "  model_for_pruning.fit(x_train, y_train,\n",
        "                    batch_size=batch_size, epochs=epochs, validation_split=validation_split,\n",
        "                    callbacks=callbacks)\n",
        "  \n",
        "  start_time = time.time()\n",
        "\n",
        "  _, model_for_pruning_accuracy = model_for_pruning.evaluate(\n",
        "    x_test, y_test, verbose=0)\n",
        "\n",
        "  end_time = time.time()\n",
        "\n",
        "  prune_time = end_time - start_time \n",
        "  print(\"Test elapsed time: {} seconds\".format(end_time - start_time)) \n",
        "  print('Pruned test accuracy:', model_for_pruning_accuracy)\n",
        "\n",
        "  return model, [model_for_pruning_accuracy, prune_time, float(dimension[2].split('M')[0])]\n"
      ],
      "execution_count": null,
      "outputs": []
    },
    {
      "cell_type": "code",
      "metadata": {
        "id": "r7pXwbfM5VSW"
      },
      "source": [
        "#2 QUANTIZATION\n",
        "\n",
        "def apply_quantization_to_all(layer):\n",
        "  if isinstance(layer, (#tf.keras.layers.Dense\n",
        "                        #tf.keras.layers.Conv2D \n",
        "                        tf.keras.layers.MaxPooling2D, \n",
        "                        tf.keras.layers.Dropout\n",
        "                        )):\n",
        "    return tfmot.quantization.keras.quantize_annotate_layer(layer)\n",
        "  return layer\n",
        "\n",
        "model = tf.keras.models.load_model(\"./fashion_mnist_model.tf\")\n",
        "\n",
        "annotated_model = tf.keras.models.clone_model(\n",
        "    model,\n",
        "    clone_function=apply_quantization_to_all,\n",
        ")\n",
        "\n",
        "def quant_model(model):\n",
        "  quantize_model = tfmot.quantization.keras.quantize_model\n",
        "\n",
        "  # q_aware stands for for quantization aware.\n",
        "  #q_aware_model = quantize_model(annotated_model)\n",
        "  q_aware_model = tfmot.quantization.keras.quantize_apply(annotated_model)\n",
        "\n",
        "  # `quantize_model` requires a recompile.\n",
        "  q_aware_model.compile(optimizer='adam',\n",
        "                loss=tf.keras.losses.CategoricalCrossentropy(from_logits=True),\n",
        "                metrics=['accuracy'])\n",
        "\n",
        "  print(q_aware_model.summary())\n",
        "\n",
        "  q_aware_model.save(\"quant_model.tf\", overwrite=True)\n",
        "  dimension = !du -h quant_model.tf \n",
        "  print(dimension)\n",
        "\n",
        "  train_images_subset = x_train[0:1000] # out of 60000\n",
        "  train_labels_subset = y_train[0:1000]\n",
        "\n",
        "  q_aware_model.fit(train_images_subset, train_labels_subset,\n",
        "                    batch_size=500, epochs=1, validation_split=0.1)\n",
        "  \n",
        "  start_time = time.time()\n",
        "\n",
        "  _, q_aware_model_accuracy = q_aware_model.evaluate(\n",
        "    x_test, y_test, verbose=0)\n",
        "\n",
        "  end_time = time.time()\n",
        "  quant_time = end_time - start_time\n",
        "  print(\"Test elapsed time: {} seconds\".format(end_time - start_time)) \n",
        "  print('Pruned test accuracy:', q_aware_model_accuracy)\n",
        "\n",
        "  print(q_aware_model_accuracy, quant_time, dimension[2])\n",
        "\n",
        "  return model, [q_aware_model_accuracy, quant_time, float(dimension[2].split('M')[0])]"
      ],
      "execution_count": null,
      "outputs": []
    },
    {
      "cell_type": "code",
      "metadata": {
        "id": "cZJDwdYb-Tet"
      },
      "source": [
        "#3 Weight Clustering\n",
        "\n",
        "def cluster_model(model):\n",
        "  model = tf.keras.models.load_model(\"./fashion_mnist_model.tf\")\n",
        "\n",
        "  cluster_weights = tfmot.clustering.keras.cluster_weights\n",
        "  CentroidInitialization = tfmot.clustering.keras.CentroidInitialization\n",
        "\n",
        "  clustering_params = {\n",
        "    'number_of_clusters': 10,\n",
        "    'cluster_centroids_init': CentroidInitialization.LINEAR\n",
        "  }\n",
        "\n",
        "  clustered_model = cluster_weights(model, **clustering_params)\n",
        "\n",
        "  # Use smaller learning rate for fine-tuning clustered model\n",
        "  opt = tf.keras.optimizers.Adam(learning_rate=1e-5)\n",
        "\n",
        "  clustered_model.compile(\n",
        "    loss=tf.keras.losses.CategoricalCrossentropy(from_logits=True),\n",
        "    optimizer=opt,\n",
        "    metrics=['accuracy'])\n",
        "\n",
        "  print(clustered_model.summary())\n",
        "\n",
        "  # Fine-tune model\n",
        "  clustered_model.fit(\n",
        "    x_train,\n",
        "    y_train,\n",
        "    batch_size=500,\n",
        "    epochs=1,\n",
        "    validation_split=0.1)\n",
        "  \n",
        "  start_time = time.time()\n",
        "\n",
        "  _, clustered_model_accuracy = clustered_model.evaluate(\n",
        "    x_test, y_test, verbose=0)\n",
        "\n",
        "  end_time = time.time()\n",
        "\n",
        "  clust_time = end_time - start_time \n",
        "  print(\"Test elapsed time: {} seconds\".format(end_time - start_time)) \n",
        "  print('Clustered test accuracy:', clustered_model_accuracy)\n",
        "\n",
        "  clustered_model.save(\"cluster_model.tf\", overwrite=True)\n",
        "  dimension = !du -h cluster_model.tf\n",
        "  print(dimension)\n",
        "\n",
        "  return model, [clustered_model_accuracy, clust_time, float(dimension[2].split('M')[0])]"
      ],
      "execution_count": null,
      "outputs": []
    },
    {
      "cell_type": "code",
      "metadata": {
        "id": "hQ2Jw7jfpZyj"
      },
      "source": [
        "#4 Distillation\n",
        "\n",
        "class Distiller(tf.keras.Model):\n",
        "    def __init__(self, student, teacher):\n",
        "        super(Distiller, self).__init__()\n",
        "        self.teacher = teacher\n",
        "        self.student = student\n",
        "\n",
        "    def compile(\n",
        "        self,\n",
        "        optimizer,\n",
        "        metrics,\n",
        "        student_loss_fn,\n",
        "        distillation_loss_fn,\n",
        "        alpha=0.1,\n",
        "        temperature=10,\n",
        "    ):\n",
        "        \"\"\" Configure the distiller.\n",
        "\n",
        "        Args:\n",
        "            optimizer: Keras optimizer for the student weights\n",
        "            metrics: Keras metrics for evaluation\n",
        "            student_loss_fn: Loss function of difference between student\n",
        "                predictions and ground-truth\n",
        "            distillation_loss_fn: Loss function of difference between soft\n",
        "                student predictions and soft teacher predictions\n",
        "            alpha: weight to student_loss_fn and 1-alpha to distillation_loss_fn\n",
        "            temperature: Temperature for softening probability distributions.\n",
        "                Larger temperature gives softer distributions.\n",
        "        \"\"\"\n",
        "        super(Distiller, self).compile(optimizer=optimizer, metrics=metrics)\n",
        "        self.student_loss_fn = student_loss_fn\n",
        "        self.distillation_loss_fn = distillation_loss_fn\n",
        "        self.alpha = alpha\n",
        "        self.temperature = temperature\n",
        "\n",
        "    def train_step(self, data):\n",
        "        # Unpack data\n",
        "        x, y = data\n",
        "\n",
        "        # Forward pass of teacher\n",
        "        teacher_predictions = self.teacher(x, training=False)\n",
        "\n",
        "        with tf.GradientTape() as tape:\n",
        "            # Forward pass of student\n",
        "            student_predictions = self.student(x, training=True)\n",
        "\n",
        "            # Compute losses\n",
        "            student_loss = self.student_loss_fn(y, student_predictions)\n",
        "            distillation_loss = self.distillation_loss_fn(\n",
        "                tf.nn.softmax(teacher_predictions / self.temperature, axis=1),\n",
        "                tf.nn.softmax(student_predictions / self.temperature, axis=1),\n",
        "            )\n",
        "            loss = self.alpha * student_loss + (1 - self.alpha) * distillation_loss\n",
        "\n",
        "        # Compute gradients\n",
        "        trainable_vars = self.student.trainable_variables\n",
        "        gradients = tape.gradient(loss, trainable_vars)\n",
        "\n",
        "        # Update weights\n",
        "        self.optimizer.apply_gradients(zip(gradients, trainable_vars))\n",
        "\n",
        "        # Update the metrics configured in `compile()`.\n",
        "        self.compiled_metrics.update_state(y, student_predictions)\n",
        "\n",
        "        # Return a dict of performance\n",
        "        results = {m.name: m.result() for m in self.metrics}\n",
        "        results.update(\n",
        "            {\"student_loss\": student_loss, \"distillation_loss\": distillation_loss}\n",
        "        )\n",
        "        return results\n",
        "\n",
        "    def test_step(self, data):\n",
        "        # Unpack the data\n",
        "        x, y = data\n",
        "\n",
        "        # Compute predictions\n",
        "        y_prediction = self.student(x, training=False)\n",
        "\n",
        "        # Calculate the loss\n",
        "        student_loss = self.student_loss_fn(y, y_prediction)\n",
        "\n",
        "        # Update the metrics.\n",
        "        self.compiled_metrics.update_state(y, y_prediction)\n",
        "\n",
        "        # Return a dict of performance\n",
        "        results = {m.name: m.result() for m in self.metrics}\n",
        "        results.update({\"student_loss\": student_loss})\n",
        "        return results\n",
        "\n",
        "# Create the student\n",
        "def get_student(input_shape):\n",
        "  student = tf.keras.models.Sequential()\n",
        "\n",
        "  student.add(tf.keras.layers.BatchNormalization(input_shape=input_shape))\n",
        "  student.add(tf.keras.layers.Conv2D(64, (5, 5), padding='same', activation='elu'))\n",
        "  student.add(tf.keras.layers.MaxPooling2D(pool_size=(2, 2), strides=(2,2)))\n",
        "  student.add(tf.keras.layers.Dropout(0.25))\n",
        "\n",
        "  student.add(tf.keras.layers.BatchNormalization(input_shape=input_shape))\n",
        "  student.add(tf.keras.layers.Conv2D(128, (5, 5), padding='same', activation='elu'))\n",
        "  student.add(tf.keras.layers.MaxPooling2D(pool_size=(2, 2)))\n",
        "  student.add(tf.keras.layers.Dropout(0.25))\n",
        "\n",
        "  student.add(tf.keras.layers.BatchNormalization(input_shape=input_shape))\n",
        "  student.add(tf.keras.layers.Conv2D(256, (5, 5), padding='same', activation='elu'))\n",
        "  student.add(tf.keras.layers.MaxPooling2D(pool_size=(2, 2), strides=(2,2)))\n",
        "  student.add(tf.keras.layers.Dropout(0.25))\n",
        "\n",
        "  student.add(tf.keras.layers.Flatten())\n",
        "  student.add(tf.keras.layers.Dense(256))\n",
        "  student.add(tf.keras.layers.Activation('elu'))\n",
        "  student.add(tf.keras.layers.Dropout(0.5))\n",
        "  student.add(tf.keras.layers.Dense(10))\n",
        "  student.add(tf.keras.layers.Activation('softmax'))\n",
        "\n",
        "  return student\n",
        "\n",
        "def distill_model(model):\n",
        "  teacher = model\n",
        "  student = get_student(x_train.shape[1:])\n",
        "\n",
        "  # Clone student for later comparison\n",
        "  student_scratch = tf.keras.models.clone_model(student)\n",
        "\n",
        "  # Initialize and compile distiller\n",
        "  distiller = Distiller(student=student, teacher=teacher)\n",
        "  distiller.compile(\n",
        "      optimizer=tf.keras.optimizers.Adam(),\n",
        "      metrics=[tf.keras.metrics.CategoricalAccuracy()],\n",
        "      student_loss_fn=tf.keras.losses.CategoricalCrossentropy(from_logits=True),\n",
        "      distillation_loss_fn=tf.keras.losses.KLDivergence(),\n",
        "      alpha=0.1,\n",
        "      temperature=10,\n",
        "  )\n",
        "\n",
        "  print(x_train.shape, y_train.shape)\n",
        "  # Distill teacher to student\n",
        "  distiller.fit(x_train, y_train, epochs=10)\n",
        "\n",
        "  # Evaluate student on test dataset\n",
        "  distiller.evaluate(x_test, y_test)\n",
        "\n",
        "  return distiller"
      ],
      "execution_count": null,
      "outputs": []
    },
    {
      "cell_type": "code",
      "metadata": {
        "colab": {
          "base_uri": "https://localhost:8080/"
        },
        "id": "x36BMSGbsc8j",
        "outputId": "95f8a4d9-1d1b-4b66-9c5a-0a1b95502f22"
      },
      "source": [
        "#Run Distillation t 10 ep 10\n",
        "## n.b. here I notice poor performance and decide to drop it\n",
        "model = tf.keras.models.load_model(\"./fashion_mnist_model.tf\")\n",
        "distilled_model = distill_model(model)"
      ],
      "execution_count": null,
      "outputs": [
        {
          "output_type": "stream",
          "text": [
            "(60000, 28, 28, 1) (60000, 10)\n",
            "Epoch 1/10\n"
          ],
          "name": "stdout"
        },
        {
          "output_type": "stream",
          "text": [
            "/usr/local/lib/python3.7/dist-packages/tensorflow/python/keras/backend.py:4870: UserWarning: \"`categorical_crossentropy` received `from_logits=True`, but the `output` argument was produced by a sigmoid or softmax activation and thus does not represent logits. Was this intended?\"\n",
            "  '\"`categorical_crossentropy` received `from_logits=True`, but '\n"
          ],
          "name": "stderr"
        },
        {
          "output_type": "stream",
          "text": [
            "1875/1875 [==============================] - 17s 8ms/step - categorical_accuracy: 0.7887 - student_loss: 0.6583 - distillation_loss: 1.1491e-04\n",
            "Epoch 2/10\n",
            "1875/1875 [==============================] - 16s 8ms/step - categorical_accuracy: 0.8573 - student_loss: 0.4088 - distillation_loss: 6.4139e-05\n",
            "Epoch 3/10\n",
            "1875/1875 [==============================] - 16s 8ms/step - categorical_accuracy: 0.8706 - student_loss: 0.3679 - distillation_loss: 5.4139e-05\n",
            "Epoch 4/10\n",
            "1875/1875 [==============================] - 16s 8ms/step - categorical_accuracy: 0.8812 - student_loss: 0.3381 - distillation_loss: 4.8437e-05\n",
            "Epoch 5/10\n",
            "1875/1875 [==============================] - 16s 8ms/step - categorical_accuracy: 0.8873 - student_loss: 0.3177 - distillation_loss: 4.4678e-05\n",
            "Epoch 6/10\n",
            "1875/1875 [==============================] - 16s 8ms/step - categorical_accuracy: 0.8917 - student_loss: 0.3020 - distillation_loss: 4.2311e-05\n",
            "Epoch 7/10\n",
            "1875/1875 [==============================] - 16s 8ms/step - categorical_accuracy: 0.8978 - student_loss: 0.2842 - distillation_loss: 3.9560e-05\n",
            "Epoch 8/10\n",
            "1875/1875 [==============================] - 16s 9ms/step - categorical_accuracy: 0.9036 - student_loss: 0.2733 - distillation_loss: 3.7488e-05\n",
            "Epoch 9/10\n",
            "1875/1875 [==============================] - 16s 9ms/step - categorical_accuracy: 0.9088 - student_loss: 0.2584 - distillation_loss: 3.5607e-05\n",
            "Epoch 10/10\n",
            "1875/1875 [==============================] - 16s 9ms/step - categorical_accuracy: 0.9138 - student_loss: 0.2471 - distillation_loss: 3.4103e-05\n",
            "313/313 [==============================] - 1s 4ms/step - categorical_accuracy: 0.9102 - student_loss: 0.2839\n"
          ],
          "name": "stdout"
        }
      ]
    },
    {
      "cell_type": "code",
      "metadata": {
        "id": "1Voy8CVdyR3s",
        "colab": {
          "base_uri": "https://localhost:8080/"
        },
        "outputId": "13776327-4396-4722-da1b-ede388cd1a14"
      },
      "source": [
        "#Run Distillation\n",
        "## n.b. here I notice poor performance and decide to drop it\n",
        "distilled_model = distill_model(model)"
      ],
      "execution_count": null,
      "outputs": [
        {
          "output_type": "stream",
          "text": [
            "(60000, 28, 28, 1) (60000, 10)\n",
            "Epoch 1/10\n"
          ],
          "name": "stdout"
        },
        {
          "output_type": "stream",
          "text": [
            "/usr/local/lib/python3.7/dist-packages/tensorflow/python/keras/backend.py:4870: UserWarning: \"`categorical_crossentropy` received `from_logits=True`, but the `output` argument was produced by a sigmoid or softmax activation and thus does not represent logits. Was this intended?\"\n",
            "  '\"`categorical_crossentropy` received `from_logits=True`, but '\n"
          ],
          "name": "stderr"
        },
        {
          "output_type": "stream",
          "text": [
            "1875/1875 [==============================] - 17s 9ms/step - categorical_accuracy: 0.7860 - student_loss: 0.6622 - distillation_loss: 1.1683e-04\n",
            "Epoch 2/10\n",
            "1875/1875 [==============================] - 16s 9ms/step - categorical_accuracy: 0.8566 - student_loss: 0.4105 - distillation_loss: 6.3861e-05\n",
            "Epoch 3/10\n",
            "1875/1875 [==============================] - 16s 9ms/step - categorical_accuracy: 0.8719 - student_loss: 0.3595 - distillation_loss: 5.2701e-05\n",
            "Epoch 4/10\n",
            "1875/1875 [==============================] - 16s 9ms/step - categorical_accuracy: 0.8795 - student_loss: 0.3399 - distillation_loss: 4.8572e-05\n",
            "Epoch 5/10\n",
            "1875/1875 [==============================] - 16s 9ms/step - categorical_accuracy: 0.8846 - student_loss: 0.3248 - distillation_loss: 4.6136e-05\n",
            "Epoch 6/10\n",
            "1875/1875 [==============================] - 16s 9ms/step - categorical_accuracy: 0.8940 - student_loss: 0.3026 - distillation_loss: 4.1530e-05\n",
            "Epoch 7/10\n",
            "1875/1875 [==============================] - 16s 9ms/step - categorical_accuracy: 0.9007 - student_loss: 0.2809 - distillation_loss: 3.8032e-05\n",
            "Epoch 8/10\n",
            "1875/1875 [==============================] - 16s 9ms/step - categorical_accuracy: 0.9043 - student_loss: 0.2702 - distillation_loss: 3.7162e-05\n",
            "Epoch 9/10\n",
            "1875/1875 [==============================] - 16s 9ms/step - categorical_accuracy: 0.9096 - student_loss: 0.2569 - distillation_loss: 3.5527e-05\n",
            "Epoch 10/10\n",
            "1875/1875 [==============================] - 16s 9ms/step - categorical_accuracy: 0.9156 - student_loss: 0.2407 - distillation_loss: 3.3781e-05\n",
            "313/313 [==============================] - 1s 4ms/step - categorical_accuracy: 0.9040 - student_loss: 0.3051\n"
          ],
          "name": "stdout"
        }
      ]
    },
    {
      "cell_type": "markdown",
      "metadata": {
        "id": "sSwnU1CjPYsH"
      },
      "source": [
        "**PHASE 1 - BASELINE**"
      ]
    },
    {
      "cell_type": "code",
      "metadata": {
        "colab": {
          "base_uri": "https://localhost:8080/"
        },
        "id": "XKc86pv1Ngua",
        "outputId": "3402d844-2a50-48d9-a0cf-37ed6c764f43"
      },
      "source": [
        "# BASELINE\n",
        "model = tf.keras.models.load_model(\"./fashion_mnist_model.tf\")\n",
        "start_time = time.time()\n",
        "\n",
        "_, model_accuracy = model.evaluate(x_test, y_test)\n",
        "\n",
        "end_time = time.time()\n",
        "\n",
        "baseline_time = end_time - start_time \n",
        "print('Baseline test accuracy:', model_accuracy)\n",
        "print(\"Test elapsed time: {} seconds\".format(end_time - start_time))\n",
        "\n",
        "baseline_dim = !du -h fashion_mnist_model.tf\n",
        "baseline_dim = float(baseline_dim[2].split('M')[0])\n"
      ],
      "execution_count": null,
      "outputs": [
        {
          "output_type": "stream",
          "text": [
            "313/313 [==============================] - 1s 4ms/step - loss: 0.2585 - categorical_accuracy: 0.9108\n",
            "Baseline test accuracy: 0.9107999801635742\n",
            "Test elapsed time: 1.434041976928711 seconds\n"
          ],
          "name": "stdout"
        }
      ]
    },
    {
      "cell_type": "markdown",
      "metadata": {
        "id": "fbvjqRC4mV1d"
      },
      "source": [
        "**PHASE 2 - REDUCE MODEL**"
      ]
    },
    {
      "cell_type": "code",
      "metadata": {
        "colab": {
          "base_uri": "https://localhost:8080/"
        },
        "id": "Z3xCVCHPNjQq",
        "outputId": "7dafed41-b6ba-4ac9-8bdb-7cc9f6bc6af7"
      },
      "source": [
        "# REDUX (model with reduced dimensions)\n",
        "train(x_train, y_train, x_test, y_test, redux = True)\n",
        "#test(x_test, y_test, redux = True)\n",
        "\n",
        "model = tf.keras.models.load_model(\"./fashion_mnist_model_redux.tf\")\n",
        "start_time = time.time()\n",
        "\n",
        "_, redux_accuracy = model.evaluate(x_test, y_test)\n",
        "\n",
        "end_time = time.time()\n",
        "\n",
        "redux_time = end_time - start_time \n",
        "print('Redux test accuracy:', model_accuracy)\n",
        "print(\"Test elapsed time: {} seconds\".format(end_time - start_time))\n",
        "\n",
        "redux_dim = !du -h fashion_mnist_model_redux.tf\n",
        "redux_dim = float(redux_dim[2].split('M')[0])"
      ],
      "execution_count": null,
      "outputs": [
        {
          "output_type": "stream",
          "text": [
            "Model: \"sequential_3\"\n",
            "_________________________________________________________________\n",
            "Layer (type)                 Output Shape              Param #   \n",
            "=================================================================\n",
            "batch_normalization_9 (Batch (None, 28, 28, 1)         4         \n",
            "_________________________________________________________________\n",
            "conv2d_9 (Conv2D)            (None, 28, 28, 32)        832       \n",
            "_________________________________________________________________\n",
            "max_pooling2d_9 (MaxPooling2 (None, 14, 14, 32)        0         \n",
            "_________________________________________________________________\n",
            "dropout_12 (Dropout)         (None, 14, 14, 32)        0         \n",
            "_________________________________________________________________\n",
            "batch_normalization_10 (Batc (None, 14, 14, 32)        128       \n",
            "_________________________________________________________________\n",
            "conv2d_10 (Conv2D)           (None, 14, 14, 64)        51264     \n",
            "_________________________________________________________________\n",
            "max_pooling2d_10 (MaxPooling (None, 7, 7, 64)          0         \n",
            "_________________________________________________________________\n",
            "dropout_13 (Dropout)         (None, 7, 7, 64)          0         \n",
            "_________________________________________________________________\n",
            "batch_normalization_11 (Batc (None, 7, 7, 64)          256       \n",
            "_________________________________________________________________\n",
            "conv2d_11 (Conv2D)           (None, 7, 7, 128)         204928    \n",
            "_________________________________________________________________\n",
            "max_pooling2d_11 (MaxPooling (None, 3, 3, 128)         0         \n",
            "_________________________________________________________________\n",
            "dropout_14 (Dropout)         (None, 3, 3, 128)         0         \n",
            "_________________________________________________________________\n",
            "flatten_3 (Flatten)          (None, 1152)              0         \n",
            "_________________________________________________________________\n",
            "dense_6 (Dense)              (None, 128)               147584    \n",
            "_________________________________________________________________\n",
            "activation_6 (Activation)    (None, 128)               0         \n",
            "_________________________________________________________________\n",
            "dropout_15 (Dropout)         (None, 128)               0         \n",
            "_________________________________________________________________\n",
            "dense_7 (Dense)              (None, 10)                1290      \n",
            "_________________________________________________________________\n",
            "activation_7 (Activation)    (None, 10)                0         \n",
            "=================================================================\n",
            "Total params: 406,286\n",
            "Trainable params: 406,092\n",
            "Non-trainable params: 194\n",
            "_________________________________________________________________\n",
            "None\n",
            "Epoch 1/10\n",
            "938/938 [==============================] - 7s 6ms/step - loss: 0.6281 - categorical_accuracy: 0.7887 - val_loss: 0.3956 - val_categorical_accuracy: 0.8538\n",
            "Epoch 2/10\n",
            "938/938 [==============================] - 6s 6ms/step - loss: 0.3775 - categorical_accuracy: 0.8634 - val_loss: 0.3078 - val_categorical_accuracy: 0.8856\n",
            "Epoch 3/10\n",
            "938/938 [==============================] - 6s 6ms/step - loss: 0.3282 - categorical_accuracy: 0.8815 - val_loss: 0.2845 - val_categorical_accuracy: 0.8963\n",
            "Epoch 4/10\n",
            "938/938 [==============================] - 6s 6ms/step - loss: 0.3010 - categorical_accuracy: 0.8900 - val_loss: 0.2781 - val_categorical_accuracy: 0.8981\n",
            "Epoch 5/10\n",
            "938/938 [==============================] - 6s 6ms/step - loss: 0.2842 - categorical_accuracy: 0.8968 - val_loss: 0.2953 - val_categorical_accuracy: 0.8954\n",
            "Epoch 6/10\n",
            "938/938 [==============================] - 6s 6ms/step - loss: 0.2689 - categorical_accuracy: 0.9020 - val_loss: 0.2556 - val_categorical_accuracy: 0.9077\n",
            "Epoch 7/10\n",
            "938/938 [==============================] - 6s 6ms/step - loss: 0.2567 - categorical_accuracy: 0.9060 - val_loss: 0.2756 - val_categorical_accuracy: 0.8998\n",
            "Epoch 8/10\n",
            "938/938 [==============================] - 6s 6ms/step - loss: 0.2453 - categorical_accuracy: 0.9099 - val_loss: 0.2579 - val_categorical_accuracy: 0.9082\n",
            "Epoch 9/10\n",
            "938/938 [==============================] - 6s 6ms/step - loss: 0.2355 - categorical_accuracy: 0.9132 - val_loss: 0.2557 - val_categorical_accuracy: 0.9126\n",
            "Epoch 10/10\n",
            "938/938 [==============================] - 6s 6ms/step - loss: 0.2288 - categorical_accuracy: 0.9169 - val_loss: 0.2456 - val_categorical_accuracy: 0.9131\n",
            "Train elapsed time: 58.95391821861267 seconds\n",
            "INFO:tensorflow:Assets written to: fashion_mnist_model_redux.tf/assets\n",
            "313/313 [==============================] - 1s 3ms/step - loss: 0.2456 - categorical_accuracy: 0.9131\n",
            "Redux test accuracy: 0.9107999801635742\n",
            "Test elapsed time: 1.163611650466919 seconds\n"
          ],
          "name": "stdout"
        }
      ]
    },
    {
      "cell_type": "markdown",
      "metadata": {
        "id": "HQjs3BopmPHr"
      },
      "source": [
        "**PHASE 3 - OPTIMIZATION**"
      ]
    },
    {
      "cell_type": "code",
      "metadata": {
        "colab": {
          "base_uri": "https://localhost:8080/"
        },
        "id": "yXEUICcqtIA7",
        "outputId": "533722e6-0c40-42f5-de48-7e9f05518a82"
      },
      "source": [
        "#PRUNING\n",
        "\n",
        "model = tf.keras.models.load_model(\"./fashion_mnist_model.tf\")\n",
        "\n",
        "pruned_model, pruned_results = prune_model(model)\n",
        "\n",
        "prune_dim = !du -h pruned_model.tf\n",
        "prune_dim = float(prune_dim[2].split('M')[0])"
      ],
      "execution_count": null,
      "outputs": [
        {
          "output_type": "stream",
          "text": [
            "/usr/local/lib/python3.7/dist-packages/tensorflow/python/keras/engine/base_layer.py:2191: UserWarning: `layer.add_variable` is deprecated and will be removed in a future version. Please use `layer.add_weight` method instead.\n",
            "  warnings.warn('`layer.add_variable` is deprecated and '\n"
          ],
          "name": "stderr"
        },
        {
          "output_type": "stream",
          "text": [
            "Model: \"sequential\"\n",
            "_________________________________________________________________\n",
            "Layer (type)                 Output Shape              Param #   \n",
            "=================================================================\n",
            "prune_low_magnitude_batch_no (None, 28, 28, 1)         5         \n",
            "_________________________________________________________________\n",
            "prune_low_magnitude_conv2d ( (None, 28, 28, 64)        3266      \n",
            "_________________________________________________________________\n",
            "prune_low_magnitude_max_pool (None, 14, 14, 64)        1         \n",
            "_________________________________________________________________\n",
            "prune_low_magnitude_dropout  (None, 14, 14, 64)        1         \n",
            "_________________________________________________________________\n",
            "prune_low_magnitude_batch_no (None, 14, 14, 64)        257       \n",
            "_________________________________________________________________\n",
            "prune_low_magnitude_conv2d_1 (None, 14, 14, 128)       409730    \n",
            "_________________________________________________________________\n",
            "prune_low_magnitude_max_pool (None, 7, 7, 128)         1         \n",
            "_________________________________________________________________\n",
            "prune_low_magnitude_dropout_ (None, 7, 7, 128)         1         \n",
            "_________________________________________________________________\n",
            "prune_low_magnitude_batch_no (None, 7, 7, 128)         513       \n",
            "_________________________________________________________________\n",
            "prune_low_magnitude_conv2d_2 (None, 7, 7, 256)         1638658   \n",
            "_________________________________________________________________\n",
            "prune_low_magnitude_max_pool (None, 3, 3, 256)         1         \n",
            "_________________________________________________________________\n",
            "prune_low_magnitude_dropout_ (None, 3, 3, 256)         1         \n",
            "_________________________________________________________________\n",
            "prune_low_magnitude_flatten  (None, 2304)              1         \n",
            "_________________________________________________________________\n",
            "prune_low_magnitude_dense (P (None, 256)               1179906   \n",
            "_________________________________________________________________\n",
            "prune_low_magnitude_activati (None, 256)               1         \n",
            "_________________________________________________________________\n",
            "prune_low_magnitude_dropout_ (None, 256)               1         \n",
            "_________________________________________________________________\n",
            "prune_low_magnitude_dense_1  (None, 10)                5132      \n",
            "_________________________________________________________________\n",
            "prune_low_magnitude_activati (None, 10)                1         \n",
            "=================================================================\n",
            "Total params: 3,237,477\n",
            "Trainable params: 1,619,084\n",
            "Non-trainable params: 1,618,393\n",
            "_________________________________________________________________\n",
            "None\n",
            "WARNING:tensorflow:From /usr/local/lib/python3.7/dist-packages/tensorflow/python/ops/array_ops.py:5049: calling gather (from tensorflow.python.ops.array_ops) with validate_indices is deprecated and will be removed in a future version.\n",
            "Instructions for updating:\n",
            "The `validate_indices` argument has no effect. Indices are always validated on CPU and never validated on GPU.\n"
          ],
          "name": "stdout"
        },
        {
          "output_type": "stream",
          "text": [
            "WARNING:absl:Found untraced functions such as conv2d_layer_call_fn, conv2d_layer_call_and_return_conditional_losses, dropout_layer_call_fn, dropout_layer_call_and_return_conditional_losses, conv2d_1_layer_call_fn while saving (showing 5 of 60). These functions will not be directly callable after loading.\n"
          ],
          "name": "stderr"
        },
        {
          "output_type": "stream",
          "text": [
            "INFO:tensorflow:Assets written to: pruned_model.tf/assets\n"
          ],
          "name": "stdout"
        },
        {
          "output_type": "stream",
          "text": [
            "INFO:tensorflow:Assets written to: pruned_model.tf/assets\n"
          ],
          "name": "stderr"
        },
        {
          "output_type": "stream",
          "text": [
            "['4.0K\\tpruned_model.tf/assets', '13M\\tpruned_model.tf/variables', '15M\\tpruned_model.tf']\n",
            "Epoch 1/2\n"
          ],
          "name": "stdout"
        },
        {
          "output_type": "stream",
          "text": [
            "/usr/local/lib/python3.7/dist-packages/tensorflow/python/keras/backend.py:4870: UserWarning: \"`categorical_crossentropy` received `from_logits=True`, but the `output` argument was produced by a sigmoid or softmax activation and thus does not represent logits. Was this intended?\"\n",
            "  '\"`categorical_crossentropy` received `from_logits=True`, but '\n"
          ],
          "name": "stderr"
        },
        {
          "output_type": "stream",
          "text": [
            "  5/422 [..............................] - ETA: 1:13 - loss: 0.1915 - accuracy: 0.9266WARNING:tensorflow:Callback method `on_train_batch_begin` is slow compared to the batch time (batch time: 0.0147s vs `on_train_batch_begin` time: 0.0526s). Check your callbacks.\n"
          ],
          "name": "stdout"
        },
        {
          "output_type": "stream",
          "text": [
            "WARNING:tensorflow:Callback method `on_train_batch_begin` is slow compared to the batch time (batch time: 0.0147s vs `on_train_batch_begin` time: 0.0526s). Check your callbacks.\n"
          ],
          "name": "stderr"
        },
        {
          "output_type": "stream",
          "text": [
            "WARNING:tensorflow:Callback method `on_train_batch_end` is slow compared to the batch time (batch time: 0.0147s vs `on_train_batch_end` time: 0.0579s). Check your callbacks.\n"
          ],
          "name": "stdout"
        },
        {
          "output_type": "stream",
          "text": [
            "WARNING:tensorflow:Callback method `on_train_batch_end` is slow compared to the batch time (batch time: 0.0147s vs `on_train_batch_end` time: 0.0579s). Check your callbacks.\n"
          ],
          "name": "stderr"
        },
        {
          "output_type": "stream",
          "text": [
            "422/422 [==============================] - 16s 31ms/step - loss: 0.2162 - accuracy: 0.9198 - val_loss: 0.1648 - val_accuracy: 0.9395\n",
            "Epoch 2/2\n",
            "422/422 [==============================] - 12s 28ms/step - loss: 0.2241 - accuracy: 0.9200 - val_loss: 0.1593 - val_accuracy: 0.9385\n",
            "Test elapsed time: 0.9480061531066895 seconds\n",
            "Pruned test accuracy: 0.9146000146865845\n"
          ],
          "name": "stdout"
        }
      ]
    },
    {
      "cell_type": "code",
      "metadata": {
        "colab": {
          "base_uri": "https://localhost:8080/"
        },
        "id": "b5aqxGelugV7",
        "outputId": "2dbb04ad-d15e-4eda-b9ff-74f521b53447"
      },
      "source": [
        "#QUANTIZATION\n",
        "\n",
        "model = tf.keras.models.load_model(\"./fashion_mnist_model.tf\")\n",
        "quantized_model, quantized_results = quant_model(model)\n",
        "\n",
        "quant_dim = !du -h quant_model.tf\n",
        "quant_dim = float(quant_dim[2].split('M')[0])"
      ],
      "execution_count": null,
      "outputs": [
        {
          "output_type": "stream",
          "text": [
            "Model: \"sequential\"\n",
            "_________________________________________________________________\n",
            "Layer (type)                 Output Shape              Param #   \n",
            "=================================================================\n",
            "batch_normalization (BatchNo (None, 28, 28, 1)         4         \n",
            "_________________________________________________________________\n",
            "conv2d (Conv2D)              (None, 28, 28, 64)        1664      \n",
            "_________________________________________________________________\n",
            "quant_max_pooling2d (Quantiz (None, 14, 14, 64)        1         \n",
            "_________________________________________________________________\n",
            "quant_dropout (QuantizeWrapp (None, 14, 14, 64)        1         \n",
            "_________________________________________________________________\n",
            "batch_normalization_1 (Batch (None, 14, 14, 64)        256       \n",
            "_________________________________________________________________\n",
            "conv2d_1 (Conv2D)            (None, 14, 14, 128)       204928    \n",
            "_________________________________________________________________\n",
            "quant_max_pooling2d_1 (Quant (None, 7, 7, 128)         1         \n",
            "_________________________________________________________________\n",
            "quant_dropout_1 (QuantizeWra (None, 7, 7, 128)         1         \n",
            "_________________________________________________________________\n",
            "batch_normalization_2 (Batch (None, 7, 7, 128)         512       \n",
            "_________________________________________________________________\n",
            "conv2d_2 (Conv2D)            (None, 7, 7, 256)         819456    \n",
            "_________________________________________________________________\n",
            "quant_max_pooling2d_2 (Quant (None, 3, 3, 256)         1         \n",
            "_________________________________________________________________\n",
            "quant_dropout_2 (QuantizeWra (None, 3, 3, 256)         1         \n",
            "_________________________________________________________________\n",
            "flatten (Flatten)            (None, 2304)              0         \n",
            "_________________________________________________________________\n",
            "dense (Dense)                (None, 256)               590080    \n",
            "_________________________________________________________________\n",
            "activation (Activation)      (None, 256)               0         \n",
            "_________________________________________________________________\n",
            "quant_dropout_3 (QuantizeWra (None, 256)               1         \n",
            "_________________________________________________________________\n",
            "dense_1 (Dense)              (None, 10)                2570      \n",
            "_________________________________________________________________\n",
            "activation_1 (Activation)    (None, 10)                0         \n",
            "=================================================================\n",
            "Total params: 1,619,477\n",
            "Trainable params: 1,619,084\n",
            "Non-trainable params: 393\n",
            "_________________________________________________________________\n",
            "None\n"
          ],
          "name": "stdout"
        },
        {
          "output_type": "stream",
          "text": [
            "WARNING:absl:Found untraced functions such as dropout_layer_call_fn, dropout_layer_call_and_return_conditional_losses, dropout_1_layer_call_fn, dropout_1_layer_call_and_return_conditional_losses, dropout_2_layer_call_fn while saving (showing 5 of 20). These functions will not be directly callable after loading.\n"
          ],
          "name": "stderr"
        },
        {
          "output_type": "stream",
          "text": [
            "INFO:tensorflow:Assets written to: quant_model.tf/assets\n"
          ],
          "name": "stdout"
        },
        {
          "output_type": "stream",
          "text": [
            "INFO:tensorflow:Assets written to: quant_model.tf/assets\n"
          ],
          "name": "stderr"
        },
        {
          "output_type": "stream",
          "text": [
            "['4.0K\\tquant_model.tf/assets', '6.2M\\tquant_model.tf/variables', '6.7M\\tquant_model.tf']\n"
          ],
          "name": "stdout"
        },
        {
          "output_type": "stream",
          "text": [
            "/usr/local/lib/python3.7/dist-packages/tensorflow/python/keras/backend.py:4870: UserWarning: \"`categorical_crossentropy` received `from_logits=True`, but the `output` argument was produced by a sigmoid or softmax activation and thus does not represent logits. Was this intended?\"\n",
            "  '\"`categorical_crossentropy` received `from_logits=True`, but '\n"
          ],
          "name": "stderr"
        },
        {
          "output_type": "stream",
          "text": [
            "2/2 [==============================] - 3s 1s/step - loss: 0.1603 - accuracy: 0.9422 - val_loss: 0.1530 - val_accuracy: 0.9300\n",
            "Test elapsed time: 0.9212069511413574 seconds\n",
            "Pruned test accuracy: 0.910099983215332\n",
            "0.910099983215332 0.9212069511413574 6.7M\tquant_model.tf\n"
          ],
          "name": "stdout"
        }
      ]
    },
    {
      "cell_type": "code",
      "metadata": {
        "colab": {
          "base_uri": "https://localhost:8080/"
        },
        "id": "6MDVlFdQvTtc",
        "outputId": "e1ccd136-9c01-4cac-da5a-6a818f52284d"
      },
      "source": [
        "#CLUSTER\n",
        "\n",
        "model = tf.keras.models.load_model(\"./fashion_mnist_model.tf\")\n",
        "clusterd_model, clustered_results = cluster_model(model)\n",
        "\n",
        "clust_dim = !du -h cluster_model.tf\n",
        "clust_dim = float(clust_dim[2].split('M')[0])"
      ],
      "execution_count": null,
      "outputs": [
        {
          "output_type": "stream",
          "text": [
            "Model: \"sequential\"\n",
            "_________________________________________________________________\n",
            "Layer (type)                 Output Shape              Param #   \n",
            "=================================================================\n",
            "cluster_batch_normalization  (None, 28, 28, 1)         4         \n",
            "_________________________________________________________________\n",
            "cluster_conv2d (ClusterWeigh (None, 28, 28, 64)        1674      \n",
            "_________________________________________________________________\n",
            "cluster_max_pooling2d (Clust (None, 14, 14, 64)        0         \n",
            "_________________________________________________________________\n",
            "cluster_dropout (ClusterWeig (None, 14, 14, 64)        0         \n",
            "_________________________________________________________________\n",
            "cluster_batch_normalization_ (None, 14, 14, 64)        256       \n",
            "_________________________________________________________________\n",
            "cluster_conv2d_1 (ClusterWei (None, 14, 14, 128)       204938    \n",
            "_________________________________________________________________\n",
            "cluster_max_pooling2d_1 (Clu (None, 7, 7, 128)         0         \n",
            "_________________________________________________________________\n",
            "cluster_dropout_1 (ClusterWe (None, 7, 7, 128)         0         \n",
            "_________________________________________________________________\n",
            "cluster_batch_normalization_ (None, 7, 7, 128)         512       \n",
            "_________________________________________________________________\n",
            "cluster_conv2d_2 (ClusterWei (None, 7, 7, 256)         819466    \n",
            "_________________________________________________________________\n",
            "cluster_max_pooling2d_2 (Clu (None, 3, 3, 256)         0         \n",
            "_________________________________________________________________\n",
            "cluster_dropout_2 (ClusterWe (None, 3, 3, 256)         0         \n",
            "_________________________________________________________________\n",
            "cluster_flatten (ClusterWeig (None, 2304)              0         \n",
            "_________________________________________________________________\n",
            "cluster_dense (ClusterWeight (None, 256)               590090    \n",
            "_________________________________________________________________\n",
            "cluster_activation (ClusterW (None, 256)               0         \n",
            "_________________________________________________________________\n",
            "cluster_dropout_3 (ClusterWe (None, 256)               0         \n",
            "_________________________________________________________________\n",
            "cluster_dense_1 (ClusterWeig (None, 10)                2580      \n",
            "_________________________________________________________________\n",
            "cluster_activation_1 (Cluste (None, 10)                0         \n",
            "=================================================================\n",
            "Total params: 1,619,520\n",
            "Trainable params: 1,150\n",
            "Non-trainable params: 1,618,370\n",
            "_________________________________________________________________\n",
            "None\n"
          ],
          "name": "stdout"
        },
        {
          "output_type": "stream",
          "text": [
            "/usr/local/lib/python3.7/dist-packages/tensorflow/python/keras/backend.py:4870: UserWarning: \"`categorical_crossentropy` received `from_logits=True`, but the `output` argument was produced by a sigmoid or softmax activation and thus does not represent logits. Was this intended?\"\n",
            "  '\"`categorical_crossentropy` received `from_logits=True`, but '\n"
          ],
          "name": "stderr"
        },
        {
          "output_type": "stream",
          "text": [
            "108/108 [==============================] - 8s 64ms/step - loss: 0.1568 - accuracy: 0.9378 - val_loss: 0.1498 - val_accuracy: 0.9378\n",
            "Test elapsed time: 1.6574249267578125 seconds\n",
            "Clustered test accuracy: 0.9059000015258789\n"
          ],
          "name": "stdout"
        },
        {
          "output_type": "stream",
          "text": [
            "WARNING:absl:Found untraced functions such as conv2d_layer_call_fn, conv2d_layer_call_and_return_conditional_losses, dropout_layer_call_fn, dropout_layer_call_and_return_conditional_losses, conv2d_1_layer_call_fn while saving (showing 5 of 60). These functions will not be directly callable after loading.\n"
          ],
          "name": "stderr"
        },
        {
          "output_type": "stream",
          "text": [
            "INFO:tensorflow:Assets written to: cluster_model.tf/assets\n"
          ],
          "name": "stdout"
        },
        {
          "output_type": "stream",
          "text": [
            "INFO:tensorflow:Assets written to: cluster_model.tf/assets\n"
          ],
          "name": "stderr"
        },
        {
          "output_type": "stream",
          "text": [
            "['4.0K\\tcluster_model.tf/assets', '13M\\tcluster_model.tf/variables', '13M\\tcluster_model.tf']\n"
          ],
          "name": "stdout"
        }
      ]
    },
    {
      "cell_type": "markdown",
      "metadata": {
        "id": "TjbGHw5MPkcP"
      },
      "source": [
        "**COMBINATION OF OPTIMIZATIONS**"
      ]
    },
    {
      "cell_type": "code",
      "metadata": {
        "colab": {
          "base_uri": "https://localhost:8080/"
        },
        "id": "1OJTvWFmOI2t",
        "outputId": "74c5986d-7620-4c7e-f773-ae1cc225a767"
      },
      "source": [
        "#OPTIMIZATIONS ON BASELINE\n",
        "\n",
        "#QUANT + PRUNE\n",
        "model = tf.keras.models.load_model(\"./fashion_mnist_model.tf\")\n",
        "qp_model, qp_results = quant_model(model)\n",
        "qp_model, qp_results = prune_model(qp_model)\n",
        "\n",
        "#PRUNE + QUANT\n",
        "model = tf.keras.models.load_model(\"./fashion_mnist_model.tf\")\n",
        "pq_model, pq_results = prune_model(model)\n",
        "pq_model, pq_results = quant_model(pq_model)\n",
        "\n",
        "#QUANT + CLUST\n",
        "model = tf.keras.models.load_model(\"./fashion_mnist_model.tf\")\n",
        "qc_model, qc_results = quant_model(model)\n",
        "qc_model, qc_results = cluster_model(qc_model)\n",
        "\n",
        "#CLUST + QUANT\n",
        "model = tf.keras.models.load_model(\"./fashion_mnist_model.tf\")\n",
        "cq_model, cq_results = cluster_model(model)\n",
        "cq_model, cq_results = quant_model(cq_model)\n",
        "\n",
        "#PRUNE + CLUST\n",
        "model = tf.keras.models.load_model(\"./fashion_mnist_model.tf\")\n",
        "pc_model, pc_results = prune_model(model)\n",
        "pc_model, pc_results = cluster_model(pc_model)\n"
      ],
      "execution_count": null,
      "outputs": [
        {
          "output_type": "stream",
          "text": [
            "Model: \"sequential\"\n",
            "_________________________________________________________________\n",
            "Layer (type)                 Output Shape              Param #   \n",
            "=================================================================\n",
            "batch_normalization (BatchNo (None, 28, 28, 1)         4         \n",
            "_________________________________________________________________\n",
            "conv2d (Conv2D)              (None, 28, 28, 64)        1664      \n",
            "_________________________________________________________________\n",
            "quant_max_pooling2d (Quantiz (None, 14, 14, 64)        1         \n",
            "_________________________________________________________________\n",
            "quant_dropout (QuantizeWrapp (None, 14, 14, 64)        1         \n",
            "_________________________________________________________________\n",
            "batch_normalization_1 (Batch (None, 14, 14, 64)        256       \n",
            "_________________________________________________________________\n",
            "conv2d_1 (Conv2D)            (None, 14, 14, 128)       204928    \n",
            "_________________________________________________________________\n",
            "quant_max_pooling2d_1 (Quant (None, 7, 7, 128)         1         \n",
            "_________________________________________________________________\n",
            "quant_dropout_1 (QuantizeWra (None, 7, 7, 128)         1         \n",
            "_________________________________________________________________\n",
            "batch_normalization_2 (Batch (None, 7, 7, 128)         512       \n",
            "_________________________________________________________________\n",
            "conv2d_2 (Conv2D)            (None, 7, 7, 256)         819456    \n",
            "_________________________________________________________________\n",
            "quant_max_pooling2d_2 (Quant (None, 3, 3, 256)         1         \n",
            "_________________________________________________________________\n",
            "quant_dropout_2 (QuantizeWra (None, 3, 3, 256)         1         \n",
            "_________________________________________________________________\n",
            "flatten (Flatten)            (None, 2304)              0         \n",
            "_________________________________________________________________\n",
            "dense (Dense)                (None, 256)               590080    \n",
            "_________________________________________________________________\n",
            "activation (Activation)      (None, 256)               0         \n",
            "_________________________________________________________________\n",
            "quant_dropout_3 (QuantizeWra (None, 256)               1         \n",
            "_________________________________________________________________\n",
            "dense_1 (Dense)              (None, 10)                2570      \n",
            "_________________________________________________________________\n",
            "activation_1 (Activation)    (None, 10)                0         \n",
            "=================================================================\n",
            "Total params: 1,619,477\n",
            "Trainable params: 1,619,084\n",
            "Non-trainable params: 393\n",
            "_________________________________________________________________\n",
            "None\n"
          ],
          "name": "stdout"
        },
        {
          "output_type": "stream",
          "text": [
            "WARNING:absl:Found untraced functions such as dropout_layer_call_fn, dropout_layer_call_and_return_conditional_losses, dropout_1_layer_call_fn, dropout_1_layer_call_and_return_conditional_losses, dropout_2_layer_call_fn while saving (showing 5 of 20). These functions will not be directly callable after loading.\n"
          ],
          "name": "stderr"
        },
        {
          "output_type": "stream",
          "text": [
            "INFO:tensorflow:Assets written to: quant_model.tf/assets\n"
          ],
          "name": "stdout"
        },
        {
          "output_type": "stream",
          "text": [
            "INFO:tensorflow:Assets written to: quant_model.tf/assets\n"
          ],
          "name": "stderr"
        },
        {
          "output_type": "stream",
          "text": [
            "['4.0K\\tquant_model.tf/assets', '6.2M\\tquant_model.tf/variables', '6.7M\\tquant_model.tf']\n"
          ],
          "name": "stdout"
        },
        {
          "output_type": "stream",
          "text": [
            "/usr/local/lib/python3.7/dist-packages/tensorflow/python/keras/backend.py:4870: UserWarning: \"`categorical_crossentropy` received `from_logits=True`, but the `output` argument was produced by a sigmoid or softmax activation and thus does not represent logits. Was this intended?\"\n",
            "  '\"`categorical_crossentropy` received `from_logits=True`, but '\n"
          ],
          "name": "stderr"
        },
        {
          "output_type": "stream",
          "text": [
            "2/2 [==============================] - 1s 270ms/step - loss: 0.1567 - accuracy: 0.9411 - val_loss: 0.1661 - val_accuracy: 0.9200\n",
            "Test elapsed time: 1.304358959197998 seconds\n",
            "Pruned test accuracy: 0.9168000221252441\n",
            "0.9168000221252441 1.304358959197998 6.7M\tquant_model.tf\n",
            "Model: \"sequential\"\n",
            "_________________________________________________________________\n",
            "Layer (type)                 Output Shape              Param #   \n",
            "=================================================================\n",
            "prune_low_magnitude_batch_no (None, 28, 28, 1)         5         \n",
            "_________________________________________________________________\n",
            "prune_low_magnitude_conv2d ( (None, 28, 28, 64)        3266      \n",
            "_________________________________________________________________\n",
            "prune_low_magnitude_max_pool (None, 14, 14, 64)        1         \n",
            "_________________________________________________________________\n",
            "prune_low_magnitude_dropout  (None, 14, 14, 64)        1         \n",
            "_________________________________________________________________\n",
            "prune_low_magnitude_batch_no (None, 14, 14, 64)        257       \n",
            "_________________________________________________________________\n",
            "prune_low_magnitude_conv2d_1 (None, 14, 14, 128)       409730    \n",
            "_________________________________________________________________\n",
            "prune_low_magnitude_max_pool (None, 7, 7, 128)         1         \n",
            "_________________________________________________________________\n",
            "prune_low_magnitude_dropout_ (None, 7, 7, 128)         1         \n",
            "_________________________________________________________________\n",
            "prune_low_magnitude_batch_no (None, 7, 7, 128)         513       \n",
            "_________________________________________________________________\n",
            "prune_low_magnitude_conv2d_2 (None, 7, 7, 256)         1638658   \n",
            "_________________________________________________________________\n",
            "prune_low_magnitude_max_pool (None, 3, 3, 256)         1         \n",
            "_________________________________________________________________\n",
            "prune_low_magnitude_dropout_ (None, 3, 3, 256)         1         \n",
            "_________________________________________________________________\n",
            "prune_low_magnitude_flatten  (None, 2304)              1         \n",
            "_________________________________________________________________\n",
            "prune_low_magnitude_dense (P (None, 256)               1179906   \n",
            "_________________________________________________________________\n",
            "prune_low_magnitude_activati (None, 256)               1         \n",
            "_________________________________________________________________\n",
            "prune_low_magnitude_dropout_ (None, 256)               1         \n",
            "_________________________________________________________________\n",
            "prune_low_magnitude_dense_1  (None, 10)                5132      \n",
            "_________________________________________________________________\n",
            "prune_low_magnitude_activati (None, 10)                1         \n",
            "=================================================================\n",
            "Total params: 3,237,477\n",
            "Trainable params: 1,619,084\n",
            "Non-trainable params: 1,618,393\n",
            "_________________________________________________________________\n",
            "None\n"
          ],
          "name": "stdout"
        },
        {
          "output_type": "stream",
          "text": [
            "/usr/local/lib/python3.7/dist-packages/tensorflow/python/keras/engine/base_layer.py:2191: UserWarning: `layer.add_variable` is deprecated and will be removed in a future version. Please use `layer.add_weight` method instead.\n",
            "  warnings.warn('`layer.add_variable` is deprecated and '\n",
            "WARNING:absl:Found untraced functions such as conv2d_layer_call_fn, conv2d_layer_call_and_return_conditional_losses, dropout_layer_call_fn, dropout_layer_call_and_return_conditional_losses, conv2d_1_layer_call_fn while saving (showing 5 of 60). These functions will not be directly callable after loading.\n"
          ],
          "name": "stderr"
        },
        {
          "output_type": "stream",
          "text": [
            "INFO:tensorflow:Assets written to: pruned_model.tf/assets\n"
          ],
          "name": "stdout"
        },
        {
          "output_type": "stream",
          "text": [
            "INFO:tensorflow:Assets written to: pruned_model.tf/assets\n"
          ],
          "name": "stderr"
        },
        {
          "output_type": "stream",
          "text": [
            "['4.0K\\tpruned_model.tf/assets', '13M\\tpruned_model.tf/variables', '15M\\tpruned_model.tf']\n",
            "Epoch 1/2\n"
          ],
          "name": "stdout"
        },
        {
          "output_type": "stream",
          "text": [
            "/usr/local/lib/python3.7/dist-packages/tensorflow/python/keras/backend.py:4870: UserWarning: \"`categorical_crossentropy` received `from_logits=True`, but the `output` argument was produced by a sigmoid or softmax activation and thus does not represent logits. Was this intended?\"\n",
            "  '\"`categorical_crossentropy` received `from_logits=True`, but '\n"
          ],
          "name": "stderr"
        },
        {
          "output_type": "stream",
          "text": [
            "  5/422 [..............................] - ETA: 1:55 - loss: 0.1911 - accuracy: 0.9219WARNING:tensorflow:Callback method `on_train_batch_begin` is slow compared to the batch time (batch time: 0.0185s vs `on_train_batch_begin` time: 0.0510s). Check your callbacks.\n"
          ],
          "name": "stdout"
        },
        {
          "output_type": "stream",
          "text": [
            "WARNING:tensorflow:Callback method `on_train_batch_begin` is slow compared to the batch time (batch time: 0.0185s vs `on_train_batch_begin` time: 0.0510s). Check your callbacks.\n"
          ],
          "name": "stderr"
        },
        {
          "output_type": "stream",
          "text": [
            "WARNING:tensorflow:Callback method `on_train_batch_end` is slow compared to the batch time (batch time: 0.0185s vs `on_train_batch_end` time: 0.1260s). Check your callbacks.\n"
          ],
          "name": "stdout"
        },
        {
          "output_type": "stream",
          "text": [
            "WARNING:tensorflow:Callback method `on_train_batch_end` is slow compared to the batch time (batch time: 0.0185s vs `on_train_batch_end` time: 0.1260s). Check your callbacks.\n"
          ],
          "name": "stderr"
        },
        {
          "output_type": "stream",
          "text": [
            "422/422 [==============================] - 16s 31ms/step - loss: 0.2214 - accuracy: 0.9189 - val_loss: 0.1785 - val_accuracy: 0.9315\n",
            "Epoch 2/2\n",
            "422/422 [==============================] - 12s 28ms/step - loss: 0.2250 - accuracy: 0.9195 - val_loss: 0.1712 - val_accuracy: 0.9338\n",
            "Test elapsed time: 0.9943017959594727 seconds\n",
            "Pruned test accuracy: 0.9121999740600586\n"
          ],
          "name": "stdout"
        },
        {
          "output_type": "stream",
          "text": [
            "/usr/local/lib/python3.7/dist-packages/tensorflow/python/keras/engine/base_layer.py:2191: UserWarning: `layer.add_variable` is deprecated and will be removed in a future version. Please use `layer.add_weight` method instead.\n",
            "  warnings.warn('`layer.add_variable` is deprecated and '\n"
          ],
          "name": "stderr"
        },
        {
          "output_type": "stream",
          "text": [
            "Model: \"sequential\"\n",
            "_________________________________________________________________\n",
            "Layer (type)                 Output Shape              Param #   \n",
            "=================================================================\n",
            "prune_low_magnitude_batch_no (None, 28, 28, 1)         5         \n",
            "_________________________________________________________________\n",
            "prune_low_magnitude_conv2d ( (None, 28, 28, 64)        3266      \n",
            "_________________________________________________________________\n",
            "prune_low_magnitude_max_pool (None, 14, 14, 64)        1         \n",
            "_________________________________________________________________\n",
            "prune_low_magnitude_dropout  (None, 14, 14, 64)        1         \n",
            "_________________________________________________________________\n",
            "prune_low_magnitude_batch_no (None, 14, 14, 64)        257       \n",
            "_________________________________________________________________\n",
            "prune_low_magnitude_conv2d_1 (None, 14, 14, 128)       409730    \n",
            "_________________________________________________________________\n",
            "prune_low_magnitude_max_pool (None, 7, 7, 128)         1         \n",
            "_________________________________________________________________\n",
            "prune_low_magnitude_dropout_ (None, 7, 7, 128)         1         \n",
            "_________________________________________________________________\n",
            "prune_low_magnitude_batch_no (None, 7, 7, 128)         513       \n",
            "_________________________________________________________________\n",
            "prune_low_magnitude_conv2d_2 (None, 7, 7, 256)         1638658   \n",
            "_________________________________________________________________\n",
            "prune_low_magnitude_max_pool (None, 3, 3, 256)         1         \n",
            "_________________________________________________________________\n",
            "prune_low_magnitude_dropout_ (None, 3, 3, 256)         1         \n",
            "_________________________________________________________________\n",
            "prune_low_magnitude_flatten  (None, 2304)              1         \n",
            "_________________________________________________________________\n",
            "prune_low_magnitude_dense (P (None, 256)               1179906   \n",
            "_________________________________________________________________\n",
            "prune_low_magnitude_activati (None, 256)               1         \n",
            "_________________________________________________________________\n",
            "prune_low_magnitude_dropout_ (None, 256)               1         \n",
            "_________________________________________________________________\n",
            "prune_low_magnitude_dense_1  (None, 10)                5132      \n",
            "_________________________________________________________________\n",
            "prune_low_magnitude_activati (None, 10)                1         \n",
            "=================================================================\n",
            "Total params: 3,237,477\n",
            "Trainable params: 1,619,084\n",
            "Non-trainable params: 1,618,393\n",
            "_________________________________________________________________\n",
            "None\n"
          ],
          "name": "stdout"
        },
        {
          "output_type": "stream",
          "text": [
            "WARNING:absl:Found untraced functions such as conv2d_layer_call_fn, conv2d_layer_call_and_return_conditional_losses, dropout_layer_call_fn, dropout_layer_call_and_return_conditional_losses, conv2d_1_layer_call_fn while saving (showing 5 of 60). These functions will not be directly callable after loading.\n"
          ],
          "name": "stderr"
        },
        {
          "output_type": "stream",
          "text": [
            "INFO:tensorflow:Assets written to: pruned_model.tf/assets\n"
          ],
          "name": "stdout"
        },
        {
          "output_type": "stream",
          "text": [
            "INFO:tensorflow:Assets written to: pruned_model.tf/assets\n"
          ],
          "name": "stderr"
        },
        {
          "output_type": "stream",
          "text": [
            "['4.0K\\tpruned_model.tf/assets', '13M\\tpruned_model.tf/variables', '15M\\tpruned_model.tf']\n",
            "Epoch 1/2\n"
          ],
          "name": "stdout"
        },
        {
          "output_type": "stream",
          "text": [
            "/usr/local/lib/python3.7/dist-packages/tensorflow/python/keras/backend.py:4870: UserWarning: \"`categorical_crossentropy` received `from_logits=True`, but the `output` argument was produced by a sigmoid or softmax activation and thus does not represent logits. Was this intended?\"\n",
            "  '\"`categorical_crossentropy` received `from_logits=True`, but '\n"
          ],
          "name": "stderr"
        },
        {
          "output_type": "stream",
          "text": [
            "  5/422 [..............................] - ETA: 1:34 - loss: 0.1882 - accuracy: 0.9250WARNING:tensorflow:Callback method `on_train_batch_begin` is slow compared to the batch time (batch time: 0.0167s vs `on_train_batch_begin` time: 0.0492s). Check your callbacks.\n"
          ],
          "name": "stdout"
        },
        {
          "output_type": "stream",
          "text": [
            "WARNING:tensorflow:Callback method `on_train_batch_begin` is slow compared to the batch time (batch time: 0.0167s vs `on_train_batch_begin` time: 0.0492s). Check your callbacks.\n"
          ],
          "name": "stderr"
        },
        {
          "output_type": "stream",
          "text": [
            "WARNING:tensorflow:Callback method `on_train_batch_end` is slow compared to the batch time (batch time: 0.0167s vs `on_train_batch_end` time: 0.0949s). Check your callbacks.\n"
          ],
          "name": "stdout"
        },
        {
          "output_type": "stream",
          "text": [
            "WARNING:tensorflow:Callback method `on_train_batch_end` is slow compared to the batch time (batch time: 0.0167s vs `on_train_batch_end` time: 0.0949s). Check your callbacks.\n"
          ],
          "name": "stderr"
        },
        {
          "output_type": "stream",
          "text": [
            "422/422 [==============================] - 16s 30ms/step - loss: 0.2235 - accuracy: 0.9188 - val_loss: 0.1743 - val_accuracy: 0.9343\n",
            "Epoch 2/2\n",
            "422/422 [==============================] - 12s 28ms/step - loss: 0.2259 - accuracy: 0.9173 - val_loss: 0.1603 - val_accuracy: 0.9362\n",
            "Test elapsed time: 0.9123210906982422 seconds\n",
            "Pruned test accuracy: 0.9187999963760376\n",
            "Model: \"sequential\"\n",
            "_________________________________________________________________\n",
            "Layer (type)                 Output Shape              Param #   \n",
            "=================================================================\n",
            "batch_normalization (BatchNo (None, 28, 28, 1)         4         \n",
            "_________________________________________________________________\n",
            "conv2d (Conv2D)              (None, 28, 28, 64)        1664      \n",
            "_________________________________________________________________\n",
            "quant_max_pooling2d (Quantiz (None, 14, 14, 64)        1         \n",
            "_________________________________________________________________\n",
            "quant_dropout (QuantizeWrapp (None, 14, 14, 64)        1         \n",
            "_________________________________________________________________\n",
            "batch_normalization_1 (Batch (None, 14, 14, 64)        256       \n",
            "_________________________________________________________________\n",
            "conv2d_1 (Conv2D)            (None, 14, 14, 128)       204928    \n",
            "_________________________________________________________________\n",
            "quant_max_pooling2d_1 (Quant (None, 7, 7, 128)         1         \n",
            "_________________________________________________________________\n",
            "quant_dropout_1 (QuantizeWra (None, 7, 7, 128)         1         \n",
            "_________________________________________________________________\n",
            "batch_normalization_2 (Batch (None, 7, 7, 128)         512       \n",
            "_________________________________________________________________\n",
            "conv2d_2 (Conv2D)            (None, 7, 7, 256)         819456    \n",
            "_________________________________________________________________\n",
            "quant_max_pooling2d_2 (Quant (None, 3, 3, 256)         1         \n",
            "_________________________________________________________________\n",
            "quant_dropout_2 (QuantizeWra (None, 3, 3, 256)         1         \n",
            "_________________________________________________________________\n",
            "flatten (Flatten)            (None, 2304)              0         \n",
            "_________________________________________________________________\n",
            "dense (Dense)                (None, 256)               590080    \n",
            "_________________________________________________________________\n",
            "activation (Activation)      (None, 256)               0         \n",
            "_________________________________________________________________\n",
            "quant_dropout_3 (QuantizeWra (None, 256)               1         \n",
            "_________________________________________________________________\n",
            "dense_1 (Dense)              (None, 10)                2570      \n",
            "_________________________________________________________________\n",
            "activation_1 (Activation)    (None, 10)                0         \n",
            "=================================================================\n",
            "Total params: 1,619,477\n",
            "Trainable params: 1,619,084\n",
            "Non-trainable params: 393\n",
            "_________________________________________________________________\n",
            "None\n"
          ],
          "name": "stdout"
        },
        {
          "output_type": "stream",
          "text": [
            "WARNING:absl:Found untraced functions such as dropout_layer_call_fn, dropout_layer_call_and_return_conditional_losses, dropout_1_layer_call_fn, dropout_1_layer_call_and_return_conditional_losses, dropout_2_layer_call_fn while saving (showing 5 of 20). These functions will not be directly callable after loading.\n"
          ],
          "name": "stderr"
        },
        {
          "output_type": "stream",
          "text": [
            "INFO:tensorflow:Assets written to: quant_model.tf/assets\n"
          ],
          "name": "stdout"
        },
        {
          "output_type": "stream",
          "text": [
            "INFO:tensorflow:Assets written to: quant_model.tf/assets\n"
          ],
          "name": "stderr"
        },
        {
          "output_type": "stream",
          "text": [
            "['4.0K\\tquant_model.tf/assets', '6.2M\\tquant_model.tf/variables', '6.7M\\tquant_model.tf']\n"
          ],
          "name": "stdout"
        },
        {
          "output_type": "stream",
          "text": [
            "/usr/local/lib/python3.7/dist-packages/tensorflow/python/keras/backend.py:4870: UserWarning: \"`categorical_crossentropy` received `from_logits=True`, but the `output` argument was produced by a sigmoid or softmax activation and thus does not represent logits. Was this intended?\"\n",
            "  '\"`categorical_crossentropy` received `from_logits=True`, but '\n"
          ],
          "name": "stderr"
        },
        {
          "output_type": "stream",
          "text": [
            "2/2 [==============================] - 1s 272ms/step - loss: 0.1591 - accuracy: 0.9478 - val_loss: 0.1592 - val_accuracy: 0.9300\n",
            "Test elapsed time: 1.3078632354736328 seconds\n",
            "Pruned test accuracy: 0.9171000123023987\n",
            "0.9171000123023987 1.3078632354736328 6.7M\tquant_model.tf\n",
            "Model: \"sequential\"\n",
            "_________________________________________________________________\n",
            "Layer (type)                 Output Shape              Param #   \n",
            "=================================================================\n",
            "batch_normalization (BatchNo (None, 28, 28, 1)         4         \n",
            "_________________________________________________________________\n",
            "conv2d (Conv2D)              (None, 28, 28, 64)        1664      \n",
            "_________________________________________________________________\n",
            "quant_max_pooling2d (Quantiz (None, 14, 14, 64)        1         \n",
            "_________________________________________________________________\n",
            "quant_dropout (QuantizeWrapp (None, 14, 14, 64)        1         \n",
            "_________________________________________________________________\n",
            "batch_normalization_1 (Batch (None, 14, 14, 64)        256       \n",
            "_________________________________________________________________\n",
            "conv2d_1 (Conv2D)            (None, 14, 14, 128)       204928    \n",
            "_________________________________________________________________\n",
            "quant_max_pooling2d_1 (Quant (None, 7, 7, 128)         1         \n",
            "_________________________________________________________________\n",
            "quant_dropout_1 (QuantizeWra (None, 7, 7, 128)         1         \n",
            "_________________________________________________________________\n",
            "batch_normalization_2 (Batch (None, 7, 7, 128)         512       \n",
            "_________________________________________________________________\n",
            "conv2d_2 (Conv2D)            (None, 7, 7, 256)         819456    \n",
            "_________________________________________________________________\n",
            "quant_max_pooling2d_2 (Quant (None, 3, 3, 256)         1         \n",
            "_________________________________________________________________\n",
            "quant_dropout_2 (QuantizeWra (None, 3, 3, 256)         1         \n",
            "_________________________________________________________________\n",
            "flatten (Flatten)            (None, 2304)              0         \n",
            "_________________________________________________________________\n",
            "dense (Dense)                (None, 256)               590080    \n",
            "_________________________________________________________________\n",
            "activation (Activation)      (None, 256)               0         \n",
            "_________________________________________________________________\n",
            "quant_dropout_3 (QuantizeWra (None, 256)               1         \n",
            "_________________________________________________________________\n",
            "dense_1 (Dense)              (None, 10)                2570      \n",
            "_________________________________________________________________\n",
            "activation_1 (Activation)    (None, 10)                0         \n",
            "=================================================================\n",
            "Total params: 1,619,477\n",
            "Trainable params: 1,619,084\n",
            "Non-trainable params: 393\n",
            "_________________________________________________________________\n",
            "None\n"
          ],
          "name": "stdout"
        },
        {
          "output_type": "stream",
          "text": [
            "WARNING:absl:Found untraced functions such as dropout_layer_call_fn, dropout_layer_call_and_return_conditional_losses, dropout_1_layer_call_fn, dropout_1_layer_call_and_return_conditional_losses, dropout_2_layer_call_fn while saving (showing 5 of 20). These functions will not be directly callable after loading.\n"
          ],
          "name": "stderr"
        },
        {
          "output_type": "stream",
          "text": [
            "INFO:tensorflow:Assets written to: quant_model.tf/assets\n"
          ],
          "name": "stdout"
        },
        {
          "output_type": "stream",
          "text": [
            "INFO:tensorflow:Assets written to: quant_model.tf/assets\n"
          ],
          "name": "stderr"
        },
        {
          "output_type": "stream",
          "text": [
            "['4.0K\\tquant_model.tf/assets', '6.2M\\tquant_model.tf/variables', '6.7M\\tquant_model.tf']\n"
          ],
          "name": "stdout"
        },
        {
          "output_type": "stream",
          "text": [
            "/usr/local/lib/python3.7/dist-packages/tensorflow/python/keras/backend.py:4870: UserWarning: \"`categorical_crossentropy` received `from_logits=True`, but the `output` argument was produced by a sigmoid or softmax activation and thus does not represent logits. Was this intended?\"\n",
            "  '\"`categorical_crossentropy` received `from_logits=True`, but '\n"
          ],
          "name": "stderr"
        },
        {
          "output_type": "stream",
          "text": [
            "2/2 [==============================] - 1s 269ms/step - loss: 0.1680 - accuracy: 0.9344 - val_loss: 0.1511 - val_accuracy: 0.9200\n",
            "Test elapsed time: 1.3012745380401611 seconds\n",
            "Pruned test accuracy: 0.9160000085830688\n",
            "0.9160000085830688 1.3012745380401611 6.7M\tquant_model.tf\n",
            "Model: \"sequential\"\n",
            "_________________________________________________________________\n",
            "Layer (type)                 Output Shape              Param #   \n",
            "=================================================================\n",
            "cluster_batch_normalization  (None, 28, 28, 1)         4         \n",
            "_________________________________________________________________\n",
            "cluster_conv2d (ClusterWeigh (None, 28, 28, 64)        1674      \n",
            "_________________________________________________________________\n",
            "cluster_max_pooling2d (Clust (None, 14, 14, 64)        0         \n",
            "_________________________________________________________________\n",
            "cluster_dropout (ClusterWeig (None, 14, 14, 64)        0         \n",
            "_________________________________________________________________\n",
            "cluster_batch_normalization_ (None, 14, 14, 64)        256       \n",
            "_________________________________________________________________\n",
            "cluster_conv2d_1 (ClusterWei (None, 14, 14, 128)       204938    \n",
            "_________________________________________________________________\n",
            "cluster_max_pooling2d_1 (Clu (None, 7, 7, 128)         0         \n",
            "_________________________________________________________________\n",
            "cluster_dropout_1 (ClusterWe (None, 7, 7, 128)         0         \n",
            "_________________________________________________________________\n",
            "cluster_batch_normalization_ (None, 7, 7, 128)         512       \n",
            "_________________________________________________________________\n",
            "cluster_conv2d_2 (ClusterWei (None, 7, 7, 256)         819466    \n",
            "_________________________________________________________________\n",
            "cluster_max_pooling2d_2 (Clu (None, 3, 3, 256)         0         \n",
            "_________________________________________________________________\n",
            "cluster_dropout_2 (ClusterWe (None, 3, 3, 256)         0         \n",
            "_________________________________________________________________\n",
            "cluster_flatten (ClusterWeig (None, 2304)              0         \n",
            "_________________________________________________________________\n",
            "cluster_dense (ClusterWeight (None, 256)               590090    \n",
            "_________________________________________________________________\n",
            "cluster_activation (ClusterW (None, 256)               0         \n",
            "_________________________________________________________________\n",
            "cluster_dropout_3 (ClusterWe (None, 256)               0         \n",
            "_________________________________________________________________\n",
            "cluster_dense_1 (ClusterWeig (None, 10)                2580      \n",
            "_________________________________________________________________\n",
            "cluster_activation_1 (Cluste (None, 10)                0         \n",
            "=================================================================\n",
            "Total params: 1,619,520\n",
            "Trainable params: 1,150\n",
            "Non-trainable params: 1,618,370\n",
            "_________________________________________________________________\n",
            "None\n",
            "108/108 [==============================] - 8s 63ms/step - loss: 0.1568 - accuracy: 0.9382 - val_loss: 0.1498 - val_accuracy: 0.9380\n",
            "Test elapsed time: 2.743138551712036 seconds\n",
            "Clustered test accuracy: 0.906000018119812\n"
          ],
          "name": "stdout"
        },
        {
          "output_type": "stream",
          "text": [
            "WARNING:absl:Found untraced functions such as conv2d_layer_call_fn, conv2d_layer_call_and_return_conditional_losses, dropout_layer_call_fn, dropout_layer_call_and_return_conditional_losses, conv2d_1_layer_call_fn while saving (showing 5 of 60). These functions will not be directly callable after loading.\n"
          ],
          "name": "stderr"
        },
        {
          "output_type": "stream",
          "text": [
            "INFO:tensorflow:Assets written to: cluster_model.tf/assets\n"
          ],
          "name": "stdout"
        },
        {
          "output_type": "stream",
          "text": [
            "INFO:tensorflow:Assets written to: cluster_model.tf/assets\n"
          ],
          "name": "stderr"
        },
        {
          "output_type": "stream",
          "text": [
            "['4.0K\\tcluster_model.tf/assets', '13M\\tcluster_model.tf/variables', '13M\\tcluster_model.tf']\n",
            "Model: \"sequential\"\n",
            "_________________________________________________________________\n",
            "Layer (type)                 Output Shape              Param #   \n",
            "=================================================================\n",
            "cluster_batch_normalization  (None, 28, 28, 1)         4         \n",
            "_________________________________________________________________\n",
            "cluster_conv2d (ClusterWeigh (None, 28, 28, 64)        1674      \n",
            "_________________________________________________________________\n",
            "cluster_max_pooling2d (Clust (None, 14, 14, 64)        0         \n",
            "_________________________________________________________________\n",
            "cluster_dropout (ClusterWeig (None, 14, 14, 64)        0         \n",
            "_________________________________________________________________\n",
            "cluster_batch_normalization_ (None, 14, 14, 64)        256       \n",
            "_________________________________________________________________\n",
            "cluster_conv2d_1 (ClusterWei (None, 14, 14, 128)       204938    \n",
            "_________________________________________________________________\n",
            "cluster_max_pooling2d_1 (Clu (None, 7, 7, 128)         0         \n",
            "_________________________________________________________________\n",
            "cluster_dropout_1 (ClusterWe (None, 7, 7, 128)         0         \n",
            "_________________________________________________________________\n",
            "cluster_batch_normalization_ (None, 7, 7, 128)         512       \n",
            "_________________________________________________________________\n",
            "cluster_conv2d_2 (ClusterWei (None, 7, 7, 256)         819466    \n",
            "_________________________________________________________________\n",
            "cluster_max_pooling2d_2 (Clu (None, 3, 3, 256)         0         \n",
            "_________________________________________________________________\n",
            "cluster_dropout_2 (ClusterWe (None, 3, 3, 256)         0         \n",
            "_________________________________________________________________\n",
            "cluster_flatten (ClusterWeig (None, 2304)              0         \n",
            "_________________________________________________________________\n",
            "cluster_dense (ClusterWeight (None, 256)               590090    \n",
            "_________________________________________________________________\n",
            "cluster_activation (ClusterW (None, 256)               0         \n",
            "_________________________________________________________________\n",
            "cluster_dropout_3 (ClusterWe (None, 256)               0         \n",
            "_________________________________________________________________\n",
            "cluster_dense_1 (ClusterWeig (None, 10)                2580      \n",
            "_________________________________________________________________\n",
            "cluster_activation_1 (Cluste (None, 10)                0         \n",
            "=================================================================\n",
            "Total params: 1,619,520\n",
            "Trainable params: 1,150\n",
            "Non-trainable params: 1,618,370\n",
            "_________________________________________________________________\n",
            "None\n"
          ],
          "name": "stdout"
        },
        {
          "output_type": "stream",
          "text": [
            "/usr/local/lib/python3.7/dist-packages/tensorflow/python/keras/backend.py:4870: UserWarning: \"`categorical_crossentropy` received `from_logits=True`, but the `output` argument was produced by a sigmoid or softmax activation and thus does not represent logits. Was this intended?\"\n",
            "  '\"`categorical_crossentropy` received `from_logits=True`, but '\n"
          ],
          "name": "stderr"
        },
        {
          "output_type": "stream",
          "text": [
            "108/108 [==============================] - 8s 63ms/step - loss: 0.1567 - accuracy: 0.9381 - val_loss: 0.1496 - val_accuracy: 0.9382\n",
            "Test elapsed time: 3.1891367435455322 seconds\n",
            "Clustered test accuracy: 0.9059000015258789\n"
          ],
          "name": "stdout"
        },
        {
          "output_type": "stream",
          "text": [
            "WARNING:absl:Found untraced functions such as conv2d_layer_call_fn, conv2d_layer_call_and_return_conditional_losses, dropout_layer_call_fn, dropout_layer_call_and_return_conditional_losses, conv2d_1_layer_call_fn while saving (showing 5 of 60). These functions will not be directly callable after loading.\n"
          ],
          "name": "stderr"
        },
        {
          "output_type": "stream",
          "text": [
            "INFO:tensorflow:Assets written to: cluster_model.tf/assets\n"
          ],
          "name": "stdout"
        },
        {
          "output_type": "stream",
          "text": [
            "INFO:tensorflow:Assets written to: cluster_model.tf/assets\n"
          ],
          "name": "stderr"
        },
        {
          "output_type": "stream",
          "text": [
            "['4.0K\\tcluster_model.tf/assets', '13M\\tcluster_model.tf/variables', '13M\\tcluster_model.tf']\n",
            "Model: \"sequential\"\n",
            "_________________________________________________________________\n",
            "Layer (type)                 Output Shape              Param #   \n",
            "=================================================================\n",
            "batch_normalization (BatchNo (None, 28, 28, 1)         4         \n",
            "_________________________________________________________________\n",
            "conv2d (Conv2D)              (None, 28, 28, 64)        1664      \n",
            "_________________________________________________________________\n",
            "quant_max_pooling2d (Quantiz (None, 14, 14, 64)        1         \n",
            "_________________________________________________________________\n",
            "quant_dropout (QuantizeWrapp (None, 14, 14, 64)        1         \n",
            "_________________________________________________________________\n",
            "batch_normalization_1 (Batch (None, 14, 14, 64)        256       \n",
            "_________________________________________________________________\n",
            "conv2d_1 (Conv2D)            (None, 14, 14, 128)       204928    \n",
            "_________________________________________________________________\n",
            "quant_max_pooling2d_1 (Quant (None, 7, 7, 128)         1         \n",
            "_________________________________________________________________\n",
            "quant_dropout_1 (QuantizeWra (None, 7, 7, 128)         1         \n",
            "_________________________________________________________________\n",
            "batch_normalization_2 (Batch (None, 7, 7, 128)         512       \n",
            "_________________________________________________________________\n",
            "conv2d_2 (Conv2D)            (None, 7, 7, 256)         819456    \n",
            "_________________________________________________________________\n",
            "quant_max_pooling2d_2 (Quant (None, 3, 3, 256)         1         \n",
            "_________________________________________________________________\n",
            "quant_dropout_2 (QuantizeWra (None, 3, 3, 256)         1         \n",
            "_________________________________________________________________\n",
            "flatten (Flatten)            (None, 2304)              0         \n",
            "_________________________________________________________________\n",
            "dense (Dense)                (None, 256)               590080    \n",
            "_________________________________________________________________\n",
            "activation (Activation)      (None, 256)               0         \n",
            "_________________________________________________________________\n",
            "quant_dropout_3 (QuantizeWra (None, 256)               1         \n",
            "_________________________________________________________________\n",
            "dense_1 (Dense)              (None, 10)                2570      \n",
            "_________________________________________________________________\n",
            "activation_1 (Activation)    (None, 10)                0         \n",
            "=================================================================\n",
            "Total params: 1,619,477\n",
            "Trainable params: 1,619,084\n",
            "Non-trainable params: 393\n",
            "_________________________________________________________________\n",
            "None\n"
          ],
          "name": "stdout"
        },
        {
          "output_type": "stream",
          "text": [
            "WARNING:absl:Found untraced functions such as dropout_layer_call_fn, dropout_layer_call_and_return_conditional_losses, dropout_1_layer_call_fn, dropout_1_layer_call_and_return_conditional_losses, dropout_2_layer_call_fn while saving (showing 5 of 20). These functions will not be directly callable after loading.\n"
          ],
          "name": "stderr"
        },
        {
          "output_type": "stream",
          "text": [
            "INFO:tensorflow:Assets written to: quant_model.tf/assets\n"
          ],
          "name": "stdout"
        },
        {
          "output_type": "stream",
          "text": [
            "INFO:tensorflow:Assets written to: quant_model.tf/assets\n"
          ],
          "name": "stderr"
        },
        {
          "output_type": "stream",
          "text": [
            "['4.0K\\tquant_model.tf/assets', '6.2M\\tquant_model.tf/variables', '6.7M\\tquant_model.tf']\n"
          ],
          "name": "stdout"
        },
        {
          "output_type": "stream",
          "text": [
            "/usr/local/lib/python3.7/dist-packages/tensorflow/python/keras/backend.py:4870: UserWarning: \"`categorical_crossentropy` received `from_logits=True`, but the `output` argument was produced by a sigmoid or softmax activation and thus does not represent logits. Was this intended?\"\n",
            "  '\"`categorical_crossentropy` received `from_logits=True`, but '\n"
          ],
          "name": "stderr"
        },
        {
          "output_type": "stream",
          "text": [
            "2/2 [==============================] - 1s 264ms/step - loss: 0.1616 - accuracy: 0.9378 - val_loss: 0.1629 - val_accuracy: 0.9500\n",
            "Test elapsed time: 0.9545917510986328 seconds\n",
            "Pruned test accuracy: 0.9182999730110168\n",
            "0.9182999730110168 0.9545917510986328 6.7M\tquant_model.tf\n"
          ],
          "name": "stdout"
        },
        {
          "output_type": "stream",
          "text": [
            "/usr/local/lib/python3.7/dist-packages/tensorflow/python/keras/engine/base_layer.py:2191: UserWarning: `layer.add_variable` is deprecated and will be removed in a future version. Please use `layer.add_weight` method instead.\n",
            "  warnings.warn('`layer.add_variable` is deprecated and '\n"
          ],
          "name": "stderr"
        },
        {
          "output_type": "stream",
          "text": [
            "Model: \"sequential\"\n",
            "_________________________________________________________________\n",
            "Layer (type)                 Output Shape              Param #   \n",
            "=================================================================\n",
            "prune_low_magnitude_batch_no (None, 28, 28, 1)         5         \n",
            "_________________________________________________________________\n",
            "prune_low_magnitude_conv2d ( (None, 28, 28, 64)        3266      \n",
            "_________________________________________________________________\n",
            "prune_low_magnitude_max_pool (None, 14, 14, 64)        1         \n",
            "_________________________________________________________________\n",
            "prune_low_magnitude_dropout  (None, 14, 14, 64)        1         \n",
            "_________________________________________________________________\n",
            "prune_low_magnitude_batch_no (None, 14, 14, 64)        257       \n",
            "_________________________________________________________________\n",
            "prune_low_magnitude_conv2d_1 (None, 14, 14, 128)       409730    \n",
            "_________________________________________________________________\n",
            "prune_low_magnitude_max_pool (None, 7, 7, 128)         1         \n",
            "_________________________________________________________________\n",
            "prune_low_magnitude_dropout_ (None, 7, 7, 128)         1         \n",
            "_________________________________________________________________\n",
            "prune_low_magnitude_batch_no (None, 7, 7, 128)         513       \n",
            "_________________________________________________________________\n",
            "prune_low_magnitude_conv2d_2 (None, 7, 7, 256)         1638658   \n",
            "_________________________________________________________________\n",
            "prune_low_magnitude_max_pool (None, 3, 3, 256)         1         \n",
            "_________________________________________________________________\n",
            "prune_low_magnitude_dropout_ (None, 3, 3, 256)         1         \n",
            "_________________________________________________________________\n",
            "prune_low_magnitude_flatten  (None, 2304)              1         \n",
            "_________________________________________________________________\n",
            "prune_low_magnitude_dense (P (None, 256)               1179906   \n",
            "_________________________________________________________________\n",
            "prune_low_magnitude_activati (None, 256)               1         \n",
            "_________________________________________________________________\n",
            "prune_low_magnitude_dropout_ (None, 256)               1         \n",
            "_________________________________________________________________\n",
            "prune_low_magnitude_dense_1  (None, 10)                5132      \n",
            "_________________________________________________________________\n",
            "prune_low_magnitude_activati (None, 10)                1         \n",
            "=================================================================\n",
            "Total params: 3,237,477\n",
            "Trainable params: 1,619,084\n",
            "Non-trainable params: 1,618,393\n",
            "_________________________________________________________________\n",
            "None\n"
          ],
          "name": "stdout"
        },
        {
          "output_type": "stream",
          "text": [
            "WARNING:absl:Found untraced functions such as conv2d_layer_call_fn, conv2d_layer_call_and_return_conditional_losses, dropout_layer_call_fn, dropout_layer_call_and_return_conditional_losses, conv2d_1_layer_call_fn while saving (showing 5 of 60). These functions will not be directly callable after loading.\n"
          ],
          "name": "stderr"
        },
        {
          "output_type": "stream",
          "text": [
            "INFO:tensorflow:Assets written to: pruned_model.tf/assets\n"
          ],
          "name": "stdout"
        },
        {
          "output_type": "stream",
          "text": [
            "INFO:tensorflow:Assets written to: pruned_model.tf/assets\n"
          ],
          "name": "stderr"
        },
        {
          "output_type": "stream",
          "text": [
            "['4.0K\\tpruned_model.tf/assets', '13M\\tpruned_model.tf/variables', '15M\\tpruned_model.tf']\n",
            "Epoch 1/2\n"
          ],
          "name": "stdout"
        },
        {
          "output_type": "stream",
          "text": [
            "/usr/local/lib/python3.7/dist-packages/tensorflow/python/keras/backend.py:4870: UserWarning: \"`categorical_crossentropy` received `from_logits=True`, but the `output` argument was produced by a sigmoid or softmax activation and thus does not represent logits. Was this intended?\"\n",
            "  '\"`categorical_crossentropy` received `from_logits=True`, but '\n"
          ],
          "name": "stderr"
        },
        {
          "output_type": "stream",
          "text": [
            "  5/422 [..............................] - ETA: 2:12 - loss: 0.2264 - accuracy: 0.9094WARNING:tensorflow:Callback method `on_train_batch_begin` is slow compared to the batch time (batch time: 0.0167s vs `on_train_batch_begin` time: 0.0506s). Check your callbacks.\n"
          ],
          "name": "stdout"
        },
        {
          "output_type": "stream",
          "text": [
            "WARNING:tensorflow:Callback method `on_train_batch_begin` is slow compared to the batch time (batch time: 0.0167s vs `on_train_batch_begin` time: 0.0506s). Check your callbacks.\n"
          ],
          "name": "stderr"
        },
        {
          "output_type": "stream",
          "text": [
            "WARNING:tensorflow:Callback method `on_train_batch_end` is slow compared to the batch time (batch time: 0.0167s vs `on_train_batch_end` time: 0.1539s). Check your callbacks.\n"
          ],
          "name": "stdout"
        },
        {
          "output_type": "stream",
          "text": [
            "WARNING:tensorflow:Callback method `on_train_batch_end` is slow compared to the batch time (batch time: 0.0167s vs `on_train_batch_end` time: 0.1539s). Check your callbacks.\n"
          ],
          "name": "stderr"
        },
        {
          "output_type": "stream",
          "text": [
            "422/422 [==============================] - 16s 31ms/step - loss: 0.2163 - accuracy: 0.9202 - val_loss: 0.1741 - val_accuracy: 0.9293\n",
            "Epoch 2/2\n",
            "422/422 [==============================] - 12s 28ms/step - loss: 0.2222 - accuracy: 0.9196 - val_loss: 0.1535 - val_accuracy: 0.9410\n",
            "Test elapsed time: 0.9208343029022217 seconds\n",
            "Pruned test accuracy: 0.9193999767303467\n",
            "Model: \"sequential\"\n",
            "_________________________________________________________________\n",
            "Layer (type)                 Output Shape              Param #   \n",
            "=================================================================\n",
            "cluster_batch_normalization  (None, 28, 28, 1)         4         \n",
            "_________________________________________________________________\n",
            "cluster_conv2d (ClusterWeigh (None, 28, 28, 64)        1674      \n",
            "_________________________________________________________________\n",
            "cluster_max_pooling2d (Clust (None, 14, 14, 64)        0         \n",
            "_________________________________________________________________\n",
            "cluster_dropout (ClusterWeig (None, 14, 14, 64)        0         \n",
            "_________________________________________________________________\n",
            "cluster_batch_normalization_ (None, 14, 14, 64)        256       \n",
            "_________________________________________________________________\n",
            "cluster_conv2d_1 (ClusterWei (None, 14, 14, 128)       204938    \n",
            "_________________________________________________________________\n",
            "cluster_max_pooling2d_1 (Clu (None, 7, 7, 128)         0         \n",
            "_________________________________________________________________\n",
            "cluster_dropout_1 (ClusterWe (None, 7, 7, 128)         0         \n",
            "_________________________________________________________________\n",
            "cluster_batch_normalization_ (None, 7, 7, 128)         512       \n",
            "_________________________________________________________________\n",
            "cluster_conv2d_2 (ClusterWei (None, 7, 7, 256)         819466    \n",
            "_________________________________________________________________\n",
            "cluster_max_pooling2d_2 (Clu (None, 3, 3, 256)         0         \n",
            "_________________________________________________________________\n",
            "cluster_dropout_2 (ClusterWe (None, 3, 3, 256)         0         \n",
            "_________________________________________________________________\n",
            "cluster_flatten (ClusterWeig (None, 2304)              0         \n",
            "_________________________________________________________________\n",
            "cluster_dense (ClusterWeight (None, 256)               590090    \n",
            "_________________________________________________________________\n",
            "cluster_activation (ClusterW (None, 256)               0         \n",
            "_________________________________________________________________\n",
            "cluster_dropout_3 (ClusterWe (None, 256)               0         \n",
            "_________________________________________________________________\n",
            "cluster_dense_1 (ClusterWeig (None, 10)                2580      \n",
            "_________________________________________________________________\n",
            "cluster_activation_1 (Cluste (None, 10)                0         \n",
            "=================================================================\n",
            "Total params: 1,619,520\n",
            "Trainable params: 1,150\n",
            "Non-trainable params: 1,618,370\n",
            "_________________________________________________________________\n",
            "None\n",
            "108/108 [==============================] - 8s 63ms/step - loss: 0.1567 - accuracy: 0.9381 - val_loss: 0.1498 - val_accuracy: 0.9377\n",
            "Test elapsed time: 2.7426393032073975 seconds\n",
            "Clustered test accuracy: 0.906000018119812\n"
          ],
          "name": "stdout"
        },
        {
          "output_type": "stream",
          "text": [
            "WARNING:absl:Found untraced functions such as conv2d_layer_call_fn, conv2d_layer_call_and_return_conditional_losses, dropout_layer_call_fn, dropout_layer_call_and_return_conditional_losses, conv2d_1_layer_call_fn while saving (showing 5 of 60). These functions will not be directly callable after loading.\n"
          ],
          "name": "stderr"
        },
        {
          "output_type": "stream",
          "text": [
            "INFO:tensorflow:Assets written to: cluster_model.tf/assets\n"
          ],
          "name": "stdout"
        },
        {
          "output_type": "stream",
          "text": [
            "INFO:tensorflow:Assets written to: cluster_model.tf/assets\n"
          ],
          "name": "stderr"
        },
        {
          "output_type": "stream",
          "text": [
            "['4.0K\\tcluster_model.tf/assets', '13M\\tcluster_model.tf/variables', '13M\\tcluster_model.tf']\n"
          ],
          "name": "stdout"
        }
      ]
    },
    {
      "cell_type": "code",
      "metadata": {
        "colab": {
          "base_uri": "https://localhost:8080/"
        },
        "id": "IaKVEtyJyq2K",
        "outputId": "6c22bacd-f27b-44aa-a541-1059be8603b9"
      },
      "source": [
        "## OPTIMIZATIONS ON REDUX\n",
        "\n",
        "#QUANT + PRUNE\n",
        "model = tf.keras.models.load_model(\"./fashion_mnist_model_redux.tf\")\n",
        "rqp_model, rqp_results = quant_model(model)\n",
        "rqp_model, rqp_results = prune_model(rqp_model)\n",
        "\n",
        "#PRUNE + QUANT\n",
        "model = tf.keras.models.load_model(\"./fashion_mnist_model_redux.tf\")\n",
        "rpq_model, rpq_results = prune_model(model)\n",
        "rpq_model, rpq_results = quant_model(rpq_model)\n",
        "\n",
        "#QUANT + CLUST\n",
        "model = tf.keras.models.load_model(\"./fashion_mnist_model_redux.tf\")\n",
        "rqc_model, rqc_results = quant_model(model)\n",
        "rqc_model, rqc_results = cluster_model(rqc_model)\n",
        "\n",
        "#CLUST + QUANT\n",
        "model = tf.keras.models.load_model(\"./fashion_mnist_model_redux.tf\")\n",
        "rcq_model, rcq_results = cluster_model(model)\n",
        "rcq_model, rcq_results = quant_model(rcq_model)\n",
        "\n",
        "#PRUNE + CLUST\n",
        "model = tf.keras.models.load_model(\"./fashion_mnist_model_redux.tf\")\n",
        "rpc_model, rpc_results = prune_model(model)\n",
        "rpc_model, rpc_results = cluster_model(rpc_model)\n"
      ],
      "execution_count": null,
      "outputs": [
        {
          "output_type": "stream",
          "text": [
            "Model: \"sequential\"\n",
            "_________________________________________________________________\n",
            "Layer (type)                 Output Shape              Param #   \n",
            "=================================================================\n",
            "batch_normalization (BatchNo (None, 28, 28, 1)         4         \n",
            "_________________________________________________________________\n",
            "conv2d (Conv2D)              (None, 28, 28, 64)        1664      \n",
            "_________________________________________________________________\n",
            "quant_max_pooling2d (Quantiz (None, 14, 14, 64)        1         \n",
            "_________________________________________________________________\n",
            "quant_dropout (QuantizeWrapp (None, 14, 14, 64)        1         \n",
            "_________________________________________________________________\n",
            "batch_normalization_1 (Batch (None, 14, 14, 64)        256       \n",
            "_________________________________________________________________\n",
            "conv2d_1 (Conv2D)            (None, 14, 14, 128)       204928    \n",
            "_________________________________________________________________\n",
            "quant_max_pooling2d_1 (Quant (None, 7, 7, 128)         1         \n",
            "_________________________________________________________________\n",
            "quant_dropout_1 (QuantizeWra (None, 7, 7, 128)         1         \n",
            "_________________________________________________________________\n",
            "batch_normalization_2 (Batch (None, 7, 7, 128)         512       \n",
            "_________________________________________________________________\n",
            "conv2d_2 (Conv2D)            (None, 7, 7, 256)         819456    \n",
            "_________________________________________________________________\n",
            "quant_max_pooling2d_2 (Quant (None, 3, 3, 256)         1         \n",
            "_________________________________________________________________\n",
            "quant_dropout_2 (QuantizeWra (None, 3, 3, 256)         1         \n",
            "_________________________________________________________________\n",
            "flatten (Flatten)            (None, 2304)              0         \n",
            "_________________________________________________________________\n",
            "dense (Dense)                (None, 256)               590080    \n",
            "_________________________________________________________________\n",
            "activation (Activation)      (None, 256)               0         \n",
            "_________________________________________________________________\n",
            "quant_dropout_3 (QuantizeWra (None, 256)               1         \n",
            "_________________________________________________________________\n",
            "dense_1 (Dense)              (None, 10)                2570      \n",
            "_________________________________________________________________\n",
            "activation_1 (Activation)    (None, 10)                0         \n",
            "=================================================================\n",
            "Total params: 1,619,477\n",
            "Trainable params: 1,619,084\n",
            "Non-trainable params: 393\n",
            "_________________________________________________________________\n",
            "None\n"
          ],
          "name": "stdout"
        },
        {
          "output_type": "stream",
          "text": [
            "WARNING:absl:Found untraced functions such as dropout_layer_call_fn, dropout_layer_call_and_return_conditional_losses, dropout_1_layer_call_fn, dropout_1_layer_call_and_return_conditional_losses, dropout_2_layer_call_fn while saving (showing 5 of 20). These functions will not be directly callable after loading.\n"
          ],
          "name": "stderr"
        },
        {
          "output_type": "stream",
          "text": [
            "['4.0K\\tquant_model.tf/assets', '6.2M\\tquant_model.tf/variables', '6.7M\\tquant_model.tf']\n"
          ],
          "name": "stdout"
        },
        {
          "output_type": "stream",
          "text": [
            "/usr/local/lib/python3.7/dist-packages/tensorflow/python/keras/backend.py:4870: UserWarning: \"`categorical_crossentropy` received `from_logits=True`, but the `output` argument was produced by a sigmoid or softmax activation and thus does not represent logits. Was this intended?\"\n",
            "  '\"`categorical_crossentropy` received `from_logits=True`, but '\n"
          ],
          "name": "stderr"
        },
        {
          "output_type": "stream",
          "text": [
            "2/2 [==============================] - 1s 270ms/step - loss: 0.1787 - accuracy: 0.9322 - val_loss: 0.1501 - val_accuracy: 0.9200\n",
            "Test elapsed time: 1.2998781204223633 seconds\n",
            "Pruned test accuracy: 0.9154000282287598\n",
            "0.9154000282287598 1.2998781204223633 6.7M\tquant_model.tf\n",
            "Model: \"sequential_3\"\n",
            "_________________________________________________________________\n",
            "Layer (type)                 Output Shape              Param #   \n",
            "=================================================================\n",
            "prune_low_magnitude_batch_no (None, 28, 28, 1)         5         \n",
            "_________________________________________________________________\n",
            "prune_low_magnitude_conv2d_9 (None, 28, 28, 32)        1634      \n",
            "_________________________________________________________________\n",
            "prune_low_magnitude_max_pool (None, 14, 14, 32)        1         \n",
            "_________________________________________________________________\n",
            "prune_low_magnitude_dropout_ (None, 14, 14, 32)        1         \n",
            "_________________________________________________________________\n",
            "prune_low_magnitude_batch_no (None, 14, 14, 32)        129       \n",
            "_________________________________________________________________\n",
            "prune_low_magnitude_conv2d_1 (None, 14, 14, 64)        102466    \n",
            "_________________________________________________________________\n",
            "prune_low_magnitude_max_pool (None, 7, 7, 64)          1         \n",
            "_________________________________________________________________\n",
            "prune_low_magnitude_dropout_ (None, 7, 7, 64)          1         \n",
            "_________________________________________________________________\n",
            "prune_low_magnitude_batch_no (None, 7, 7, 64)          257       \n",
            "_________________________________________________________________\n",
            "prune_low_magnitude_conv2d_1 (None, 7, 7, 128)         409730    \n",
            "_________________________________________________________________\n",
            "prune_low_magnitude_max_pool (None, 3, 3, 128)         1         \n",
            "_________________________________________________________________\n",
            "prune_low_magnitude_dropout_ (None, 3, 3, 128)         1         \n",
            "_________________________________________________________________\n",
            "prune_low_magnitude_flatten_ (None, 1152)              1         \n",
            "_________________________________________________________________\n",
            "prune_low_magnitude_dense_6  (None, 128)               295042    \n",
            "_________________________________________________________________\n",
            "prune_low_magnitude_activati (None, 128)               1         \n",
            "_________________________________________________________________\n",
            "prune_low_magnitude_dropout_ (None, 128)               1         \n",
            "_________________________________________________________________\n",
            "prune_low_magnitude_dense_7  (None, 10)                2572      \n",
            "_________________________________________________________________\n",
            "prune_low_magnitude_activati (None, 10)                1         \n",
            "=================================================================\n",
            "Total params: 811,845\n",
            "Trainable params: 406,092\n",
            "Non-trainable params: 405,753\n",
            "_________________________________________________________________\n",
            "None\n"
          ],
          "name": "stdout"
        },
        {
          "output_type": "stream",
          "text": [
            "/usr/local/lib/python3.7/dist-packages/tensorflow/python/keras/engine/base_layer.py:2191: UserWarning: `layer.add_variable` is deprecated and will be removed in a future version. Please use `layer.add_weight` method instead.\n",
            "  warnings.warn('`layer.add_variable` is deprecated and '\n",
            "WARNING:absl:Found untraced functions such as conv2d_9_layer_call_fn, conv2d_9_layer_call_and_return_conditional_losses, dropout_12_layer_call_fn, dropout_12_layer_call_and_return_conditional_losses, conv2d_10_layer_call_fn while saving (showing 5 of 60). These functions will not be directly callable after loading.\n"
          ],
          "name": "stderr"
        },
        {
          "output_type": "stream",
          "text": [
            "['4.0K\\tpruned_model.tf/assets', '3.2M\\tpruned_model.tf/variables', '5.0M\\tpruned_model.tf']\n",
            "Epoch 1/2\n"
          ],
          "name": "stdout"
        },
        {
          "output_type": "stream",
          "text": [
            "/usr/local/lib/python3.7/dist-packages/tensorflow/python/keras/backend.py:4870: UserWarning: \"`categorical_crossentropy` received `from_logits=True`, but the `output` argument was produced by a sigmoid or softmax activation and thus does not represent logits. Was this intended?\"\n",
            "  '\"`categorical_crossentropy` received `from_logits=True`, but '\n"
          ],
          "name": "stderr"
        },
        {
          "output_type": "stream",
          "text": [
            "422/422 [==============================] - 13s 23ms/step - loss: 0.2663 - accuracy: 0.9030 - val_loss: 0.2099 - val_accuracy: 0.9215\n",
            "Epoch 2/2\n",
            "422/422 [==============================] - 8s 19ms/step - loss: 0.2879 - accuracy: 0.8991 - val_loss: 0.1909 - val_accuracy: 0.9290\n",
            "Test elapsed time: 0.6957435607910156 seconds\n",
            "Pruned test accuracy: 0.9099000096321106\n"
          ],
          "name": "stdout"
        },
        {
          "output_type": "stream",
          "text": [
            "/usr/local/lib/python3.7/dist-packages/tensorflow/python/keras/engine/base_layer.py:2191: UserWarning: `layer.add_variable` is deprecated and will be removed in a future version. Please use `layer.add_weight` method instead.\n",
            "  warnings.warn('`layer.add_variable` is deprecated and '\n"
          ],
          "name": "stderr"
        },
        {
          "output_type": "stream",
          "text": [
            "Model: \"sequential_3\"\n",
            "_________________________________________________________________\n",
            "Layer (type)                 Output Shape              Param #   \n",
            "=================================================================\n",
            "prune_low_magnitude_batch_no (None, 28, 28, 1)         5         \n",
            "_________________________________________________________________\n",
            "prune_low_magnitude_conv2d_9 (None, 28, 28, 32)        1634      \n",
            "_________________________________________________________________\n",
            "prune_low_magnitude_max_pool (None, 14, 14, 32)        1         \n",
            "_________________________________________________________________\n",
            "prune_low_magnitude_dropout_ (None, 14, 14, 32)        1         \n",
            "_________________________________________________________________\n",
            "prune_low_magnitude_batch_no (None, 14, 14, 32)        129       \n",
            "_________________________________________________________________\n",
            "prune_low_magnitude_conv2d_1 (None, 14, 14, 64)        102466    \n",
            "_________________________________________________________________\n",
            "prune_low_magnitude_max_pool (None, 7, 7, 64)          1         \n",
            "_________________________________________________________________\n",
            "prune_low_magnitude_dropout_ (None, 7, 7, 64)          1         \n",
            "_________________________________________________________________\n",
            "prune_low_magnitude_batch_no (None, 7, 7, 64)          257       \n",
            "_________________________________________________________________\n",
            "prune_low_magnitude_conv2d_1 (None, 7, 7, 128)         409730    \n",
            "_________________________________________________________________\n",
            "prune_low_magnitude_max_pool (None, 3, 3, 128)         1         \n",
            "_________________________________________________________________\n",
            "prune_low_magnitude_dropout_ (None, 3, 3, 128)         1         \n",
            "_________________________________________________________________\n",
            "prune_low_magnitude_flatten_ (None, 1152)              1         \n",
            "_________________________________________________________________\n",
            "prune_low_magnitude_dense_6  (None, 128)               295042    \n",
            "_________________________________________________________________\n",
            "prune_low_magnitude_activati (None, 128)               1         \n",
            "_________________________________________________________________\n",
            "prune_low_magnitude_dropout_ (None, 128)               1         \n",
            "_________________________________________________________________\n",
            "prune_low_magnitude_dense_7  (None, 10)                2572      \n",
            "_________________________________________________________________\n",
            "prune_low_magnitude_activati (None, 10)                1         \n",
            "=================================================================\n",
            "Total params: 811,845\n",
            "Trainable params: 406,092\n",
            "Non-trainable params: 405,753\n",
            "_________________________________________________________________\n",
            "None\n"
          ],
          "name": "stdout"
        },
        {
          "output_type": "stream",
          "text": [
            "WARNING:absl:Found untraced functions such as conv2d_9_layer_call_fn, conv2d_9_layer_call_and_return_conditional_losses, dropout_12_layer_call_fn, dropout_12_layer_call_and_return_conditional_losses, conv2d_10_layer_call_fn while saving (showing 5 of 60). These functions will not be directly callable after loading.\n"
          ],
          "name": "stderr"
        },
        {
          "output_type": "stream",
          "text": [
            "['4.0K\\tpruned_model.tf/assets', '3.2M\\tpruned_model.tf/variables', '5.0M\\tpruned_model.tf']\n",
            "Epoch 1/2\n"
          ],
          "name": "stdout"
        },
        {
          "output_type": "stream",
          "text": [
            "/usr/local/lib/python3.7/dist-packages/tensorflow/python/keras/backend.py:4870: UserWarning: \"`categorical_crossentropy` received `from_logits=True`, but the `output` argument was produced by a sigmoid or softmax activation and thus does not represent logits. Was this intended?\"\n",
            "  '\"`categorical_crossentropy` received `from_logits=True`, but '\n"
          ],
          "name": "stderr"
        },
        {
          "output_type": "stream",
          "text": [
            "422/422 [==============================] - 14s 23ms/step - loss: 0.2624 - accuracy: 0.9034 - val_loss: 0.2091 - val_accuracy: 0.9227\n",
            "Epoch 2/2\n",
            "422/422 [==============================] - 8s 19ms/step - loss: 0.2803 - accuracy: 0.9010 - val_loss: 0.1905 - val_accuracy: 0.9320\n",
            "Test elapsed time: 1.3004262447357178 seconds\n",
            "Pruned test accuracy: 0.9100000262260437\n",
            "Model: \"sequential\"\n",
            "_________________________________________________________________\n",
            "Layer (type)                 Output Shape              Param #   \n",
            "=================================================================\n",
            "batch_normalization (BatchNo (None, 28, 28, 1)         4         \n",
            "_________________________________________________________________\n",
            "conv2d (Conv2D)              (None, 28, 28, 64)        1664      \n",
            "_________________________________________________________________\n",
            "quant_max_pooling2d (Quantiz (None, 14, 14, 64)        1         \n",
            "_________________________________________________________________\n",
            "quant_dropout (QuantizeWrapp (None, 14, 14, 64)        1         \n",
            "_________________________________________________________________\n",
            "batch_normalization_1 (Batch (None, 14, 14, 64)        256       \n",
            "_________________________________________________________________\n",
            "conv2d_1 (Conv2D)            (None, 14, 14, 128)       204928    \n",
            "_________________________________________________________________\n",
            "quant_max_pooling2d_1 (Quant (None, 7, 7, 128)         1         \n",
            "_________________________________________________________________\n",
            "quant_dropout_1 (QuantizeWra (None, 7, 7, 128)         1         \n",
            "_________________________________________________________________\n",
            "batch_normalization_2 (Batch (None, 7, 7, 128)         512       \n",
            "_________________________________________________________________\n",
            "conv2d_2 (Conv2D)            (None, 7, 7, 256)         819456    \n",
            "_________________________________________________________________\n",
            "quant_max_pooling2d_2 (Quant (None, 3, 3, 256)         1         \n",
            "_________________________________________________________________\n",
            "quant_dropout_2 (QuantizeWra (None, 3, 3, 256)         1         \n",
            "_________________________________________________________________\n",
            "flatten (Flatten)            (None, 2304)              0         \n",
            "_________________________________________________________________\n",
            "dense (Dense)                (None, 256)               590080    \n",
            "_________________________________________________________________\n",
            "activation (Activation)      (None, 256)               0         \n",
            "_________________________________________________________________\n",
            "quant_dropout_3 (QuantizeWra (None, 256)               1         \n",
            "_________________________________________________________________\n",
            "dense_1 (Dense)              (None, 10)                2570      \n",
            "_________________________________________________________________\n",
            "activation_1 (Activation)    (None, 10)                0         \n",
            "=================================================================\n",
            "Total params: 1,619,477\n",
            "Trainable params: 1,619,084\n",
            "Non-trainable params: 393\n",
            "_________________________________________________________________\n",
            "None\n"
          ],
          "name": "stdout"
        },
        {
          "output_type": "stream",
          "text": [
            "WARNING:absl:Found untraced functions such as dropout_layer_call_fn, dropout_layer_call_and_return_conditional_losses, dropout_1_layer_call_fn, dropout_1_layer_call_and_return_conditional_losses, dropout_2_layer_call_fn while saving (showing 5 of 20). These functions will not be directly callable after loading.\n"
          ],
          "name": "stderr"
        },
        {
          "output_type": "stream",
          "text": [
            "['4.0K\\tquant_model.tf/assets', '6.2M\\tquant_model.tf/variables', '6.7M\\tquant_model.tf']\n"
          ],
          "name": "stdout"
        },
        {
          "output_type": "stream",
          "text": [
            "/usr/local/lib/python3.7/dist-packages/tensorflow/python/keras/backend.py:4870: UserWarning: \"`categorical_crossentropy` received `from_logits=True`, but the `output` argument was produced by a sigmoid or softmax activation and thus does not represent logits. Was this intended?\"\n",
            "  '\"`categorical_crossentropy` received `from_logits=True`, but '\n"
          ],
          "name": "stderr"
        },
        {
          "output_type": "stream",
          "text": [
            "2/2 [==============================] - 1s 263ms/step - loss: 0.1610 - accuracy: 0.9400 - val_loss: 0.1621 - val_accuracy: 0.9300\n",
            "Test elapsed time: 1.3012731075286865 seconds\n",
            "Pruned test accuracy: 0.9139000177383423\n",
            "0.9139000177383423 1.3012731075286865 6.7M\tquant_model.tf\n",
            "Model: \"sequential\"\n",
            "_________________________________________________________________\n",
            "Layer (type)                 Output Shape              Param #   \n",
            "=================================================================\n",
            "batch_normalization (BatchNo (None, 28, 28, 1)         4         \n",
            "_________________________________________________________________\n",
            "conv2d (Conv2D)              (None, 28, 28, 64)        1664      \n",
            "_________________________________________________________________\n",
            "quant_max_pooling2d (Quantiz (None, 14, 14, 64)        1         \n",
            "_________________________________________________________________\n",
            "quant_dropout (QuantizeWrapp (None, 14, 14, 64)        1         \n",
            "_________________________________________________________________\n",
            "batch_normalization_1 (Batch (None, 14, 14, 64)        256       \n",
            "_________________________________________________________________\n",
            "conv2d_1 (Conv2D)            (None, 14, 14, 128)       204928    \n",
            "_________________________________________________________________\n",
            "quant_max_pooling2d_1 (Quant (None, 7, 7, 128)         1         \n",
            "_________________________________________________________________\n",
            "quant_dropout_1 (QuantizeWra (None, 7, 7, 128)         1         \n",
            "_________________________________________________________________\n",
            "batch_normalization_2 (Batch (None, 7, 7, 128)         512       \n",
            "_________________________________________________________________\n",
            "conv2d_2 (Conv2D)            (None, 7, 7, 256)         819456    \n",
            "_________________________________________________________________\n",
            "quant_max_pooling2d_2 (Quant (None, 3, 3, 256)         1         \n",
            "_________________________________________________________________\n",
            "quant_dropout_2 (QuantizeWra (None, 3, 3, 256)         1         \n",
            "_________________________________________________________________\n",
            "flatten (Flatten)            (None, 2304)              0         \n",
            "_________________________________________________________________\n",
            "dense (Dense)                (None, 256)               590080    \n",
            "_________________________________________________________________\n",
            "activation (Activation)      (None, 256)               0         \n",
            "_________________________________________________________________\n",
            "quant_dropout_3 (QuantizeWra (None, 256)               1         \n",
            "_________________________________________________________________\n",
            "dense_1 (Dense)              (None, 10)                2570      \n",
            "_________________________________________________________________\n",
            "activation_1 (Activation)    (None, 10)                0         \n",
            "=================================================================\n",
            "Total params: 1,619,477\n",
            "Trainable params: 1,619,084\n",
            "Non-trainable params: 393\n",
            "_________________________________________________________________\n",
            "None\n"
          ],
          "name": "stdout"
        },
        {
          "output_type": "stream",
          "text": [
            "WARNING:absl:Found untraced functions such as dropout_layer_call_fn, dropout_layer_call_and_return_conditional_losses, dropout_1_layer_call_fn, dropout_1_layer_call_and_return_conditional_losses, dropout_2_layer_call_fn while saving (showing 5 of 20). These functions will not be directly callable after loading.\n"
          ],
          "name": "stderr"
        },
        {
          "output_type": "stream",
          "text": [
            "['4.0K\\tquant_model.tf/assets', '6.2M\\tquant_model.tf/variables', '6.7M\\tquant_model.tf']\n"
          ],
          "name": "stdout"
        },
        {
          "output_type": "stream",
          "text": [
            "/usr/local/lib/python3.7/dist-packages/tensorflow/python/keras/backend.py:4870: UserWarning: \"`categorical_crossentropy` received `from_logits=True`, but the `output` argument was produced by a sigmoid or softmax activation and thus does not represent logits. Was this intended?\"\n",
            "  '\"`categorical_crossentropy` received `from_logits=True`, but '\n"
          ],
          "name": "stderr"
        },
        {
          "output_type": "stream",
          "text": [
            "2/2 [==============================] - 1s 259ms/step - loss: 0.1703 - accuracy: 0.9411 - val_loss: 0.1607 - val_accuracy: 0.9000\n",
            "Test elapsed time: 1.3007524013519287 seconds\n",
            "Pruned test accuracy: 0.9096999764442444\n",
            "0.9096999764442444 1.3007524013519287 6.7M\tquant_model.tf\n",
            "Model: \"sequential\"\n",
            "_________________________________________________________________\n",
            "Layer (type)                 Output Shape              Param #   \n",
            "=================================================================\n",
            "cluster_batch_normalization  (None, 28, 28, 1)         4         \n",
            "_________________________________________________________________\n",
            "cluster_conv2d (ClusterWeigh (None, 28, 28, 64)        1674      \n",
            "_________________________________________________________________\n",
            "cluster_max_pooling2d (Clust (None, 14, 14, 64)        0         \n",
            "_________________________________________________________________\n",
            "cluster_dropout (ClusterWeig (None, 14, 14, 64)        0         \n",
            "_________________________________________________________________\n",
            "cluster_batch_normalization_ (None, 14, 14, 64)        256       \n",
            "_________________________________________________________________\n",
            "cluster_conv2d_1 (ClusterWei (None, 14, 14, 128)       204938    \n",
            "_________________________________________________________________\n",
            "cluster_max_pooling2d_1 (Clu (None, 7, 7, 128)         0         \n",
            "_________________________________________________________________\n",
            "cluster_dropout_1 (ClusterWe (None, 7, 7, 128)         0         \n",
            "_________________________________________________________________\n",
            "cluster_batch_normalization_ (None, 7, 7, 128)         512       \n",
            "_________________________________________________________________\n",
            "cluster_conv2d_2 (ClusterWei (None, 7, 7, 256)         819466    \n",
            "_________________________________________________________________\n",
            "cluster_max_pooling2d_2 (Clu (None, 3, 3, 256)         0         \n",
            "_________________________________________________________________\n",
            "cluster_dropout_2 (ClusterWe (None, 3, 3, 256)         0         \n",
            "_________________________________________________________________\n",
            "cluster_flatten (ClusterWeig (None, 2304)              0         \n",
            "_________________________________________________________________\n",
            "cluster_dense (ClusterWeight (None, 256)               590090    \n",
            "_________________________________________________________________\n",
            "cluster_activation (ClusterW (None, 256)               0         \n",
            "_________________________________________________________________\n",
            "cluster_dropout_3 (ClusterWe (None, 256)               0         \n",
            "_________________________________________________________________\n",
            "cluster_dense_1 (ClusterWeig (None, 10)                2580      \n",
            "_________________________________________________________________\n",
            "cluster_activation_1 (Cluste (None, 10)                0         \n",
            "=================================================================\n",
            "Total params: 1,619,520\n",
            "Trainable params: 1,150\n",
            "Non-trainable params: 1,618,370\n",
            "_________________________________________________________________\n",
            "None\n",
            "108/108 [==============================] - 8s 61ms/step - loss: 0.1568 - accuracy: 0.9381 - val_loss: 0.1498 - val_accuracy: 0.9380\n",
            "Test elapsed time: 2.7485101222991943 seconds\n",
            "Clustered test accuracy: 0.906000018119812\n"
          ],
          "name": "stdout"
        },
        {
          "output_type": "stream",
          "text": [
            "WARNING:absl:Found untraced functions such as conv2d_layer_call_fn, conv2d_layer_call_and_return_conditional_losses, dropout_layer_call_fn, dropout_layer_call_and_return_conditional_losses, conv2d_1_layer_call_fn while saving (showing 5 of 60). These functions will not be directly callable after loading.\n"
          ],
          "name": "stderr"
        },
        {
          "output_type": "stream",
          "text": [
            "['4.0K\\tcluster_model.tf/assets', '13M\\tcluster_model.tf/variables', '13M\\tcluster_model.tf']\n",
            "Model: \"sequential\"\n",
            "_________________________________________________________________\n",
            "Layer (type)                 Output Shape              Param #   \n",
            "=================================================================\n",
            "cluster_batch_normalization  (None, 28, 28, 1)         4         \n",
            "_________________________________________________________________\n",
            "cluster_conv2d (ClusterWeigh (None, 28, 28, 64)        1674      \n",
            "_________________________________________________________________\n",
            "cluster_max_pooling2d (Clust (None, 14, 14, 64)        0         \n",
            "_________________________________________________________________\n",
            "cluster_dropout (ClusterWeig (None, 14, 14, 64)        0         \n",
            "_________________________________________________________________\n",
            "cluster_batch_normalization_ (None, 14, 14, 64)        256       \n",
            "_________________________________________________________________\n",
            "cluster_conv2d_1 (ClusterWei (None, 14, 14, 128)       204938    \n",
            "_________________________________________________________________\n",
            "cluster_max_pooling2d_1 (Clu (None, 7, 7, 128)         0         \n",
            "_________________________________________________________________\n",
            "cluster_dropout_1 (ClusterWe (None, 7, 7, 128)         0         \n",
            "_________________________________________________________________\n",
            "cluster_batch_normalization_ (None, 7, 7, 128)         512       \n",
            "_________________________________________________________________\n",
            "cluster_conv2d_2 (ClusterWei (None, 7, 7, 256)         819466    \n",
            "_________________________________________________________________\n",
            "cluster_max_pooling2d_2 (Clu (None, 3, 3, 256)         0         \n",
            "_________________________________________________________________\n",
            "cluster_dropout_2 (ClusterWe (None, 3, 3, 256)         0         \n",
            "_________________________________________________________________\n",
            "cluster_flatten (ClusterWeig (None, 2304)              0         \n",
            "_________________________________________________________________\n",
            "cluster_dense (ClusterWeight (None, 256)               590090    \n",
            "_________________________________________________________________\n",
            "cluster_activation (ClusterW (None, 256)               0         \n",
            "_________________________________________________________________\n",
            "cluster_dropout_3 (ClusterWe (None, 256)               0         \n",
            "_________________________________________________________________\n",
            "cluster_dense_1 (ClusterWeig (None, 10)                2580      \n",
            "_________________________________________________________________\n",
            "cluster_activation_1 (Cluste (None, 10)                0         \n",
            "=================================================================\n",
            "Total params: 1,619,520\n",
            "Trainable params: 1,150\n",
            "Non-trainable params: 1,618,370\n",
            "_________________________________________________________________\n",
            "None\n"
          ],
          "name": "stdout"
        },
        {
          "output_type": "stream",
          "text": [
            "/usr/local/lib/python3.7/dist-packages/tensorflow/python/keras/backend.py:4870: UserWarning: \"`categorical_crossentropy` received `from_logits=True`, but the `output` argument was produced by a sigmoid or softmax activation and thus does not represent logits. Was this intended?\"\n",
            "  '\"`categorical_crossentropy` received `from_logits=True`, but '\n"
          ],
          "name": "stderr"
        },
        {
          "output_type": "stream",
          "text": [
            "108/108 [==============================] - 7s 60ms/step - loss: 0.1566 - accuracy: 0.9377 - val_loss: 0.1498 - val_accuracy: 0.9382\n",
            "Test elapsed time: 2.7570245265960693 seconds\n",
            "Clustered test accuracy: 0.9060999751091003\n"
          ],
          "name": "stdout"
        },
        {
          "output_type": "stream",
          "text": [
            "WARNING:absl:Found untraced functions such as conv2d_layer_call_fn, conv2d_layer_call_and_return_conditional_losses, dropout_layer_call_fn, dropout_layer_call_and_return_conditional_losses, conv2d_1_layer_call_fn while saving (showing 5 of 60). These functions will not be directly callable after loading.\n"
          ],
          "name": "stderr"
        },
        {
          "output_type": "stream",
          "text": [
            "['4.0K\\tcluster_model.tf/assets', '13M\\tcluster_model.tf/variables', '13M\\tcluster_model.tf']\n",
            "Model: \"sequential\"\n",
            "_________________________________________________________________\n",
            "Layer (type)                 Output Shape              Param #   \n",
            "=================================================================\n",
            "batch_normalization (BatchNo (None, 28, 28, 1)         4         \n",
            "_________________________________________________________________\n",
            "conv2d (Conv2D)              (None, 28, 28, 64)        1664      \n",
            "_________________________________________________________________\n",
            "quant_max_pooling2d (Quantiz (None, 14, 14, 64)        1         \n",
            "_________________________________________________________________\n",
            "quant_dropout (QuantizeWrapp (None, 14, 14, 64)        1         \n",
            "_________________________________________________________________\n",
            "batch_normalization_1 (Batch (None, 14, 14, 64)        256       \n",
            "_________________________________________________________________\n",
            "conv2d_1 (Conv2D)            (None, 14, 14, 128)       204928    \n",
            "_________________________________________________________________\n",
            "quant_max_pooling2d_1 (Quant (None, 7, 7, 128)         1         \n",
            "_________________________________________________________________\n",
            "quant_dropout_1 (QuantizeWra (None, 7, 7, 128)         1         \n",
            "_________________________________________________________________\n",
            "batch_normalization_2 (Batch (None, 7, 7, 128)         512       \n",
            "_________________________________________________________________\n",
            "conv2d_2 (Conv2D)            (None, 7, 7, 256)         819456    \n",
            "_________________________________________________________________\n",
            "quant_max_pooling2d_2 (Quant (None, 3, 3, 256)         1         \n",
            "_________________________________________________________________\n",
            "quant_dropout_2 (QuantizeWra (None, 3, 3, 256)         1         \n",
            "_________________________________________________________________\n",
            "flatten (Flatten)            (None, 2304)              0         \n",
            "_________________________________________________________________\n",
            "dense (Dense)                (None, 256)               590080    \n",
            "_________________________________________________________________\n",
            "activation (Activation)      (None, 256)               0         \n",
            "_________________________________________________________________\n",
            "quant_dropout_3 (QuantizeWra (None, 256)               1         \n",
            "_________________________________________________________________\n",
            "dense_1 (Dense)              (None, 10)                2570      \n",
            "_________________________________________________________________\n",
            "activation_1 (Activation)    (None, 10)                0         \n",
            "=================================================================\n",
            "Total params: 1,619,477\n",
            "Trainable params: 1,619,084\n",
            "Non-trainable params: 393\n",
            "_________________________________________________________________\n",
            "None\n"
          ],
          "name": "stdout"
        },
        {
          "output_type": "stream",
          "text": [
            "WARNING:absl:Found untraced functions such as dropout_layer_call_fn, dropout_layer_call_and_return_conditional_losses, dropout_1_layer_call_fn, dropout_1_layer_call_and_return_conditional_losses, dropout_2_layer_call_fn while saving (showing 5 of 20). These functions will not be directly callable after loading.\n"
          ],
          "name": "stderr"
        },
        {
          "output_type": "stream",
          "text": [
            "['4.0K\\tquant_model.tf/assets', '6.2M\\tquant_model.tf/variables', '6.7M\\tquant_model.tf']\n"
          ],
          "name": "stdout"
        },
        {
          "output_type": "stream",
          "text": [
            "/usr/local/lib/python3.7/dist-packages/tensorflow/python/keras/backend.py:4870: UserWarning: \"`categorical_crossentropy` received `from_logits=True`, but the `output` argument was produced by a sigmoid or softmax activation and thus does not represent logits. Was this intended?\"\n",
            "  '\"`categorical_crossentropy` received `from_logits=True`, but '\n"
          ],
          "name": "stderr"
        },
        {
          "output_type": "stream",
          "text": [
            "2/2 [==============================] - 1s 259ms/step - loss: 0.1774 - accuracy: 0.9344 - val_loss: 0.1509 - val_accuracy: 0.9300\n",
            "Test elapsed time: 1.3011274337768555 seconds\n",
            "Pruned test accuracy: 0.9143000245094299\n",
            "0.9143000245094299 1.3011274337768555 6.7M\tquant_model.tf\n"
          ],
          "name": "stdout"
        },
        {
          "output_type": "stream",
          "text": [
            "/usr/local/lib/python3.7/dist-packages/tensorflow/python/keras/engine/base_layer.py:2191: UserWarning: `layer.add_variable` is deprecated and will be removed in a future version. Please use `layer.add_weight` method instead.\n",
            "  warnings.warn('`layer.add_variable` is deprecated and '\n"
          ],
          "name": "stderr"
        },
        {
          "output_type": "stream",
          "text": [
            "Model: \"sequential_3\"\n",
            "_________________________________________________________________\n",
            "Layer (type)                 Output Shape              Param #   \n",
            "=================================================================\n",
            "prune_low_magnitude_batch_no (None, 28, 28, 1)         5         \n",
            "_________________________________________________________________\n",
            "prune_low_magnitude_conv2d_9 (None, 28, 28, 32)        1634      \n",
            "_________________________________________________________________\n",
            "prune_low_magnitude_max_pool (None, 14, 14, 32)        1         \n",
            "_________________________________________________________________\n",
            "prune_low_magnitude_dropout_ (None, 14, 14, 32)        1         \n",
            "_________________________________________________________________\n",
            "prune_low_magnitude_batch_no (None, 14, 14, 32)        129       \n",
            "_________________________________________________________________\n",
            "prune_low_magnitude_conv2d_1 (None, 14, 14, 64)        102466    \n",
            "_________________________________________________________________\n",
            "prune_low_magnitude_max_pool (None, 7, 7, 64)          1         \n",
            "_________________________________________________________________\n",
            "prune_low_magnitude_dropout_ (None, 7, 7, 64)          1         \n",
            "_________________________________________________________________\n",
            "prune_low_magnitude_batch_no (None, 7, 7, 64)          257       \n",
            "_________________________________________________________________\n",
            "prune_low_magnitude_conv2d_1 (None, 7, 7, 128)         409730    \n",
            "_________________________________________________________________\n",
            "prune_low_magnitude_max_pool (None, 3, 3, 128)         1         \n",
            "_________________________________________________________________\n",
            "prune_low_magnitude_dropout_ (None, 3, 3, 128)         1         \n",
            "_________________________________________________________________\n",
            "prune_low_magnitude_flatten_ (None, 1152)              1         \n",
            "_________________________________________________________________\n",
            "prune_low_magnitude_dense_6  (None, 128)               295042    \n",
            "_________________________________________________________________\n",
            "prune_low_magnitude_activati (None, 128)               1         \n",
            "_________________________________________________________________\n",
            "prune_low_magnitude_dropout_ (None, 128)               1         \n",
            "_________________________________________________________________\n",
            "prune_low_magnitude_dense_7  (None, 10)                2572      \n",
            "_________________________________________________________________\n",
            "prune_low_magnitude_activati (None, 10)                1         \n",
            "=================================================================\n",
            "Total params: 811,845\n",
            "Trainable params: 406,092\n",
            "Non-trainable params: 405,753\n",
            "_________________________________________________________________\n",
            "None\n"
          ],
          "name": "stdout"
        },
        {
          "output_type": "stream",
          "text": [
            "WARNING:absl:Found untraced functions such as conv2d_9_layer_call_fn, conv2d_9_layer_call_and_return_conditional_losses, dropout_12_layer_call_fn, dropout_12_layer_call_and_return_conditional_losses, conv2d_10_layer_call_fn while saving (showing 5 of 60). These functions will not be directly callable after loading.\n"
          ],
          "name": "stderr"
        },
        {
          "output_type": "stream",
          "text": [
            "['4.0K\\tpruned_model.tf/assets', '3.2M\\tpruned_model.tf/variables', '5.0M\\tpruned_model.tf']\n",
            "Epoch 1/2\n"
          ],
          "name": "stdout"
        },
        {
          "output_type": "stream",
          "text": [
            "/usr/local/lib/python3.7/dist-packages/tensorflow/python/keras/backend.py:4870: UserWarning: \"`categorical_crossentropy` received `from_logits=True`, but the `output` argument was produced by a sigmoid or softmax activation and thus does not represent logits. Was this intended?\"\n",
            "  '\"`categorical_crossentropy` received `from_logits=True`, but '\n"
          ],
          "name": "stderr"
        },
        {
          "output_type": "stream",
          "text": [
            "422/422 [==============================] - 14s 24ms/step - loss: 0.2647 - accuracy: 0.9039 - val_loss: 0.2066 - val_accuracy: 0.9222\n",
            "Epoch 2/2\n",
            "422/422 [==============================] - 8s 20ms/step - loss: 0.2782 - accuracy: 0.9004 - val_loss: 0.1896 - val_accuracy: 0.9298\n",
            "Test elapsed time: 1.2994587421417236 seconds\n",
            "Pruned test accuracy: 0.9103999733924866\n",
            "Model: \"sequential\"\n",
            "_________________________________________________________________\n",
            "Layer (type)                 Output Shape              Param #   \n",
            "=================================================================\n",
            "cluster_batch_normalization  (None, 28, 28, 1)         4         \n",
            "_________________________________________________________________\n",
            "cluster_conv2d (ClusterWeigh (None, 28, 28, 64)        1674      \n",
            "_________________________________________________________________\n",
            "cluster_max_pooling2d (Clust (None, 14, 14, 64)        0         \n",
            "_________________________________________________________________\n",
            "cluster_dropout (ClusterWeig (None, 14, 14, 64)        0         \n",
            "_________________________________________________________________\n",
            "cluster_batch_normalization_ (None, 14, 14, 64)        256       \n",
            "_________________________________________________________________\n",
            "cluster_conv2d_1 (ClusterWei (None, 14, 14, 128)       204938    \n",
            "_________________________________________________________________\n",
            "cluster_max_pooling2d_1 (Clu (None, 7, 7, 128)         0         \n",
            "_________________________________________________________________\n",
            "cluster_dropout_1 (ClusterWe (None, 7, 7, 128)         0         \n",
            "_________________________________________________________________\n",
            "cluster_batch_normalization_ (None, 7, 7, 128)         512       \n",
            "_________________________________________________________________\n",
            "cluster_conv2d_2 (ClusterWei (None, 7, 7, 256)         819466    \n",
            "_________________________________________________________________\n",
            "cluster_max_pooling2d_2 (Clu (None, 3, 3, 256)         0         \n",
            "_________________________________________________________________\n",
            "cluster_dropout_2 (ClusterWe (None, 3, 3, 256)         0         \n",
            "_________________________________________________________________\n",
            "cluster_flatten (ClusterWeig (None, 2304)              0         \n",
            "_________________________________________________________________\n",
            "cluster_dense (ClusterWeight (None, 256)               590090    \n",
            "_________________________________________________________________\n",
            "cluster_activation (ClusterW (None, 256)               0         \n",
            "_________________________________________________________________\n",
            "cluster_dropout_3 (ClusterWe (None, 256)               0         \n",
            "_________________________________________________________________\n",
            "cluster_dense_1 (ClusterWeig (None, 10)                2580      \n",
            "_________________________________________________________________\n",
            "cluster_activation_1 (Cluste (None, 10)                0         \n",
            "=================================================================\n",
            "Total params: 1,619,520\n",
            "Trainable params: 1,150\n",
            "Non-trainable params: 1,618,370\n",
            "_________________________________________________________________\n",
            "None\n",
            "108/108 [==============================] - 8s 62ms/step - loss: 0.1566 - accuracy: 0.9378 - val_loss: 0.1496 - val_accuracy: 0.9382\n",
            "Test elapsed time: 1.7787938117980957 seconds\n",
            "Clustered test accuracy: 0.906000018119812\n"
          ],
          "name": "stdout"
        },
        {
          "output_type": "stream",
          "text": [
            "WARNING:absl:Found untraced functions such as conv2d_layer_call_fn, conv2d_layer_call_and_return_conditional_losses, dropout_layer_call_fn, dropout_layer_call_and_return_conditional_losses, conv2d_1_layer_call_fn while saving (showing 5 of 60). These functions will not be directly callable after loading.\n"
          ],
          "name": "stderr"
        },
        {
          "output_type": "stream",
          "text": [
            "['4.0K\\tcluster_model.tf/assets', '13M\\tcluster_model.tf/variables', '13M\\tcluster_model.tf']\n"
          ],
          "name": "stdout"
        }
      ]
    },
    {
      "cell_type": "code",
      "metadata": {
        "colab": {
          "base_uri": "https://localhost:8080/"
        },
        "id": "apl8DDna4ag8",
        "outputId": "24117a0a-54ee-483d-ca07-3cc6e9f6ee77"
      },
      "source": [
        "# All OPT\n",
        "\n",
        "# q + p + c\n",
        "model = tf.keras.models.load_model(\"./fashion_mnist_model.tf\")\n",
        "qpc_model, qpc_results = quant_model(model)\n",
        "qpc_model, qpc_results = prune_model(qpc_model)\n",
        "qpc_model, qpc_results = cluster_model(qpc_model)\n",
        "\n",
        "# r + q + p + c\n",
        "model = tf.keras.models.load_model(\"./fashion_mnist_model_redux.tf\")\n",
        "rqpc_model, rqpc_results = quant_model(model)\n",
        "rqpc_model, rqpc_results = prune_model(rqpc_model)\n",
        "rqpc_model, rqpc_results = cluster_model(rqpc_model)"
      ],
      "execution_count": null,
      "outputs": [
        {
          "output_type": "stream",
          "text": [
            "Model: \"sequential\"\n",
            "_________________________________________________________________\n",
            "Layer (type)                 Output Shape              Param #   \n",
            "=================================================================\n",
            "batch_normalization (BatchNo (None, 28, 28, 1)         4         \n",
            "_________________________________________________________________\n",
            "conv2d (Conv2D)              (None, 28, 28, 64)        1664      \n",
            "_________________________________________________________________\n",
            "quant_max_pooling2d (Quantiz (None, 14, 14, 64)        1         \n",
            "_________________________________________________________________\n",
            "quant_dropout (QuantizeWrapp (None, 14, 14, 64)        1         \n",
            "_________________________________________________________________\n",
            "batch_normalization_1 (Batch (None, 14, 14, 64)        256       \n",
            "_________________________________________________________________\n",
            "conv2d_1 (Conv2D)            (None, 14, 14, 128)       204928    \n",
            "_________________________________________________________________\n",
            "quant_max_pooling2d_1 (Quant (None, 7, 7, 128)         1         \n",
            "_________________________________________________________________\n",
            "quant_dropout_1 (QuantizeWra (None, 7, 7, 128)         1         \n",
            "_________________________________________________________________\n",
            "batch_normalization_2 (Batch (None, 7, 7, 128)         512       \n",
            "_________________________________________________________________\n",
            "conv2d_2 (Conv2D)            (None, 7, 7, 256)         819456    \n",
            "_________________________________________________________________\n",
            "quant_max_pooling2d_2 (Quant (None, 3, 3, 256)         1         \n",
            "_________________________________________________________________\n",
            "quant_dropout_2 (QuantizeWra (None, 3, 3, 256)         1         \n",
            "_________________________________________________________________\n",
            "flatten (Flatten)            (None, 2304)              0         \n",
            "_________________________________________________________________\n",
            "dense (Dense)                (None, 256)               590080    \n",
            "_________________________________________________________________\n",
            "activation (Activation)      (None, 256)               0         \n",
            "_________________________________________________________________\n",
            "quant_dropout_3 (QuantizeWra (None, 256)               1         \n",
            "_________________________________________________________________\n",
            "dense_1 (Dense)              (None, 10)                2570      \n",
            "_________________________________________________________________\n",
            "activation_1 (Activation)    (None, 10)                0         \n",
            "=================================================================\n",
            "Total params: 1,619,477\n",
            "Trainable params: 1,619,084\n",
            "Non-trainable params: 393\n",
            "_________________________________________________________________\n",
            "None\n"
          ],
          "name": "stdout"
        },
        {
          "output_type": "stream",
          "text": [
            "WARNING:absl:Found untraced functions such as dropout_layer_call_fn, dropout_layer_call_and_return_conditional_losses, dropout_1_layer_call_fn, dropout_1_layer_call_and_return_conditional_losses, dropout_2_layer_call_fn while saving (showing 5 of 20). These functions will not be directly callable after loading.\n"
          ],
          "name": "stderr"
        },
        {
          "output_type": "stream",
          "text": [
            "INFO:tensorflow:Assets written to: quant_model.tf/assets\n"
          ],
          "name": "stdout"
        },
        {
          "output_type": "stream",
          "text": [
            "INFO:tensorflow:Assets written to: quant_model.tf/assets\n"
          ],
          "name": "stderr"
        },
        {
          "output_type": "stream",
          "text": [
            "['4.0K\\tquant_model.tf/assets', '6.2M\\tquant_model.tf/variables', '6.7M\\tquant_model.tf']\n"
          ],
          "name": "stdout"
        },
        {
          "output_type": "stream",
          "text": [
            "/usr/local/lib/python3.7/dist-packages/tensorflow/python/keras/backend.py:4870: UserWarning: \"`categorical_crossentropy` received `from_logits=True`, but the `output` argument was produced by a sigmoid or softmax activation and thus does not represent logits. Was this intended?\"\n",
            "  '\"`categorical_crossentropy` received `from_logits=True`, but '\n"
          ],
          "name": "stderr"
        },
        {
          "output_type": "stream",
          "text": [
            "2/2 [==============================] - 1s 259ms/step - loss: 0.1656 - accuracy: 0.9389 - val_loss: 0.1657 - val_accuracy: 0.9500\n",
            "Test elapsed time: 1.3017518520355225 seconds\n",
            "Pruned test accuracy: 0.9172999858856201\n",
            "0.9172999858856201 1.3017518520355225 6.7M\tquant_model.tf\n",
            "Model: \"sequential\"\n",
            "_________________________________________________________________\n",
            "Layer (type)                 Output Shape              Param #   \n",
            "=================================================================\n",
            "prune_low_magnitude_batch_no (None, 28, 28, 1)         5         \n",
            "_________________________________________________________________\n",
            "prune_low_magnitude_conv2d ( (None, 28, 28, 64)        3266      \n",
            "_________________________________________________________________\n",
            "prune_low_magnitude_max_pool (None, 14, 14, 64)        1         \n",
            "_________________________________________________________________\n",
            "prune_low_magnitude_dropout  (None, 14, 14, 64)        1         \n",
            "_________________________________________________________________\n",
            "prune_low_magnitude_batch_no (None, 14, 14, 64)        257       \n",
            "_________________________________________________________________\n",
            "prune_low_magnitude_conv2d_1 (None, 14, 14, 128)       409730    \n",
            "_________________________________________________________________\n",
            "prune_low_magnitude_max_pool (None, 7, 7, 128)         1         \n",
            "_________________________________________________________________\n",
            "prune_low_magnitude_dropout_ (None, 7, 7, 128)         1         \n",
            "_________________________________________________________________\n",
            "prune_low_magnitude_batch_no (None, 7, 7, 128)         513       \n",
            "_________________________________________________________________\n",
            "prune_low_magnitude_conv2d_2 (None, 7, 7, 256)         1638658   \n",
            "_________________________________________________________________\n",
            "prune_low_magnitude_max_pool (None, 3, 3, 256)         1         \n",
            "_________________________________________________________________\n",
            "prune_low_magnitude_dropout_ (None, 3, 3, 256)         1         \n",
            "_________________________________________________________________\n",
            "prune_low_magnitude_flatten  (None, 2304)              1         \n",
            "_________________________________________________________________\n",
            "prune_low_magnitude_dense (P (None, 256)               1179906   \n",
            "_________________________________________________________________\n",
            "prune_low_magnitude_activati (None, 256)               1         \n",
            "_________________________________________________________________\n",
            "prune_low_magnitude_dropout_ (None, 256)               1         \n",
            "_________________________________________________________________\n",
            "prune_low_magnitude_dense_1  (None, 10)                5132      \n",
            "_________________________________________________________________\n",
            "prune_low_magnitude_activati (None, 10)                1         \n",
            "=================================================================\n",
            "Total params: 3,237,477\n",
            "Trainable params: 1,619,084\n",
            "Non-trainable params: 1,618,393\n",
            "_________________________________________________________________\n",
            "None\n"
          ],
          "name": "stdout"
        },
        {
          "output_type": "stream",
          "text": [
            "/usr/local/lib/python3.7/dist-packages/tensorflow/python/keras/engine/base_layer.py:2191: UserWarning: `layer.add_variable` is deprecated and will be removed in a future version. Please use `layer.add_weight` method instead.\n",
            "  warnings.warn('`layer.add_variable` is deprecated and '\n",
            "WARNING:absl:Found untraced functions such as conv2d_layer_call_fn, conv2d_layer_call_and_return_conditional_losses, dropout_layer_call_fn, dropout_layer_call_and_return_conditional_losses, conv2d_1_layer_call_fn while saving (showing 5 of 60). These functions will not be directly callable after loading.\n"
          ],
          "name": "stderr"
        },
        {
          "output_type": "stream",
          "text": [
            "INFO:tensorflow:Assets written to: pruned_model.tf/assets\n"
          ],
          "name": "stdout"
        },
        {
          "output_type": "stream",
          "text": [
            "INFO:tensorflow:Assets written to: pruned_model.tf/assets\n"
          ],
          "name": "stderr"
        },
        {
          "output_type": "stream",
          "text": [
            "['4.0K\\tpruned_model.tf/assets', '13M\\tpruned_model.tf/variables', '15M\\tpruned_model.tf']\n",
            "Epoch 1/2\n"
          ],
          "name": "stdout"
        },
        {
          "output_type": "stream",
          "text": [
            "/usr/local/lib/python3.7/dist-packages/tensorflow/python/keras/backend.py:4870: UserWarning: \"`categorical_crossentropy` received `from_logits=True`, but the `output` argument was produced by a sigmoid or softmax activation and thus does not represent logits. Was this intended?\"\n",
            "  '\"`categorical_crossentropy` received `from_logits=True`, but '\n"
          ],
          "name": "stderr"
        },
        {
          "output_type": "stream",
          "text": [
            "  5/422 [..............................] - ETA: 1:51 - loss: 0.2350 - accuracy: 0.9141WARNING:tensorflow:Callback method `on_train_batch_begin` is slow compared to the batch time (batch time: 0.0162s vs `on_train_batch_begin` time: 0.0512s). Check your callbacks.\n"
          ],
          "name": "stdout"
        },
        {
          "output_type": "stream",
          "text": [
            "WARNING:tensorflow:Callback method `on_train_batch_begin` is slow compared to the batch time (batch time: 0.0162s vs `on_train_batch_begin` time: 0.0512s). Check your callbacks.\n"
          ],
          "name": "stderr"
        },
        {
          "output_type": "stream",
          "text": [
            "WARNING:tensorflow:Callback method `on_train_batch_end` is slow compared to the batch time (batch time: 0.0162s vs `on_train_batch_end` time: 0.1208s). Check your callbacks.\n"
          ],
          "name": "stdout"
        },
        {
          "output_type": "stream",
          "text": [
            "WARNING:tensorflow:Callback method `on_train_batch_end` is slow compared to the batch time (batch time: 0.0162s vs `on_train_batch_end` time: 0.1208s). Check your callbacks.\n"
          ],
          "name": "stderr"
        },
        {
          "output_type": "stream",
          "text": [
            "422/422 [==============================] - 16s 30ms/step - loss: 0.2176 - accuracy: 0.9206 - val_loss: 0.1766 - val_accuracy: 0.9330\n",
            "Epoch 2/2\n",
            "422/422 [==============================] - 11s 27ms/step - loss: 0.2215 - accuracy: 0.9200 - val_loss: 0.1540 - val_accuracy: 0.9410\n",
            "Test elapsed time: 1.0054974555969238 seconds\n",
            "Pruned test accuracy: 0.917900025844574\n",
            "Model: \"sequential\"\n",
            "_________________________________________________________________\n",
            "Layer (type)                 Output Shape              Param #   \n",
            "=================================================================\n",
            "cluster_batch_normalization  (None, 28, 28, 1)         4         \n",
            "_________________________________________________________________\n",
            "cluster_conv2d (ClusterWeigh (None, 28, 28, 64)        1674      \n",
            "_________________________________________________________________\n",
            "cluster_max_pooling2d (Clust (None, 14, 14, 64)        0         \n",
            "_________________________________________________________________\n",
            "cluster_dropout (ClusterWeig (None, 14, 14, 64)        0         \n",
            "_________________________________________________________________\n",
            "cluster_batch_normalization_ (None, 14, 14, 64)        256       \n",
            "_________________________________________________________________\n",
            "cluster_conv2d_1 (ClusterWei (None, 14, 14, 128)       204938    \n",
            "_________________________________________________________________\n",
            "cluster_max_pooling2d_1 (Clu (None, 7, 7, 128)         0         \n",
            "_________________________________________________________________\n",
            "cluster_dropout_1 (ClusterWe (None, 7, 7, 128)         0         \n",
            "_________________________________________________________________\n",
            "cluster_batch_normalization_ (None, 7, 7, 128)         512       \n",
            "_________________________________________________________________\n",
            "cluster_conv2d_2 (ClusterWei (None, 7, 7, 256)         819466    \n",
            "_________________________________________________________________\n",
            "cluster_max_pooling2d_2 (Clu (None, 3, 3, 256)         0         \n",
            "_________________________________________________________________\n",
            "cluster_dropout_2 (ClusterWe (None, 3, 3, 256)         0         \n",
            "_________________________________________________________________\n",
            "cluster_flatten (ClusterWeig (None, 2304)              0         \n",
            "_________________________________________________________________\n",
            "cluster_dense (ClusterWeight (None, 256)               590090    \n",
            "_________________________________________________________________\n",
            "cluster_activation (ClusterW (None, 256)               0         \n",
            "_________________________________________________________________\n",
            "cluster_dropout_3 (ClusterWe (None, 256)               0         \n",
            "_________________________________________________________________\n",
            "cluster_dense_1 (ClusterWeig (None, 10)                2580      \n",
            "_________________________________________________________________\n",
            "cluster_activation_1 (Cluste (None, 10)                0         \n",
            "=================================================================\n",
            "Total params: 1,619,520\n",
            "Trainable params: 1,150\n",
            "Non-trainable params: 1,618,370\n",
            "_________________________________________________________________\n",
            "None\n",
            "108/108 [==============================] - 7s 61ms/step - loss: 0.1569 - accuracy: 0.9377 - val_loss: 0.1499 - val_accuracy: 0.9377\n",
            "Test elapsed time: 2.751671075820923 seconds\n",
            "Clustered test accuracy: 0.9057000279426575\n"
          ],
          "name": "stdout"
        },
        {
          "output_type": "stream",
          "text": [
            "WARNING:absl:Found untraced functions such as conv2d_layer_call_fn, conv2d_layer_call_and_return_conditional_losses, dropout_layer_call_fn, dropout_layer_call_and_return_conditional_losses, conv2d_1_layer_call_fn while saving (showing 5 of 60). These functions will not be directly callable after loading.\n"
          ],
          "name": "stderr"
        },
        {
          "output_type": "stream",
          "text": [
            "INFO:tensorflow:Assets written to: cluster_model.tf/assets\n"
          ],
          "name": "stdout"
        },
        {
          "output_type": "stream",
          "text": [
            "INFO:tensorflow:Assets written to: cluster_model.tf/assets\n"
          ],
          "name": "stderr"
        },
        {
          "output_type": "stream",
          "text": [
            "['4.0K\\tcluster_model.tf/assets', '13M\\tcluster_model.tf/variables', '13M\\tcluster_model.tf']\n",
            "Model: \"sequential\"\n",
            "_________________________________________________________________\n",
            "Layer (type)                 Output Shape              Param #   \n",
            "=================================================================\n",
            "batch_normalization (BatchNo (None, 28, 28, 1)         4         \n",
            "_________________________________________________________________\n",
            "conv2d (Conv2D)              (None, 28, 28, 64)        1664      \n",
            "_________________________________________________________________\n",
            "quant_max_pooling2d (Quantiz (None, 14, 14, 64)        1         \n",
            "_________________________________________________________________\n",
            "quant_dropout (QuantizeWrapp (None, 14, 14, 64)        1         \n",
            "_________________________________________________________________\n",
            "batch_normalization_1 (Batch (None, 14, 14, 64)        256       \n",
            "_________________________________________________________________\n",
            "conv2d_1 (Conv2D)            (None, 14, 14, 128)       204928    \n",
            "_________________________________________________________________\n",
            "quant_max_pooling2d_1 (Quant (None, 7, 7, 128)         1         \n",
            "_________________________________________________________________\n",
            "quant_dropout_1 (QuantizeWra (None, 7, 7, 128)         1         \n",
            "_________________________________________________________________\n",
            "batch_normalization_2 (Batch (None, 7, 7, 128)         512       \n",
            "_________________________________________________________________\n",
            "conv2d_2 (Conv2D)            (None, 7, 7, 256)         819456    \n",
            "_________________________________________________________________\n",
            "quant_max_pooling2d_2 (Quant (None, 3, 3, 256)         1         \n",
            "_________________________________________________________________\n",
            "quant_dropout_2 (QuantizeWra (None, 3, 3, 256)         1         \n",
            "_________________________________________________________________\n",
            "flatten (Flatten)            (None, 2304)              0         \n",
            "_________________________________________________________________\n",
            "dense (Dense)                (None, 256)               590080    \n",
            "_________________________________________________________________\n",
            "activation (Activation)      (None, 256)               0         \n",
            "_________________________________________________________________\n",
            "quant_dropout_3 (QuantizeWra (None, 256)               1         \n",
            "_________________________________________________________________\n",
            "dense_1 (Dense)              (None, 10)                2570      \n",
            "_________________________________________________________________\n",
            "activation_1 (Activation)    (None, 10)                0         \n",
            "=================================================================\n",
            "Total params: 1,619,477\n",
            "Trainable params: 1,619,084\n",
            "Non-trainable params: 393\n",
            "_________________________________________________________________\n",
            "None\n"
          ],
          "name": "stdout"
        },
        {
          "output_type": "stream",
          "text": [
            "WARNING:absl:Found untraced functions such as dropout_layer_call_fn, dropout_layer_call_and_return_conditional_losses, dropout_1_layer_call_fn, dropout_1_layer_call_and_return_conditional_losses, dropout_2_layer_call_fn while saving (showing 5 of 20). These functions will not be directly callable after loading.\n"
          ],
          "name": "stderr"
        },
        {
          "output_type": "stream",
          "text": [
            "INFO:tensorflow:Assets written to: quant_model.tf/assets\n"
          ],
          "name": "stdout"
        },
        {
          "output_type": "stream",
          "text": [
            "INFO:tensorflow:Assets written to: quant_model.tf/assets\n"
          ],
          "name": "stderr"
        },
        {
          "output_type": "stream",
          "text": [
            "['4.0K\\tquant_model.tf/assets', '6.2M\\tquant_model.tf/variables', '6.7M\\tquant_model.tf']\n"
          ],
          "name": "stdout"
        },
        {
          "output_type": "stream",
          "text": [
            "/usr/local/lib/python3.7/dist-packages/tensorflow/python/keras/backend.py:4870: UserWarning: \"`categorical_crossentropy` received `from_logits=True`, but the `output` argument was produced by a sigmoid or softmax activation and thus does not represent logits. Was this intended?\"\n",
            "  '\"`categorical_crossentropy` received `from_logits=True`, but '\n"
          ],
          "name": "stderr"
        },
        {
          "output_type": "stream",
          "text": [
            "2/2 [==============================] - 1s 275ms/step - loss: 0.1698 - accuracy: 0.9333 - val_loss: 0.1691 - val_accuracy: 0.9500\n",
            "Test elapsed time: 1.298142671585083 seconds\n",
            "Pruned test accuracy: 0.9172999858856201\n",
            "0.9172999858856201 1.298142671585083 6.7M\tquant_model.tf\n",
            "Model: \"sequential_3\"\n",
            "_________________________________________________________________\n",
            "Layer (type)                 Output Shape              Param #   \n",
            "=================================================================\n",
            "prune_low_magnitude_batch_no (None, 28, 28, 1)         5         \n",
            "_________________________________________________________________\n",
            "prune_low_magnitude_conv2d_9 (None, 28, 28, 32)        1634      \n",
            "_________________________________________________________________\n",
            "prune_low_magnitude_max_pool (None, 14, 14, 32)        1         \n",
            "_________________________________________________________________\n",
            "prune_low_magnitude_dropout_ (None, 14, 14, 32)        1         \n",
            "_________________________________________________________________\n",
            "prune_low_magnitude_batch_no (None, 14, 14, 32)        129       \n",
            "_________________________________________________________________\n",
            "prune_low_magnitude_conv2d_1 (None, 14, 14, 64)        102466    \n",
            "_________________________________________________________________\n",
            "prune_low_magnitude_max_pool (None, 7, 7, 64)          1         \n",
            "_________________________________________________________________\n",
            "prune_low_magnitude_dropout_ (None, 7, 7, 64)          1         \n",
            "_________________________________________________________________\n",
            "prune_low_magnitude_batch_no (None, 7, 7, 64)          257       \n",
            "_________________________________________________________________\n",
            "prune_low_magnitude_conv2d_1 (None, 7, 7, 128)         409730    \n",
            "_________________________________________________________________\n",
            "prune_low_magnitude_max_pool (None, 3, 3, 128)         1         \n",
            "_________________________________________________________________\n",
            "prune_low_magnitude_dropout_ (None, 3, 3, 128)         1         \n",
            "_________________________________________________________________\n",
            "prune_low_magnitude_flatten_ (None, 1152)              1         \n",
            "_________________________________________________________________\n",
            "prune_low_magnitude_dense_6  (None, 128)               295042    \n",
            "_________________________________________________________________\n",
            "prune_low_magnitude_activati (None, 128)               1         \n",
            "_________________________________________________________________\n",
            "prune_low_magnitude_dropout_ (None, 128)               1         \n",
            "_________________________________________________________________\n",
            "prune_low_magnitude_dense_7  (None, 10)                2572      \n",
            "_________________________________________________________________\n",
            "prune_low_magnitude_activati (None, 10)                1         \n",
            "=================================================================\n",
            "Total params: 811,845\n",
            "Trainable params: 406,092\n",
            "Non-trainable params: 405,753\n",
            "_________________________________________________________________\n",
            "None\n"
          ],
          "name": "stdout"
        },
        {
          "output_type": "stream",
          "text": [
            "/usr/local/lib/python3.7/dist-packages/tensorflow/python/keras/engine/base_layer.py:2191: UserWarning: `layer.add_variable` is deprecated and will be removed in a future version. Please use `layer.add_weight` method instead.\n",
            "  warnings.warn('`layer.add_variable` is deprecated and '\n",
            "WARNING:absl:Found untraced functions such as conv2d_9_layer_call_fn, conv2d_9_layer_call_and_return_conditional_losses, dropout_12_layer_call_fn, dropout_12_layer_call_and_return_conditional_losses, conv2d_10_layer_call_fn while saving (showing 5 of 60). These functions will not be directly callable after loading.\n"
          ],
          "name": "stderr"
        },
        {
          "output_type": "stream",
          "text": [
            "INFO:tensorflow:Assets written to: pruned_model.tf/assets\n"
          ],
          "name": "stdout"
        },
        {
          "output_type": "stream",
          "text": [
            "INFO:tensorflow:Assets written to: pruned_model.tf/assets\n"
          ],
          "name": "stderr"
        },
        {
          "output_type": "stream",
          "text": [
            "['4.0K\\tpruned_model.tf/assets', '3.2M\\tpruned_model.tf/variables', '5.0M\\tpruned_model.tf']\n",
            "Epoch 1/2\n"
          ],
          "name": "stdout"
        },
        {
          "output_type": "stream",
          "text": [
            "/usr/local/lib/python3.7/dist-packages/tensorflow/python/keras/backend.py:4870: UserWarning: \"`categorical_crossentropy` received `from_logits=True`, but the `output` argument was produced by a sigmoid or softmax activation and thus does not represent logits. Was this intended?\"\n",
            "  '\"`categorical_crossentropy` received `from_logits=True`, but '\n"
          ],
          "name": "stderr"
        },
        {
          "output_type": "stream",
          "text": [
            "  5/422 [..............................] - ETA: 1:47 - loss: 0.2517 - accuracy: 0.8969WARNING:tensorflow:Callback method `on_train_batch_begin` is slow compared to the batch time (batch time: 0.0115s vs `on_train_batch_begin` time: 0.0528s). Check your callbacks.\n"
          ],
          "name": "stdout"
        },
        {
          "output_type": "stream",
          "text": [
            "WARNING:tensorflow:Callback method `on_train_batch_begin` is slow compared to the batch time (batch time: 0.0115s vs `on_train_batch_begin` time: 0.0528s). Check your callbacks.\n"
          ],
          "name": "stderr"
        },
        {
          "output_type": "stream",
          "text": [
            "WARNING:tensorflow:Callback method `on_train_batch_end` is slow compared to the batch time (batch time: 0.0115s vs `on_train_batch_end` time: 0.1148s). Check your callbacks.\n"
          ],
          "name": "stdout"
        },
        {
          "output_type": "stream",
          "text": [
            "WARNING:tensorflow:Callback method `on_train_batch_end` is slow compared to the batch time (batch time: 0.0115s vs `on_train_batch_end` time: 0.1148s). Check your callbacks.\n"
          ],
          "name": "stderr"
        },
        {
          "output_type": "stream",
          "text": [
            "422/422 [==============================] - 14s 23ms/step - loss: 0.2593 - accuracy: 0.9053 - val_loss: 0.2091 - val_accuracy: 0.9200\n",
            "Epoch 2/2\n",
            "422/422 [==============================] - 8s 19ms/step - loss: 0.2805 - accuracy: 0.8999 - val_loss: 0.1924 - val_accuracy: 0.9290\n",
            "Test elapsed time: 1.3016774654388428 seconds\n",
            "Pruned test accuracy: 0.9053999781608582\n",
            "Model: \"sequential\"\n",
            "_________________________________________________________________\n",
            "Layer (type)                 Output Shape              Param #   \n",
            "=================================================================\n",
            "cluster_batch_normalization  (None, 28, 28, 1)         4         \n",
            "_________________________________________________________________\n",
            "cluster_conv2d (ClusterWeigh (None, 28, 28, 64)        1674      \n",
            "_________________________________________________________________\n",
            "cluster_max_pooling2d (Clust (None, 14, 14, 64)        0         \n",
            "_________________________________________________________________\n",
            "cluster_dropout (ClusterWeig (None, 14, 14, 64)        0         \n",
            "_________________________________________________________________\n",
            "cluster_batch_normalization_ (None, 14, 14, 64)        256       \n",
            "_________________________________________________________________\n",
            "cluster_conv2d_1 (ClusterWei (None, 14, 14, 128)       204938    \n",
            "_________________________________________________________________\n",
            "cluster_max_pooling2d_1 (Clu (None, 7, 7, 128)         0         \n",
            "_________________________________________________________________\n",
            "cluster_dropout_1 (ClusterWe (None, 7, 7, 128)         0         \n",
            "_________________________________________________________________\n",
            "cluster_batch_normalization_ (None, 7, 7, 128)         512       \n",
            "_________________________________________________________________\n",
            "cluster_conv2d_2 (ClusterWei (None, 7, 7, 256)         819466    \n",
            "_________________________________________________________________\n",
            "cluster_max_pooling2d_2 (Clu (None, 3, 3, 256)         0         \n",
            "_________________________________________________________________\n",
            "cluster_dropout_2 (ClusterWe (None, 3, 3, 256)         0         \n",
            "_________________________________________________________________\n",
            "cluster_flatten (ClusterWeig (None, 2304)              0         \n",
            "_________________________________________________________________\n",
            "cluster_dense (ClusterWeight (None, 256)               590090    \n",
            "_________________________________________________________________\n",
            "cluster_activation (ClusterW (None, 256)               0         \n",
            "_________________________________________________________________\n",
            "cluster_dropout_3 (ClusterWe (None, 256)               0         \n",
            "_________________________________________________________________\n",
            "cluster_dense_1 (ClusterWeig (None, 10)                2580      \n",
            "_________________________________________________________________\n",
            "cluster_activation_1 (Cluste (None, 10)                0         \n",
            "=================================================================\n",
            "Total params: 1,619,520\n",
            "Trainable params: 1,150\n",
            "Non-trainable params: 1,618,370\n",
            "_________________________________________________________________\n",
            "None\n",
            "108/108 [==============================] - 7s 61ms/step - loss: 0.1567 - accuracy: 0.9380 - val_loss: 0.1497 - val_accuracy: 0.9380\n",
            "Test elapsed time: 1.751842737197876 seconds\n",
            "Clustered test accuracy: 0.906000018119812\n"
          ],
          "name": "stdout"
        },
        {
          "output_type": "stream",
          "text": [
            "WARNING:absl:Found untraced functions such as conv2d_layer_call_fn, conv2d_layer_call_and_return_conditional_losses, dropout_layer_call_fn, dropout_layer_call_and_return_conditional_losses, conv2d_1_layer_call_fn while saving (showing 5 of 60). These functions will not be directly callable after loading.\n"
          ],
          "name": "stderr"
        },
        {
          "output_type": "stream",
          "text": [
            "INFO:tensorflow:Assets written to: cluster_model.tf/assets\n"
          ],
          "name": "stdout"
        },
        {
          "output_type": "stream",
          "text": [
            "INFO:tensorflow:Assets written to: cluster_model.tf/assets\n"
          ],
          "name": "stderr"
        },
        {
          "output_type": "stream",
          "text": [
            "['4.0K\\tcluster_model.tf/assets', '13M\\tcluster_model.tf/variables', '13M\\tcluster_model.tf']\n"
          ],
          "name": "stdout"
        }
      ]
    },
    {
      "cell_type": "code",
      "metadata": {
        "id": "6XoRiFkL6jqT"
      },
      "source": [
        "# b -> baseline\n",
        "# r -> redux\n",
        "# p -> pruning\n",
        "# q -> quantization\n",
        "# c -> clustering\n",
        "\n",
        "models = ['b', 'r', 'p', 'q', 'c', 'qp', 'pq', 'qc', 'cq', 'pc', 'rqp', 'rpq', 'rqc', 'rcq', 'rpc', 'qpc', 'rqpc']\n",
        "scores = [model_accuracy, \n",
        "          redux_accuracy,\n",
        "          pruned_results[0], \n",
        "          quantized_results[0], \n",
        "          clustered_results[0], \n",
        "          qp_results[0],\n",
        "          pq_results[0],\n",
        "          qc_results[0],\n",
        "          cq_results[0],\n",
        "          pc_results[0],\n",
        "          rqp_results[0],\n",
        "          rpq_results[0],\n",
        "          rqc_results[0],\n",
        "          rcq_results[0],\n",
        "          rpc_results[0],\n",
        "          qpc_results[0],\n",
        "          rqpc_results[0]]\n",
        "times = [baseline_time,\n",
        "         redux_time,\n",
        "         pruned_results[1], \n",
        "         quantized_results[1],\n",
        "         clustered_results[1], \n",
        "         qp_results[1],\n",
        "          pq_results[1],\n",
        "          qc_results[1],\n",
        "          cq_results[1],\n",
        "          pc_results[1],\n",
        "         rqp_results[1],\n",
        "          rpq_results[1],\n",
        "          rqc_results[1],\n",
        "          rcq_results[1],\n",
        "          rpc_results[1],\n",
        "          qpc_results[1],\n",
        "          rqpc_results[1]]\n",
        "dimensions = [baseline_dim, \n",
        "              redux_dim,\n",
        "              pruned_results[2], \n",
        "              quantized_results[2], \n",
        "              clustered_results[2], \n",
        "              qp_results[2],\n",
        "              pq_results[2],\n",
        "              qc_results[2],\n",
        "              cq_results[2],\n",
        "              pc_results[2],\n",
        "              rqp_results[2],\n",
        "              rpq_results[2],\n",
        "              rqc_results[2],\n",
        "              rcq_results[2],\n",
        "              rpc_results[2],\n",
        "              qpc_results[2],\n",
        "              rqpc_results[2]]"
      ],
      "execution_count": null,
      "outputs": []
    },
    {
      "cell_type": "code",
      "metadata": {
        "colab": {
          "base_uri": "https://localhost:8080/",
          "height": 808
        },
        "id": "YvcX6cKklAEW",
        "outputId": "15f5ffac-ec39-4861-e584-cc353189123b"
      },
      "source": [
        "#Plot all configurations for tradeoff\n",
        "\n",
        "import matplotlib.pyplot as plt\n",
        "\n",
        "plt.figure()\n",
        "plt.title('Score')\n",
        "plt.plot(models, scores)\n",
        "plt.grid()\n",
        "plt.show()\n",
        "\n",
        "plt.figure()\n",
        "plt.title('Time')\n",
        "plt.plot(models, times)\n",
        "plt.grid()\n",
        "plt.show()\n",
        "\n",
        "plt.figure()\n",
        "plt.title('Dimension')\n",
        "plt.plot(models, dimensions)\n",
        "plt.grid()\n",
        "plt.show()"
      ],
      "execution_count": null,
      "outputs": [
        {
          "output_type": "display_data",
          "data": {
            "image/png": "[encoded data removed]",
            "text/plain": [
              "<Figure size 432x288 with 1 Axes>"
            ]
          },
          "metadata": {
            "tags": [],
            "needs_background": "light"
          }
        },
        {
          "output_type": "display_data",
          "data": {
            "image/png": "[encoded data removed]",
            "text/plain": [
              "<Figure size 432x288 with 1 Axes>"
            ]
          },
          "metadata": {
            "tags": [],
            "needs_background": "light"
          }
        },
        {
          "output_type": "display_data",
          "data": {
            "image/png": "[encoded data removed]",
            "text/plain": [
              "<Figure size 432x288 with 1 Axes>"
            ]
          },
          "metadata": {
            "tags": [],
            "needs_background": "light"
          }
        }
      ]
    },
    {
      "cell_type": "code",
      "metadata": {
        "colab": {
          "base_uri": "https://localhost:8080/"
        },
        "id": "--ecO7rWl8SV",
        "outputId": "39966ec1-36a4-46ae-eef0-c6d2af72cf03"
      },
      "source": [
        "# Percentage gain in performance with respect to baseline\n",
        "def get_perc_gain(final_results):\n",
        "  base_acc = scores[0]\n",
        "  base_time = times[0]\n",
        "  base_dim = dimensions[0]\n",
        "\n",
        "  perc_acc_gain = -100 * (1 - final_results[0] / base_acc)\n",
        "  perc_time_gain = -100 * (1 - final_results[1] / base_time)\n",
        "  perc_dim_gain = -100 * (1 - final_results[2] / base_dim)\n",
        "\n",
        "  '''\n",
        "  print('Opt model accuracy: ' + str(final_results[0]))\n",
        "  print('Baseline accuracy: ' + str(base_acc))\n",
        "  print('Opt model time: ' + str(final_results[1]))\n",
        "  print('Baseline time: ' + str(base_time))\n",
        "  print('Opt model dimension: ' + str(final_results[2]))\n",
        "  print('Baseline dimension: ' + str(base_dim))\n",
        "  print('\\n')\n",
        "  '''\n",
        "\n",
        "  print('Accuracy gain flat: ' + str(round(final_results[0] - base_acc, 3)) + ' %' )\n",
        "  print('Accuracy gain percentage: ' + str(round(perc_acc_gain, 2)) + ' %' )\n",
        "\n",
        "  print('Time gain flat: ' + str(round(final_results[1] - base_time, 2)) + ' s' )\n",
        "  print('Time gain percentage: ' + str(round(perc_time_gain, 2)) + ' %')\n",
        "\n",
        "  print('Dimension gain flat: ' + str(final_results[2] - base_dim) + ' Mb' )\n",
        "  print('Dimension gain percentage: ' + str(round(perc_dim_gain, 2)) + ' %')\n",
        "  print('\\n')\n",
        "\n",
        "print('rqp model')\n",
        "get_perc_gain(rqp_results)\n",
        "print('rpq model')\n",
        "get_perc_gain(rpq_results)\n",
        "print('q model')\n",
        "get_perc_gain(quantized_results)\n"
      ],
      "execution_count": null,
      "outputs": [
        {
          "output_type": "stream",
          "text": [
            "rqp model\n",
            "Accuracy gain flat: -0.001 %\n",
            "Accuracy gain percentage: -0.1 %\n",
            "Time gain flat: -0.74 s\n",
            "Time gain percentage: -51.48 %\n",
            "Dimension gain flat: -14.0 Mb\n",
            "Dimension gain percentage: -73.68 %\n",
            "\n",
            "\n",
            "rpq model\n",
            "Accuracy gain flat: 0.003 %\n",
            "Accuracy gain percentage: 0.34 %\n",
            "Time gain flat: -0.13 s\n",
            "Time gain percentage: -9.26 %\n",
            "Dimension gain flat: -12.3 Mb\n",
            "Dimension gain percentage: -64.74 %\n",
            "\n",
            "\n",
            "q model\n",
            "Accuracy gain flat: -0.001 %\n",
            "Accuracy gain percentage: -0.08 %\n",
            "Time gain flat: -0.51 s\n",
            "Time gain percentage: -35.76 %\n",
            "Dimension gain flat: -12.3 Mb\n",
            "Dimension gain percentage: -64.74 %\n",
            "\n",
            "\n"
          ],
          "name": "stdout"
        }
      ]
    },
    {
      "cell_type": "code",
      "metadata": {
        "colab": {
          "base_uri": "https://localhost:8080/"
        },
        "id": "OQxaE52Y94JH",
        "outputId": "ea640752-57e0-40d4-aa52-afff7c7915de"
      },
      "source": [
        "# number of params gain\n",
        "model = tf.keras.models.load_model(\"./fashion_mnist_model.tf\") \n",
        "param_gain = rqp_model.count_params() - model.count_params()\n",
        "perc_param_gain = str(round(-100 * (1 - rqp_model.count_params() / model.count_params()), 2))\n",
        "\n",
        "print('Number of parameters flat gain: ' + str(param_gain))\n",
        "print('Number of parameters perc gain: ' + str(perc_param_gain) + '%')"
      ],
      "execution_count": 62,
      "outputs": [
        {
          "output_type": "stream",
          "text": [
            "Number of parameters flat gain: -1213184\n",
            "Number of parameters perc gain: -74.91%\n"
          ],
          "name": "stdout"
        }
      ]
    },
    {
      "cell_type": "code",
      "metadata": {
        "id": "1AmAkGP1-I8k"
      },
      "source": [
        ""
      ],
      "execution_count": null,
      "outputs": []
    },
    {
      "cell_type": "markdown",
      "metadata": {
        "id": "wvKrG1FPb09e"
      },
      "source": [
        "**CHOICE** <br>\n",
        "The best solutions are:\n",
        "- q: we drop it because it does not reduce the number of parameters\n",
        "- rqp: best performance for Time and Dim but Accuracy is (slightly) lower than rpq\n",
        "- rpq: less efficient in terms of Time and Dim when compared to rqp but higher Accuracy\n",
        "\n",
        "We choose **rqp** model as it has the overall best performance in Time and Dimension while having a relatively small amount of accuracy loss(<0.01%) when compared to rpq. We choose to give more emphasis to the Time parameter as we run the model on a mobile.\n",
        "\n",
        "The final (optimized) model performace when compared to baseline (for percentages look at previous cells):\n",
        "- Accuracy gain flat: -0.001 %\n",
        "- Time gain flat: -0.51 s\n",
        "- Dimension gain flat: -12.3 Mb\n",
        "- Parameter number gain flat:  -1,213,184"
      ]
    },
    {
      "cell_type": "code",
      "metadata": {
        "id": "FWhfsUACoTTu"
      },
      "source": [
        "# Save the chosen model - rqp\n",
        "rqp_model.save('final_model.tf')\n",
        "final_model = tf.keras.models.load_model(\"./final_model.tf\")\n",
        "final_model.save('final_model.h5')"
      ],
      "execution_count": null,
      "outputs": []
    },
    {
      "cell_type": "code",
      "metadata": {
        "colab": {
          "base_uri": "https://localhost:8080/"
        },
        "id": "e7FhEyjniPKs",
        "outputId": "29827083-f354-44bc-da5c-70755e4a2b44"
      },
      "source": [
        "final_model.summary()"
      ],
      "execution_count": null,
      "outputs": [
        {
          "output_type": "stream",
          "text": [
            "Model: \"sequential_3\"\n",
            "_________________________________________________________________\n",
            "Layer (type)                 Output Shape              Param #   \n",
            "=================================================================\n",
            "batch_normalization_9 (Batch (None, 28, 28, 1)         4         \n",
            "_________________________________________________________________\n",
            "conv2d_9 (Conv2D)            (None, 28, 28, 32)        832       \n",
            "_________________________________________________________________\n",
            "max_pooling2d_9 (MaxPooling2 (None, 14, 14, 32)        0         \n",
            "_________________________________________________________________\n",
            "dropout_12 (Dropout)         (None, 14, 14, 32)        0         \n",
            "_________________________________________________________________\n",
            "batch_normalization_10 (Batc (None, 14, 14, 32)        128       \n",
            "_________________________________________________________________\n",
            "conv2d_10 (Conv2D)           (None, 14, 14, 64)        51264     \n",
            "_________________________________________________________________\n",
            "max_pooling2d_10 (MaxPooling (None, 7, 7, 64)          0         \n",
            "_________________________________________________________________\n",
            "dropout_13 (Dropout)         (None, 7, 7, 64)          0         \n",
            "_________________________________________________________________\n",
            "batch_normalization_11 (Batc (None, 7, 7, 64)          256       \n",
            "_________________________________________________________________\n",
            "conv2d_11 (Conv2D)           (None, 7, 7, 128)         204928    \n",
            "_________________________________________________________________\n",
            "max_pooling2d_11 (MaxPooling (None, 3, 3, 128)         0         \n",
            "_________________________________________________________________\n",
            "dropout_14 (Dropout)         (None, 3, 3, 128)         0         \n",
            "_________________________________________________________________\n",
            "flatten_3 (Flatten)          (None, 1152)              0         \n",
            "_________________________________________________________________\n",
            "dense_6 (Dense)              (None, 128)               147584    \n",
            "_________________________________________________________________\n",
            "activation_6 (Activation)    (None, 128)               0         \n",
            "_________________________________________________________________\n",
            "dropout_15 (Dropout)         (None, 128)               0         \n",
            "_________________________________________________________________\n",
            "dense_7 (Dense)              (None, 10)                1290      \n",
            "_________________________________________________________________\n",
            "activation_7 (Activation)    (None, 10)                0         \n",
            "=================================================================\n",
            "Total params: 406,286\n",
            "Trainable params: 406,092\n",
            "Non-trainable params: 194\n",
            "_________________________________________________________________\n"
          ],
          "name": "stdout"
        }
      ]
    },
    {
      "cell_type": "code",
      "metadata": {
        "id": "chrZ2MlqbeGn",
        "colab": {
          "base_uri": "https://localhost:8080/",
          "height": 51
        },
        "outputId": "43d2f2c0-d9bd-41ab-ebea-6c658d15f916"
      },
      "source": [
        "#Plot the tradeoff as percentage gain when compared to baseline\n",
        "'''\n",
        "base_acc = scores[0]\n",
        "base_time = times[0]\n",
        "base_dim = dimensions[0]\n",
        "for i, v in enumerate(scores):\n",
        "  scores[i] = 1 - float(scores[i]/base_acc)\n",
        "  times[i] = 1 - float(times[i]/base_time)\n",
        "  dimensions[i] = 1 - float(dimensions[i]/base_dim)\n",
        "'''"
      ],
      "execution_count": null,
      "outputs": [
        {
          "output_type": "execute_result",
          "data": {
            "application/vnd.google.colaboratory.intrinsic+json": {
              "type": "string"
            },
            "text/plain": [
              "'\\nbase_acc = scores[0]\\nbase_time = times[0]\\nbase_dim = dimensions[0]\\nfor i, v in enumerate(scores):\\n  scores[i] = 1 - float(scores[i]/base_acc)\\n  times[i] = 1 - float(times[i]/base_time)\\n  dimensions[i] = 1 - float(dimensions[i]/base_dim)\\n'"
            ]
          },
          "metadata": {
            "tags": []
          },
          "execution_count": 44
        }
      ]
    },
    {
      "cell_type": "markdown",
      "metadata": {
        "id": "XKpph2JwflRj"
      },
      "source": [
        "**PHASE 4 - COREML**"
      ]
    },
    {
      "cell_type": "code",
      "metadata": {
        "colab": {
          "base_uri": "https://localhost:8080/"
        },
        "id": "eLlb0pfgqYS4",
        "outputId": "28c71317-64c9-4ba2-eeaa-b903f8f3bea7"
      },
      "source": [
        "!pip install coremltools"
      ],
      "execution_count": null,
      "outputs": [
        {
          "output_type": "stream",
          "text": [
            "Requirement already satisfied: coremltools in /usr/local/lib/python3.7/dist-packages (4.1)\n",
            "Requirement already satisfied: numpy<1.20,>=1.14.5 in /usr/local/lib/python3.7/dist-packages (from coremltools) (1.19.5)\n",
            "Requirement already satisfied: six>=1.10.0 in /usr/local/lib/python3.7/dist-packages (from coremltools) (1.15.0)\n",
            "Requirement already satisfied: sympy in /usr/local/lib/python3.7/dist-packages (from coremltools) (1.7.1)\n",
            "Requirement already satisfied: scipy in /usr/local/lib/python3.7/dist-packages (from coremltools) (1.4.1)\n",
            "Requirement already satisfied: packaging in /usr/local/lib/python3.7/dist-packages (from coremltools) (20.9)\n",
            "Requirement already satisfied: protobuf>=3.1.0 in /usr/local/lib/python3.7/dist-packages (from coremltools) (3.12.4)\n",
            "Requirement already satisfied: attrs in /usr/local/lib/python3.7/dist-packages (from coremltools) (21.2.0)\n",
            "Requirement already satisfied: attr in /usr/local/lib/python3.7/dist-packages (from coremltools) (0.3.1)\n",
            "Requirement already satisfied: tqdm in /usr/local/lib/python3.7/dist-packages (from coremltools) (4.41.1)\n",
            "Requirement already satisfied: mpmath>=0.19 in /usr/local/lib/python3.7/dist-packages (from sympy->coremltools) (1.2.1)\n",
            "Requirement already satisfied: pyparsing>=2.0.2 in /usr/local/lib/python3.7/dist-packages (from packaging->coremltools) (2.4.7)\n",
            "Requirement already satisfied: setuptools in /usr/local/lib/python3.7/dist-packages (from protobuf>=3.1.0->coremltools) (56.1.0)\n"
          ],
          "name": "stdout"
        }
      ]
    },
    {
      "cell_type": "code",
      "metadata": {
        "id": "z5_WGK2HnXoH"
      },
      "source": [
        "import coremltools as ct "
      ],
      "execution_count": null,
      "outputs": []
    },
    {
      "cell_type": "code",
      "metadata": {
        "colab": {
          "base_uri": "https://localhost:8080/"
        },
        "id": "0QImFEeGgua4",
        "outputId": "8ac456e7-2077-434e-d3d2-afb4a33f907e"
      },
      "source": [
        "# Convert TF model to CoreML\n",
        "cml_model = ct.convert('final_model.h5')"
      ],
      "execution_count": null,
      "outputs": [
        {
          "output_type": "stream",
          "text": [
            "Running TensorFlow Graph Passes: 100%|██████████| 5/5 [00:00<00:00, 11.12 passes/s]\n",
            "Converting Frontend ==> MIL Ops: 100%|██████████| 47/47 [00:00<00:00, 1373.49 ops/s]\n",
            "Running MIL optimization passes: 100%|██████████| 18/18 [00:00<00:00, 400.76 passes/s]\n",
            "Translating MIL ==> MLModel Ops: 100%|██████████| 79/79 [00:00<00:00, 1451.06 ops/s]\n"
          ],
          "name": "stderr"
        }
      ]
    },
    {
      "cell_type": "code",
      "metadata": {
        "id": "wPJnejfCeCW4"
      },
      "source": [
        "# Change input and output names\n",
        "spec = cml_model.get_spec()\n",
        "\n",
        "ct.utils.rename_feature(spec, 'batch_normalization_9_input', 'input_image')\n",
        "ct.utils.rename_feature(spec, 'Identity', 'output')\n",
        "cml_model = ct.models.MLModel(spec)"
      ],
      "execution_count": null,
      "outputs": []
    },
    {
      "cell_type": "code",
      "metadata": {
        "id": "QC3bxW9iiHIU"
      },
      "source": [
        "# Save final model\n",
        "cml_model.save(\"final_model_cml.mlmodel\")"
      ],
      "execution_count": null,
      "outputs": []
    },
    {
      "cell_type": "code",
      "metadata": {
        "colab": {
          "base_uri": "https://localhost:8080/"
        },
        "id": "laQuobRqid6N",
        "outputId": "e30ab9c7-40ec-4fc4-9566-f7efbe6831dd"
      },
      "source": [
        "cml_model"
      ],
      "execution_count": null,
      "outputs": [
        {
          "output_type": "execute_result",
          "data": {
            "text/plain": [
              "input {\n",
              "  name: \"input_image\"\n",
              "  type {\n",
              "    multiArrayType {\n",
              "      shape: 1\n",
              "      shape: 28\n",
              "      shape: 28\n",
              "      shape: 1\n",
              "      dataType: FLOAT32\n",
              "      shapeRange {\n",
              "        sizeRanges {\n",
              "          lowerBound: 1\n",
              "          upperBound: -1\n",
              "        }\n",
              "        sizeRanges {\n",
              "          lowerBound: 28\n",
              "          upperBound: 28\n",
              "        }\n",
              "        sizeRanges {\n",
              "          lowerBound: 28\n",
              "          upperBound: 28\n",
              "        }\n",
              "        sizeRanges {\n",
              "          lowerBound: 1\n",
              "          upperBound: 1\n",
              "        }\n",
              "      }\n",
              "    }\n",
              "  }\n",
              "}\n",
              "output {\n",
              "  name: \"output\"\n",
              "  type {\n",
              "    multiArrayType {\n",
              "      dataType: FLOAT32\n",
              "    }\n",
              "  }\n",
              "}\n",
              "metadata {\n",
              "  userDefined {\n",
              "    key: \"com.github.apple.coremltools.source\"\n",
              "    value: \"tensorflow==2.5.0\"\n",
              "  }\n",
              "  userDefined {\n",
              "    key: \"com.github.apple.coremltools.version\"\n",
              "    value: \"4.1\"\n",
              "  }\n",
              "}"
            ]
          },
          "metadata": {
            "tags": []
          },
          "execution_count": 50
        }
      ]
    },
    {
      "cell_type": "code",
      "metadata": {
        "colab": {
          "base_uri": "https://localhost:8080/",
          "height": 67
        },
        "id": "HPwKGTq7_l0A",
        "outputId": "d2f696c6-95d0-433c-912a-ef9c8f5384c0"
      },
      "source": [
        "'''\n",
        "# Define the input type as image, \n",
        "# set pre-processing parameters to normalize the image \n",
        "# to have its values in the interval [-1,1] \n",
        "# as expected by the mobilenet model\n",
        "image_input = ct.ImageType(shape=(1, 28, 28, 1,),\n",
        "                           bias=[-1,-1,-1], scale=1/127)\n",
        "\n",
        "# set class labels\n",
        "classifier_config = ct.ClassifierConfig(class_labels)\n",
        "\n",
        "# Convert the model using the Unified Conversion API\n",
        "model = ct.convert(\n",
        "    final_model, inputs=[image_input], classifier_config=classifier_config,\n",
        ")\n",
        "'''"
      ],
      "execution_count": null,
      "outputs": [
        {
          "output_type": "execute_result",
          "data": {
            "application/vnd.google.colaboratory.intrinsic+json": {
              "type": "string"
            },
            "text/plain": [
              "'\\n# Define the input type as image, \\n# set pre-processing parameters to normalize the image \\n# to have its values in the interval [-1,1] \\n# as expected by the mobilenet model\\nimage_input = ct.ImageType(shape=(1, 28, 28, 1,),\\n                           bias=[-1,-1,-1], scale=1/127)\\n\\n# set class labels\\nclassifier_config = ct.ClassifierConfig(class_labels)\\n\\n# Convert the model using the Unified Conversion API\\nmodel = ct.convert(\\n    final_model, inputs=[image_input], classifier_config=classifier_config,\\n)\\n'"
            ]
          },
          "metadata": {
            "tags": []
          },
          "execution_count": 37
        }
      ]
    }
  ]
}
